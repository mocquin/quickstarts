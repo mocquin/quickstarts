{
 "cells": [
  {
   "cell_type": "code",
   "execution_count": 2,
   "metadata": {},
   "outputs": [
    {
     "name": "stdout",
     "output_type": "stream",
     "text": [
      "Collecting uncertainties\n",
      "\u001b[?25l  Downloading https://files.pythonhosted.org/packages/b0/e0/fc200da8190729dcb685ae4877ed6936d31d64aeccb8cc355d9ec982681d/uncertainties-3.1.4-py2.py3-none-any.whl (246kB)\n",
      "\u001b[K     |████████████████████████████████| 256kB 1.0MB/s eta 0:00:01\n",
      "\u001b[?25hRequirement already satisfied: future in /opt/anaconda3/lib/python3.7/site-packages (from uncertainties) (0.18.2)\n",
      "Installing collected packages: uncertainties\n",
      "Successfully installed uncertainties-3.1.4\n"
     ]
    }
   ],
   "source": [
    "!pip install uncertainties"
   ]
  },
  {
   "cell_type": "markdown",
   "metadata": {},
   "source": [
    " - doc : https://pythonhosted.org/uncertainties/\n",
    " - doc : https://uncertainties-python-package.readthedocs.io/en/latest/\n",
    " - repo : https://github.com/lebigot/uncertainties/"
   ]
  },
  {
   "cell_type": "markdown",
   "metadata": {},
   "source": [
    "see also  soerp and mcerp"
   ]
  },
  {
   "cell_type": "code",
   "execution_count": 1,
   "metadata": {},
   "outputs": [],
   "source": [
    "import uncertainties\n",
    "from uncertainties import ufloat"
   ]
  },
  {
   "cell_type": "code",
   "execution_count": 2,
   "metadata": {},
   "outputs": [
    {
     "name": "stdout",
     "output_type": "stream",
     "text": [
      "180.000+/-0.020\n",
      "180.000+/-0.020\n"
     ]
    }
   ],
   "source": [
    "taille = uncertainties.ufloat(180, 0.02, tag=\"taille\")\n",
    "print(taille)\n",
    "print(taille)"
   ]
  },
  {
   "cell_type": "code",
   "execution_count": 3,
   "metadata": {},
   "outputs": [
    {
     "name": "stdout",
     "output_type": "stream",
     "text": [
      "180.0\n",
      "180.0\n",
      "0.02\n",
      "0.02\n",
      "taille\n",
      "<class 'uncertainties.core.AffineScalarFunc.dtype'>\n",
      "180.00+/-0.02\n",
      "{< taille = 180.0+/-0.02 >: 0.02}\n",
      "50.0\n",
      "{< taille = 180.0+/-0.02 >: 1.0}\n"
     ]
    }
   ],
   "source": [
    "print(taille.n)\n",
    "print(taille.nominal_value)\n",
    "\n",
    "print(taille.s)\n",
    "print(taille.std_dev)\n",
    "\n",
    "# nom de la variable\n",
    "print(taille.tag)\n",
    "\n",
    "print(taille.dtype)\n",
    "\n",
    "# mise en forme de l'affichage\n",
    "print(taille.format(\":.2f\"))\n",
    "\n",
    "\n",
    "print(taille.error_components())\n",
    "\n",
    "\n",
    "# renvoi la distance en sigma entre la valeur nominale et cette valeur\n",
    "print(taille.std_score(181))\n",
    "\n",
    "\n",
    "print(taille.derivatives)"
   ]
  },
  {
   "cell_type": "code",
   "execution_count": 4,
   "metadata": {},
   "outputs": [
    {
     "name": "stdout",
     "output_type": "stream",
     "text": [
      "182.000+/-0.028\n",
      "defaultdict(None, {< taille = 180.0+/-0.02 >: 1.0, < stand = 2.0+/-0.02 >: 1.0})\n",
      "{< taille = 180.0+/-0.02 >: 0.02, < stand = 2.0+/-0.02 >: 0.02}\n"
     ]
    }
   ],
   "source": [
    "stand = uncertainties.ufloat(2, 0.02, tag=\"stand\")\n",
    "\n",
    "total = stand + taille\n",
    "\n",
    "print(total)\n",
    "\n",
    "print(total.derivatives)\n",
    "\n",
    "print(total.error_components())"
   ]
  },
  {
   "cell_type": "code",
   "execution_count": 5,
   "metadata": {},
   "outputs": [
    {
     "data": {
      "text/plain": [
       "0.0282842712474619"
      ]
     },
     "execution_count": 5,
     "metadata": {},
     "output_type": "execute_result"
    }
   ],
   "source": [
    "import math\n",
    "math.sqrt(0.02**2+0.02**2)"
   ]
  },
  {
   "cell_type": "code",
   "execution_count": 6,
   "metadata": {},
   "outputs": [
    {
     "name": "stdout",
     "output_type": "stream",
     "text": [
      "-178.000+/-0.028\n",
      "{< taille = 180.0+/-0.02 >: 0.02, < stand = 2.0+/-0.02 >: 0.02}\n",
      "defaultdict(None, {< taille = 180.0+/-0.02 >: -1.0, < stand = 2.0+/-0.02 >: 1.0})\n"
     ]
    }
   ],
   "source": [
    "# subs\n",
    "diff = stand - taille\n",
    "print(diff)\n",
    "print(diff.error_components())\n",
    "print(diff.derivatives)"
   ]
  },
  {
   "cell_type": "code",
   "execution_count": 7,
   "metadata": {},
   "outputs": [
    {
     "name": "stdout",
     "output_type": "stream",
     "text": [
      "360.00+/-0.04\n",
      "{< taille = 180.0+/-0.02 >: 0.04}\n",
      "defaultdict(None, {< taille = 180.0+/-0.02 >: 2.0})\n"
     ]
    }
   ],
   "source": [
    "# mul\n",
    "double = 2*taille\n",
    "print(double)\n",
    "print(double.error_components())\n",
    "print(double.derivatives)"
   ]
  },
  {
   "cell_type": "code",
   "execution_count": 8,
   "metadata": {},
   "outputs": [
    {
     "name": "stdout",
     "output_type": "stream",
     "text": [
      "90.000+/-0.010\n",
      "{< taille = 180.0+/-0.02 >: 0.01}\n",
      "defaultdict(None, {< taille = 180.0+/-0.02 >: 0.5})\n"
     ]
    }
   ],
   "source": [
    "# div\n",
    "half = taille/2\n",
    "print(half)\n",
    "print(half.error_components())\n",
    "print(half.derivatives)"
   ]
  },
  {
   "cell_type": "code",
   "execution_count": 9,
   "metadata": {},
   "outputs": [
    {
     "name": "stdout",
     "output_type": "stream",
     "text": [
      "32400+/-7\n",
      "{< taille = 180.0+/-0.02 >: 7.2}\n",
      "defaultdict(None, {< taille = 180.0+/-0.02 >: 360.0})\n"
     ]
    },
    {
     "data": {
      "text/plain": [
       "1.0+/-3.0"
      ]
     },
     "execution_count": 9,
     "metadata": {},
     "output_type": "execute_result"
    }
   ],
   "source": [
    "# pow\n",
    "powered = taille**2\n",
    "print(powered)\n",
    "print(powered.error_components())\n",
    "print(powered.derivatives)\n",
    "\n",
    "\n",
    "uncertainties.ufloat(1, 1)**3"
   ]
  },
  {
   "cell_type": "code",
   "execution_count": 10,
   "metadata": {},
   "outputs": [
    {
     "name": "stdout",
     "output_type": "stream",
     "text": [
      "True\n",
      "False\n"
     ]
    }
   ],
   "source": [
    "# eq\n",
    "print(double == 2*taille)\n",
    "print(ufloat(3.14, 1) == ufloat(3.14, 1))"
   ]
  },
  {
   "cell_type": "code",
   "execution_count": 11,
   "metadata": {},
   "outputs": [
    {
     "name": "stdout",
     "output_type": "stream",
     "text": [
      "True\n",
      "False\n",
      "True\n",
      "True\n",
      "True\n",
      "True\n",
      "True\n"
     ]
    }
   ],
   "source": [
    "# le\n",
    "print(double <= 2*taille)\n",
    "print(double < 2*taille)\n",
    "\n",
    "\n",
    "x = ufloat(3.14, 0.01)\n",
    "y = ufloat(3.00, 0.01)\n",
    "print(x > y)\n",
    "z = ufloat(3.13, 0.01)\n",
    "print(x > z)\n",
    "a = ufloat(3.139, 0.01)\n",
    "print(x > a)\n",
    "\n",
    "\n",
    "x = ufloat(3, 0.01)\n",
    "y = ufloat(3.0001, 0.01)\n",
    "print(x <y)\n",
    "\n",
    "# correlated comparison\n",
    "x = ufloat(3, 1)\n",
    "y = x + 0.0002\n",
    "print(y > x)"
   ]
  },
  {
   "cell_type": "code",
   "execution_count": 13,
   "metadata": {},
   "outputs": [
    {
     "ename": "TypeError",
     "evalue": "can't convert an affine function (<class 'uncertainties.core.Variable'>) to float; use x.nominal_value",
     "output_type": "error",
     "traceback": [
      "\u001b[0;31m---------------------------------------------------------------------------\u001b[0m",
      "\u001b[0;31mTypeError\u001b[0m                                 Traceback (most recent call last)",
      "\u001b[0;32m<ipython-input-13-a2130a3b3298>\u001b[0m in \u001b[0;36m<module>\u001b[0;34m\u001b[0m\n\u001b[1;32m      2\u001b[0m \u001b[0mtheta\u001b[0m \u001b[0;34m=\u001b[0m \u001b[0muncertainties\u001b[0m\u001b[0;34m.\u001b[0m\u001b[0mufloat\u001b[0m\u001b[0;34m(\u001b[0m\u001b[0;36m0\u001b[0m\u001b[0;34m,\u001b[0m \u001b[0;36m0.01\u001b[0m\u001b[0;34m)\u001b[0m\u001b[0;34m\u001b[0m\u001b[0;34m\u001b[0m\u001b[0m\n\u001b[1;32m      3\u001b[0m \u001b[0;34m\u001b[0m\u001b[0m\n\u001b[0;32m----> 4\u001b[0;31m \u001b[0mmath\u001b[0m\u001b[0;34m.\u001b[0m\u001b[0msin\u001b[0m\u001b[0;34m(\u001b[0m\u001b[0mtheta\u001b[0m\u001b[0;34m)\u001b[0m\u001b[0;34m\u001b[0m\u001b[0;34m\u001b[0m\u001b[0m\n\u001b[0m",
      "\u001b[0;32m/opt/anaconda3/lib/python3.7/site-packages/uncertainties/core.py\u001b[0m in \u001b[0;36mraise_error\u001b[0;34m(self)\u001b[0m\n\u001b[1;32m   2687\u001b[0m                             \u001b[0;34m' to %s; use x.nominal_value'\u001b[0m\u001b[0;34m\u001b[0m\u001b[0;34m\u001b[0m\u001b[0m\n\u001b[1;32m   2688\u001b[0m                             \u001b[0;31m# In case AffineScalarFunc is sub-classed:\u001b[0m\u001b[0;34m\u001b[0m\u001b[0;34m\u001b[0m\u001b[0;34m\u001b[0m\u001b[0m\n\u001b[0;32m-> 2689\u001b[0;31m                             % (self.__class__, coercion_type))\n\u001b[0m\u001b[1;32m   2690\u001b[0m \u001b[0;34m\u001b[0m\u001b[0m\n\u001b[1;32m   2691\u001b[0m         \u001b[0msetattr\u001b[0m\u001b[0;34m(\u001b[0m\u001b[0mAffineScalarFunc\u001b[0m\u001b[0;34m,\u001b[0m \u001b[0;34m'__%s__'\u001b[0m \u001b[0;34m%\u001b[0m \u001b[0mcoercion_type\u001b[0m\u001b[0;34m,\u001b[0m \u001b[0mraise_error\u001b[0m\u001b[0;34m)\u001b[0m\u001b[0;34m\u001b[0m\u001b[0;34m\u001b[0m\u001b[0m\n",
      "\u001b[0;31mTypeError\u001b[0m: can't convert an affine function (<class 'uncertainties.core.Variable'>) to float; use x.nominal_value"
     ]
    }
   ],
   "source": [
    "import math\n",
    "theta = uncertainties.ufloat(0, 0.01)\n",
    "math.sin(theta)"
   ]
  },
  {
   "cell_type": "code",
   "execution_count": 12,
   "metadata": {},
   "outputs": [
    {
     "name": "stdout",
     "output_type": "stream",
     "text": [
      "0.000+/-0.010\n",
      "1.0+/-0\n",
      "0.000+/-0.010\n"
     ]
    }
   ],
   "source": [
    "# sin, cos, tan\n",
    "from uncertainties import umath\n",
    "theta = uncertainties.ufloat(0, 0.01)\n",
    "print(uncertainties.umath.sin(theta))\n",
    "print(uncertainties.umath.cos(theta))\n",
    "print(uncertainties.umath.tan(theta))"
   ]
  },
  {
   "cell_type": "code",
   "execution_count": 13,
   "metadata": {},
   "outputs": [
    {
     "name": "stdout",
     "output_type": "stream",
     "text": [
      "0.0+/-nan\n",
      "0.0+/-nan\n"
     ]
    }
   ],
   "source": [
    "# sqrt\n",
    "print(uncertainties.umath.sqrt(uncertainties.ufloat(0, 1)))\n",
    "print(uncertainties.umath.sqrt(uncertainties.ufloat(0, 1)))"
   ]
  },
  {
   "cell_type": "code",
   "execution_count": 14,
   "metadata": {},
   "outputs": [
    {
     "name": "stdout",
     "output_type": "stream",
     "text": [
      "False\n",
      "True\n",
      "True\n"
     ]
    }
   ],
   "source": [
    "# bool\n",
    "print(bool(uncertainties.ufloat(0, 0)))\n",
    "print(bool(uncertainties.ufloat(0, 1)))\n",
    "print(bool(uncertainties.ufloat(1, 0)))\n"
   ]
  },
  {
   "cell_type": "code",
   "execution_count": 15,
   "metadata": {},
   "outputs": [
    {
     "name": "stdout",
     "output_type": "stream",
     "text": [
      "1.0\n",
      "2.0\n"
     ]
    }
   ],
   "source": [
    "# derivative\n",
    "u = ufloat(1, 0.1)\n",
    "v = ufloat(10, 0.1)\n",
    "sum_value = u+2*v\n",
    "print(sum_value.derivatives[u])\n",
    "print(sum_value.derivatives[v])\n"
   ]
  },
  {
   "cell_type": "code",
   "execution_count": null,
   "metadata": {},
   "outputs": [],
   "source": []
  }
 ],
 "metadata": {
  "kernelspec": {
   "display_name": "Python 3",
   "language": "python",
   "name": "python3"
  },
  "language_info": {
   "codemirror_mode": {
    "name": "ipython",
    "version": 3
   },
   "file_extension": ".py",
   "mimetype": "text/x-python",
   "name": "python",
   "nbconvert_exporter": "python",
   "pygments_lexer": "ipython3",
   "version": "3.7.4"
  }
 },
 "nbformat": 4,
 "nbformat_minor": 4
}
