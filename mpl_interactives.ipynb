{
 "cells": [
  {
   "cell_type": "markdown",
   "metadata": {},
   "source": [
    "# Ressources"
   ]
  },
  {
   "cell_type": "markdown",
   "metadata": {},
   "source": [
    " - repo : https://github.com/ianhi/mpl-interactions\n",
    " - binder : https://mybinder.org/v2/gh/ianhi/mpl-interactions/master?urlpath=lab\n",
    " - doc : https://mpl-interactions.readthedocs.io/en/latest/#"
   ]
  },
  {
   "cell_type": "markdown",
   "metadata": {},
   "source": [
    "Notes : \n",
    " - https://mpl-interactions.readthedocs.io/en/latest/Backends.html#further-options not working in jlab"
   ]
  },
  {
   "cell_type": "markdown",
   "metadata": {},
   "source": [
    "# Installation\n",
    "\n",
    "`pip install mpl_interactions`\n",
    "\n",
    "If using jupyterlab\n",
    "```\n",
    "conda install -c conda-forge nodejs=13\n",
    "jupyter labextension install @jupyter-widgets/jupyterlab-manager```"
   ]
  },
  {
   "cell_type": "code",
   "execution_count": 1,
   "metadata": {},
   "outputs": [],
   "source": [
    "%matplotlib ipympl"
   ]
  },
  {
   "cell_type": "markdown",
   "metadata": {},
   "source": [
    "# Examples"
   ]
  },
  {
   "cell_type": "markdown",
   "metadata": {},
   "source": [
    "# Basic comparison to matplotlib+ipywidgets"
   ]
  },
  {
   "cell_type": "markdown",
   "metadata": {},
   "source": [
    "Simplets using ipywdidgets :"
   ]
  },
  {
   "cell_type": "code",
   "execution_count": 1,
   "metadata": {},
   "outputs": [],
   "source": [
    "%matplotlib ipympl"
   ]
  },
  {
   "cell_type": "code",
   "execution_count": 4,
   "metadata": {},
   "outputs": [
    {
     "data": {
      "application/vnd.jupyter.widget-view+json": {
       "model_id": "bf6aac22346f449fa9ebefdcdead96a5",
       "version_major": 2,
       "version_minor": 0
      },
      "text/plain": [
       "interactive(children=(FloatSlider(value=5.2, description='tau', max=10.0, min=0.5), FloatSlider(value=5.0, des…"
      ]
     },
     "metadata": {},
     "output_type": "display_data"
    },
    {
     "data": {
      "text/plain": [
       "<function __main__.wrapped_plot(tau, beta)>"
      ]
     },
     "execution_count": 4,
     "metadata": {},
     "output_type": "execute_result"
    }
   ],
   "source": [
    "import ipywidgets as ipyw\n",
    "import matplotlib.pyplot as plt\n",
    "import numpy as np\n",
    "\n",
    "x = np.linspace(0, np.pi, 100)\n",
    "\n",
    "def f1(x, tau, beta):\n",
    "   return np.sin(x * tau) * x * beta\n",
    "def f2(x, tau, beta):\n",
    "   return np.sin(x * beta) * x * tau\n",
    "\n",
    "\n",
    "def wrapped_plot(tau, beta):\n",
    "    fig, ax = plt.subplots()\n",
    "    plt.plot(x, f1(x, tau, beta), label=\"f1\")\n",
    "    plt.plot(x, f2(x, tau, beta), label=\"f2\")\n",
    "    _ = plt.legend()\n",
    "    plt.show()\n",
    "\n",
    "\n",
    "ipyw.interact(wrapped_plot, tau=(0.5, 10, 0.1), beta=(1, 10, 0.1))"
   ]
  },
  {
   "cell_type": "markdown",
   "metadata": {},
   "source": [
    "Using mpl_interactions : "
   ]
  },
  {
   "cell_type": "code",
   "execution_count": 5,
   "metadata": {},
   "outputs": [],
   "source": [
    "%matplotlib ipympl"
   ]
  },
  {
   "cell_type": "code",
   "execution_count": 6,
   "metadata": {},
   "outputs": [
    {
     "data": {
      "application/vnd.jupyter.widget-view+json": {
       "model_id": "6847b32cca0a46439901cf33d2bb9a37",
       "version_major": 2,
       "version_minor": 0
      },
      "text/plain": [
       "Canvas(toolbar=Toolbar(toolitems=[('Home', 'Reset original view', 'home', 'home'), ('Back', 'Back to previous …"
      ]
     },
     "metadata": {},
     "output_type": "display_data"
    },
    {
     "data": {
      "application/vnd.jupyter.widget-view+json": {
       "model_id": "ac0de4de749546c88d58a74dc8139bc7",
       "version_major": 2,
       "version_minor": 0
      },
      "text/plain": [
       "VBox(children=(HBox(children=(IntSlider(value=0, description='tau', max=99, readout=False), Label(value='0.50'…"
      ]
     },
     "metadata": {},
     "output_type": "display_data"
    }
   ],
   "source": [
    "import mpl_interactions.ipyplot as iplt\n",
    "import matplotlib.pyplot as plt\n",
    "import numpy as np\n",
    "\n",
    "x = np.linspace(0, np.pi, 100)\n",
    "tau = np.linspace(0.5, 10, 100)\n",
    "\n",
    "def f1(x, tau, beta):\n",
    "   return np.sin(x * tau) * x * beta\n",
    "def f2(x, tau, beta):\n",
    "   return np.sin(x * beta) * x * tau\n",
    "\n",
    "\n",
    "fig, ax = plt.subplots()\n",
    "controls = iplt.plot(x, f1, tau=tau, beta=(1, 10, 100), label=\"f1\")\n",
    "iplt.plot(x, f2, controls=controls, label=\"f2\")\n",
    "_ = plt.legend()\n",
    "plt.show()\n"
   ]
  },
  {
   "cell_type": "code",
   "execution_count": null,
   "metadata": {},
   "outputs": [],
   "source": []
  },
  {
   "cell_type": "markdown",
   "metadata": {},
   "source": [
    "### Force using mpl sliders"
   ]
  },
  {
   "cell_type": "code",
   "execution_count": 1,
   "metadata": {},
   "outputs": [],
   "source": [
    "%matplotlib ipympl"
   ]
  },
  {
   "cell_type": "code",
   "execution_count": 2,
   "metadata": {},
   "outputs": [
    {
     "data": {
      "application/vnd.jupyter.widget-view+json": {
       "model_id": "55bf87d98ed84abc9833ce682d3a682e",
       "version_major": 2,
       "version_minor": 0
      },
      "text/plain": [
       "Canvas(toolbar=Toolbar(toolitems=[('Home', 'Reset original view', 'home', 'home'), ('Back', 'Back to previous …"
      ]
     },
     "metadata": {},
     "output_type": "display_data"
    }
   ],
   "source": [
    "import matplotlib.pyplot as plt\n",
    "import numpy as np\n",
    "from matplotlib.widgets import Slider\n",
    "import mpl_interactions.ipyplot as iplt\n",
    "\n",
    "fig, ax = plt.subplots()\n",
    "plt.subplots_adjust(bottom=.25)\n",
    "x = np.linspace(0,2*np.pi,200)\n",
    "def f(x, freq):\n",
    "    return np.sin(x*freq)\n",
    "axfreq = plt.axes([0.25, 0.1, 0.65, 0.03])\n",
    "slider = Slider(axfreq,label='freq', valmin=.05, valmax = 10)\n",
    "controls = iplt.plot(x,f, freq=slider, use_ipywidgets=False, ax=ax)"
   ]
  },
  {
   "cell_type": "markdown",
   "metadata": {},
   "source": [
    "# mpl_interactions options"
   ]
  },
  {
   "cell_type": "markdown",
   "metadata": {},
   "source": [
    "## play button\n",
    "use `play_buttons=True` in plot function "
   ]
  },
  {
   "cell_type": "code",
   "execution_count": 7,
   "metadata": {},
   "outputs": [
    {
     "data": {
      "application/vnd.jupyter.widget-view+json": {
       "model_id": "96e8b21551ab4c2d8c05bfdd591155a5",
       "version_major": 2,
       "version_minor": 0
      },
      "text/plain": [
       "Canvas(toolbar=Toolbar(toolitems=[('Home', 'Reset original view', 'home', 'home'), ('Back', 'Back to previous …"
      ]
     },
     "metadata": {},
     "output_type": "display_data"
    },
    {
     "data": {
      "application/vnd.jupyter.widget-view+json": {
       "model_id": "ec93637a9f2e435eac1613b0ffd9973e",
       "version_major": 2,
       "version_minor": 0
      },
      "text/plain": [
       "VBox(children=(HBox(children=(Play(value=0, max=99), IntSlider(value=0, description='tau', max=99, readout=Fal…"
      ]
     },
     "metadata": {},
     "output_type": "display_data"
    }
   ],
   "source": [
    "import mpl_interactions.ipyplot as iplt\n",
    "import matplotlib.pyplot as plt\n",
    "import numpy as np\n",
    "\n",
    "x = np.linspace(0, np.pi, 100)\n",
    "tau = np.linspace(0.5, 10, 100)\n",
    "\n",
    "def f1(x, tau, beta):\n",
    "   return np.sin(x * tau) * x * beta\n",
    "def f2(x, tau, beta):\n",
    "   return np.sin(x * beta) * x * tau\n",
    "\n",
    "\n",
    "fig, ax = plt.subplots()\n",
    "controls = iplt.plot(x, f1, tau=tau, beta=(1, 10, 100), label=\"f1\", play_buttons=True)\n",
    "iplt.plot(x, f2, controls=controls, label=\"f2\")\n",
    "_ = plt.legend()\n",
    "plt.show()\n"
   ]
  },
  {
   "cell_type": "markdown",
   "metadata": {},
   "source": [
    "## title\n",
    "Add a dynamic title using : `title=\"the value of tau is: {tau:.2f}\"`\n",
    "Note this relies on string formatting but do not pass the string as a f-string"
   ]
  },
  {
   "cell_type": "code",
   "execution_count": 10,
   "metadata": {},
   "outputs": [
    {
     "data": {
      "application/vnd.jupyter.widget-view+json": {
       "model_id": "67910eb3526a4bee9aa611ad78d29568",
       "version_major": 2,
       "version_minor": 0
      },
      "text/plain": [
       "Canvas(toolbar=Toolbar(toolitems=[('Home', 'Reset original view', 'home', 'home'), ('Back', 'Back to previous …"
      ]
     },
     "metadata": {},
     "output_type": "display_data"
    },
    {
     "data": {
      "application/vnd.jupyter.widget-view+json": {
       "model_id": "ce813994fe9e4cd9b3a40acf6cac40d4",
       "version_major": 2,
       "version_minor": 0
      },
      "text/plain": [
       "VBox(children=(HBox(children=(IntSlider(value=0, description='tau', max=99, readout=False), Label(value='0.50'…"
      ]
     },
     "metadata": {},
     "output_type": "display_data"
    }
   ],
   "source": [
    "import mpl_interactions.ipyplot as iplt\n",
    "import matplotlib.pyplot as plt\n",
    "import numpy as np\n",
    "\n",
    "x = np.linspace(0, np.pi, 100)\n",
    "tau = np.linspace(0.5, 10, 100)\n",
    "\n",
    "def f1(x, tau, beta):\n",
    "   return np.sin(x * tau) * x * beta\n",
    "def f2(x, tau, beta):\n",
    "   return np.sin(x * beta) * x * tau\n",
    "\n",
    "\n",
    "fig, ax = plt.subplots()\n",
    "controls = iplt.plot(x, f1, tau=tau, beta=(1, 10, 100), label=\"f1\", title=\"the value of tau is: {tau:.2f}\")\n",
    "iplt.plot(x, f2, controls=controls, label=\"f2\")\n",
    "_ = plt.legend()\n",
    "plt.show()\n"
   ]
  },
  {
   "cell_type": "code",
   "execution_count": null,
   "metadata": {},
   "outputs": [],
   "source": []
  }
 ],
 "metadata": {
  "kernelspec": {
   "display_name": "Python 3",
   "language": "python",
   "name": "python3"
  },
  "language_info": {
   "codemirror_mode": {
    "name": "ipython",
    "version": 3
   },
   "file_extension": ".py",
   "mimetype": "text/x-python",
   "name": "python",
   "nbconvert_exporter": "python",
   "pygments_lexer": "ipython3",
   "version": "3.7.4"
  }
 },
 "nbformat": 4,
 "nbformat_minor": 4
}
