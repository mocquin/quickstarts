{
 "cells": [
  {
   "cell_type": "markdown",
   "metadata": {},
   "source": [
    "# ipywidgets working samples"
   ]
  },
  {
   "cell_type": "markdown",
   "metadata": {},
   "source": [
    "## Example 1 : df explorer"
   ]
  },
  {
   "cell_type": "code",
   "execution_count": null,
   "metadata": {},
   "outputs": [],
   "source": [
    "# simple df explorer\n",
    "@interact\n",
    "def show_articles_more_than(column=['claps', 'views', 'fans', 'reads'],\n",
    "                            x=(10, 100000, 10)):\n",
    "    return df.loc[df[column] > x]\n",
    " "
   ]
  },
  {
   "cell_type": "markdown",
   "metadata": {},
   "source": [
    "## Level 1 image browser"
   ]
  },
  {
   "cell_type": "code",
   "execution_count": null,
   "metadata": {},
   "outputs": [],
   "source": [
    "# simple image reader\n",
    "@interact\n",
    "def show_images(file=os.listdir('images/')):\n",
    "    display(Image(fdir+file))\n",
    " "
   ]
  },
  {
   "cell_type": "markdown",
   "metadata": {},
   "source": [
    "## level 2 image browser"
   ]
  },
  {
   "cell_type": "code",
   "execution_count": null,
   "metadata": {},
   "outputs": [],
   "source": [
    "# Create widgets\n",
    "directory = widgets.Dropdown(options=['images', 'nature', 'assorted'])\n",
    "images = widgets.Dropdown(options=os.listdir(directory.value))\n",
    " \n",
    "# Updates the image options based on directory value\n",
    "def update_images(*args):\n",
    "    images.options = os.listdir(directory.value)\n",
    "\n",
    "# Tie the image options to directory value\n",
    "directory.observe(update_images, 'value')\n",
    " \n",
    "# Show the images\n",
    "def show_images(fdir, file):\n",
    "    display(Image(f'{fdir}/{file}'))\n",
    "\n",
    "_ = interact(show_images, fdir=directory, file=images)\n",
    " "
   ]
  },
  {
   "cell_type": "markdown",
   "metadata": {},
   "source": [
    "## dependent widgets example"
   ]
  },
  {
   "cell_type": "code",
   "execution_count": null,
   "metadata": {},
   "outputs": [],
   "source": [
    "x_widget = FloatSlider(min=0.0, max=10.0, step=0.05)\n",
    "y_widget = FloatSlider(min=0.5, max=10.0, step=0.05, value=5.0)\n",
    " \n",
    "def update_x_range(*args):\n",
    "    x_widget.max = 2.0 * y_widget.value\n",
    "y_widget.observe(update_x_range, 'value')\n",
    " \n",
    "def printer(x, y):\n",
    "    print(x, y)\n",
    "interact(printer,x=x_widget, y=y_widget);\n",
    " "
   ]
  },
  {
   "cell_type": "markdown",
   "metadata": {},
   "source": [
    "## matplotlib lib example"
   ]
  },
  {
   "cell_type": "code",
   "execution_count": null,
   "metadata": {},
   "outputs": [],
   "source": [
    "%matplotlib notebook\n",
    "from ipywidgets import HBox, Button\n",
    "from IPython.display import display\n",
    "from matplotlib import pyplot as plt\n",
    " \n",
    "red = Button(description='Make Red')\n",
    "green = Button(description='Make Green')\n",
    " \n",
    "fig, ax = plt.subplots()\n",
    "ax.plot([1,2,3])\n",
    " \n",
    "def make_red(button):\n",
    "    ax.lines[0].set_color('red')\n",
    "    ax.figure.canvas.draw()\n",
    "\n",
    "def make_green(button):\n",
    "    ax.lines[0].set_color('green')\n",
    "    ax.figure.canvas.draw()\n",
    "\n",
    "red.on_click(make_red)\n",
    "green.on_click(make_green)\n",
    "display(HBox([red, green]))\n",
    " \n",
    " \n",
    " "
   ]
  },
  {
   "cell_type": "markdown",
   "metadata": {},
   "source": [
    "## astro https://github.com/JuanCab/AstroInteractives/blob/master/Interactives/SmallAngleEquation.ipynb"
   ]
  },
  {
   "cell_type": "code",
   "execution_count": 2,
   "metadata": {},
   "outputs": [
    {
     "data": {
      "application/vnd.jupyter.widget-view+json": {
       "model_id": "fb0ad2818b16456dbedf835130b06b04",
       "version_major": 2,
       "version_minor": 0
      },
      "text/plain": [
       "VBox(children=(Figure(axes=[Axis(grid_color='white', num_ticks=0, scale=LinearScale(max=115.0, min=-5.0)), Axi…"
      ]
     },
     "metadata": {},
     "output_type": "display_data"
    }
   ],
   "source": [
    "import ipywidgets as widgets\n",
    "import numpy as np\n",
    "import bqplot.pyplot as bq\n",
    "from IPython.display import display\n",
    "\n",
    "def approx_theta(s,d):\n",
    "    # Small angle approximation equation\n",
    "    return s/d\n",
    "\n",
    "def exact_theta(s,d):\n",
    "    # Exact equation for theta\n",
    "    return 2*np.arctan(s/(2*d))\n",
    "\n",
    "def circle(r,d=0.):\n",
    "    # Creates a circle given a radius r and displacement along the \n",
    "    # x-axis d \n",
    "    theta = np.linspace(0,2*np.pi,1000)\n",
    "    return (r*np.cos(theta)+d,r*np.sin(theta))\n",
    "\n",
    "def par_circ(r,theta0,theta1,d=0.,h=0.):\n",
    "    theta = np.linspace(theta0,theta1,1000)\n",
    "    return (r*np.cos(theta)+d,r*np.sin(theta)+h)\n",
    "\n",
    "def ellipse(a,b,d=0.):\n",
    "    # Creates an ellipse centered at (d,0) with a semimajor axis of 'a'\n",
    "    # in the x direction and 'b' in the y direction\n",
    "    theta = np.linspace(0,2*np.pi,1000)\n",
    "    return (a*np.cos(theta)+d,b*np.sin(theta))\n",
    "\n",
    "def update(change=None):\n",
    "    # Update the display.\n",
    "    D1.y = [0,h_slider.value/2]\n",
    "    D2.y = [0,-h_slider.value/2]\n",
    "    D1.x = [0,d_slider.value]\n",
    "    D2.x = [0,d_slider.value]\n",
    "    ref.x = [0,d_slider.value]\n",
    "    # Note that the ellipse is used so that the display needn't be a square.\n",
    "    X_new, Y_new = circle(h_slider.value/2, d_slider.value)\n",
    "    Object.x = X_new\n",
    "    Object.y = Y_new\n",
    "    \n",
    "    # Update the resulting angles\n",
    "    theta_approx = 180/np.pi*approx_theta(h_slider.value,d_slider.value)\n",
    "    theta_exact = 180/np.pi*exact_theta(h_slider.value,d_slider.value)\n",
    "    \n",
    "    approx_eqn.value='<p><b>\"Small Angle\"  Equation:</b> <br/> {:.5f}&deg; = (180&deg;/&pi;) * ({} / {})</p>'.format(theta_approx,h_slider.value,d_slider.value)\n",
    "    exact_eqn.value ='<p><b>\"Exact\" Equation:</b> <br/> {:.5f}&deg; = 2 arctan( {} / 2*{} )</p>'.format(theta_exact,h_slider.value,d_slider.value)    \n",
    "    difference_eqn.value='<p><b>Difference:</b> <br/> {:.5f}&deg; ({:.2f}%)</p>'.format(abs(theta_exact-theta_approx), 100*(abs(theta_exact-theta_approx)/theta_exact))\n",
    "    \n",
    "    arc_loc = (d_slider.value - h_slider.value/2)/3\n",
    "    angle_loc = exact_theta(h_slider.value,d_slider.value)/2\n",
    "    xc,yc = par_circ(r=arc_loc, theta0=2*np.pi-angle_loc, theta1=2*np.pi+angle_loc)\n",
    "\n",
    "    angle_ex.x = xc\n",
    "    angle_ex.y = yc\n",
    "    \n",
    "h_slider = widgets.FloatSlider(\n",
    "    value=5,\n",
    "    min=0.1,\n",
    "    max=30.05,\n",
    "    step=0.1,\n",
    "    disabled=False,\n",
    "    continuous_update=True,\n",
    "    orientation='horizontal',\n",
    "    readout=True,\n",
    "    readout_format='.2f',\n",
    ")\n",
    "d_slider = widgets.FloatSlider(\n",
    "    value=50,\n",
    "    min=20.,\n",
    "    max=100,\n",
    "    step=0.1,\n",
    "    disabled=False,\n",
    "    continuous_update=True,\n",
    "    orientation='horizontal',\n",
    "    readout=True\n",
    ")\n",
    "\n",
    "theta_approx = 180/np.pi*approx_theta(h_slider.value,d_slider.value)\n",
    "theta_exact = 180/np.pi*exact_theta(h_slider.value,d_slider.value)\n",
    "\n",
    "# Create labels for sliders\n",
    "h_label = widgets.Label(value='Size of star (s)')\n",
    "d_label = widgets.Label(value='Distance to star (d)')\n",
    "\n",
    "# Create text display\n",
    "approx_eqn = widgets.HTML(value='<p><b>\"Small Angle\" Equation:</b> <br/> {:.5f}&deg; = (180&deg;/&pi;) * ({} / {})</p>'.format(theta_approx,h_slider.value,d_slider.value))\n",
    "exact_eqn = widgets.HTML(value='<p><b>\"Exact\" Equation:</b> <br/> {:.5f}&deg; = 2 arctan( {} / 2*{} )</p>'.format(theta_exact,h_slider.value,d_slider.value))\n",
    "difference_eqn = widgets.HTML(value='<p><b>Difference:</b> <br/> {:.5f}&deg; ({:.2f}%)</p>'.format(abs(theta_exact-theta_approx), 100*(abs(theta_exact-theta_approx)/theta_exact)))\n",
    "                             \n",
    "blank = widgets.Label(value='')\n",
    "\n",
    "## PLOT/FIGURE ##\n",
    "\n",
    "# Sets axis scale for x and y to \n",
    "sc_x = bq.LinearScale(min=-5,max=115)\n",
    "sc_y = bq.LinearScale(min=-26,max=26)\n",
    "\n",
    "# Get the range to work with\n",
    "x_range = sc_x.max - sc_x.min\n",
    "y_range = sc_y.max - sc_y.min\n",
    "\n",
    "# Initial height and distance of star\n",
    "init_h = h_slider.value\n",
    "init_d = d_slider.value\n",
    "\n",
    "# Note that the ellipse is used so that the display needn't be a square.\n",
    "# Creates a circular 'star'\n",
    "X,Y = circle(r=init_h/2, d=init_d)\n",
    "\n",
    "# Sets up the axes, grid-lines are set to black so that they blend in with the background.\n",
    "ax_x = bq.Axis(scale=sc_x, grid_color='white', num_ticks=0)\n",
    "ax_y = bq.Axis(scale=sc_y, orientation='vertical', grid_color='white', num_ticks=0)\n",
    "\n",
    "# Draws the lines to the top and bottom of the star respectively\n",
    "D1 = bq.Lines(x=[0,init_d], y=[0,init_h/2], scales={'x': sc_x, 'y': sc_y}, colors=['white'])\n",
    "D2 = bq.Lines(x=[0,init_d], y=[0,-init_h/2], scales={'x': sc_x, 'y': sc_y}, colors=['white'])\n",
    "\n",
    "# Creates the star\n",
    "Object = bq.Lines(scales={'x': sc_x, 'y': sc_y}, x=X, y=Y, colors=['blue'], \n",
    "                  fill='inside', fill_colors=['blue'])\n",
    "\n",
    "# Creates a reference line.\n",
    "ref = bq.Lines(x=[0,init_d], y=[0,0], scales={'x': sc_x, 'y': sc_y}, colors=['white'], line_style='dashed')\n",
    "\n",
    "arc_loc = (init_d - init_h/2)/3\n",
    "angle_loc = exact_theta(init_h,init_d)/2\n",
    "xc,yc = par_circ(r=arc_loc, theta0=2*np.pi-angle_loc, theta1=2*np.pi+angle_loc)\n",
    "\n",
    "angle_ex = bq.Lines(x=xc, y=yc, scales={'x': sc_x, 'y': sc_y}, colors=['white'])\n",
    "\n",
    "angle_label = bq.Label(x=[2], y=[0], scales={'x': sc_x, 'y': sc_y},\n",
    "                   text=[r'$$\\theta$$'], default_size=15, font_weight='bolder',\n",
    "                   colors=['white'], update_on_move=False)\n",
    "\n",
    "# Update the the plot/display\n",
    "h_slider.observe(update, names=['value'])\n",
    "d_slider.observe(update, names=['value'])\n",
    "\n",
    "# Creates the figure. The background color is set to black so that it looks like 'space.' Also,\n",
    "# removes the default y padding.\n",
    "fig = bq.Figure(title='Small Angle Approximation', marks=[Object,D1,D2,angle_ex], axes=[ax_x, ax_y], \n",
    "                padding_x=0, padding_y=0, animation=100, background_style={'fill' : 'black'})\n",
    "\n",
    "# Display to the screen\n",
    "\n",
    "# Set up the figure\n",
    "fig_width = 750\n",
    "fig.layout.width = '{:.0f}px'.format(fig_width)\n",
    "fig.layout.height = '{:.0f}px'.format(fig_width/2)\n",
    "\n",
    "# Set up the bottom part containing the controls and display of equations\n",
    "h_box = widgets.VBox([h_label, h_slider])\n",
    "d_box = widgets.VBox([d_label, d_slider])\n",
    "slide_box = widgets.HBox([h_box, d_box])\n",
    "h_box.layout.width = '{:.0f}px'.format(fig_width/2)\n",
    "d_box.layout.width = '{:.0f}px'.format(fig_width/2)\n",
    "\n",
    "eqn_box = widgets.HBox([exact_eqn, approx_eqn, difference_eqn])\n",
    "exact_eqn.layout.width = '{:.0f}px'.format(fig_width/3)\n",
    "approx_eqn.layout.width = '{:.0f}px'.format(fig_width/3)\n",
    "difference_eqn.layout.width = '{:.0f}px'.format(fig_width/3)\n",
    "\n",
    "BOX = widgets.VBox([fig, slide_box, eqn_box])\n",
    "display(BOX)"
   ]
  },
  {
   "cell_type": "markdown",
   "metadata": {},
   "source": [
    "## plotly + cufflinks (https://towardsdatascience.com/interactive-controls-for-jupyter-notebooks-f5c94829aee6)"
   ]
  },
  {
   "cell_type": "code",
   "execution_count": 3,
   "metadata": {},
   "outputs": [
    {
     "ename": "ModuleNotFoundError",
     "evalue": "No module named 'cufflinks'",
     "output_type": "error",
     "traceback": [
      "\u001b[0;31m---------------------------------------------------------------------------\u001b[0m",
      "\u001b[0;31mModuleNotFoundError\u001b[0m                       Traceback (most recent call last)",
      "\u001b[0;32m<ipython-input-3-7db82b6d3838>\u001b[0m in \u001b[0;36m<module>\u001b[0;34m\u001b[0m\n\u001b[0;32m----> 1\u001b[0;31m \u001b[0;32mimport\u001b[0m \u001b[0mcufflinks\u001b[0m \u001b[0;32mas\u001b[0m \u001b[0mcf\u001b[0m\u001b[0;34m\u001b[0m\u001b[0;34m\u001b[0m\u001b[0m\n\u001b[0m\u001b[1;32m      2\u001b[0m \u001b[0;34m\u001b[0m\u001b[0m\n\u001b[1;32m      3\u001b[0m \u001b[0;34m@\u001b[0m\u001b[0minteract\u001b[0m\u001b[0;34m\u001b[0m\u001b[0;34m\u001b[0m\u001b[0m\n\u001b[1;32m      4\u001b[0m def scatter_plot(x=list(df.select_dtypes('number').columns), \n\u001b[1;32m      5\u001b[0m                  \u001b[0my\u001b[0m\u001b[0;34m=\u001b[0m\u001b[0mlist\u001b[0m\u001b[0;34m(\u001b[0m\u001b[0mdf\u001b[0m\u001b[0;34m.\u001b[0m\u001b[0mselect_dtypes\u001b[0m\u001b[0;34m(\u001b[0m\u001b[0;34m'number'\u001b[0m\u001b[0;34m)\u001b[0m\u001b[0;34m.\u001b[0m\u001b[0mcolumns\u001b[0m\u001b[0;34m)\u001b[0m\u001b[0;34m[\u001b[0m\u001b[0;36m1\u001b[0m\u001b[0;34m:\u001b[0m\u001b[0;34m]\u001b[0m\u001b[0;34m,\u001b[0m\u001b[0;34m\u001b[0m\u001b[0;34m\u001b[0m\u001b[0m\n",
      "\u001b[0;31mModuleNotFoundError\u001b[0m: No module named 'cufflinks'"
     ]
    }
   ],
   "source": [
    "import cufflinks as cf\n",
    "\n",
    "@interact\n",
    "def scatter_plot(x=list(df.select_dtypes('number').columns), \n",
    "                 y=list(df.select_dtypes('number').columns)[1:],\n",
    "                 theme=list(cf.themes.THEMES.keys()), \n",
    "                 colorscale=list(cf.colors._scales_names.keys())):\n",
    "    \n",
    "    df.iplot(kind='scatter', x=x, y=y, mode='markers', \n",
    "             xTitle=x.title(), yTitle=y.title(), \n",
    "             text='title',\n",
    "             title=f'{y.title()} vs {x.title()}',\n",
    "            theme=theme, colorscale=colorscale)"
   ]
  },
  {
   "cell_type": "markdown",
   "metadata": {},
   "source": [
    "https://kapernikov.com/ipywidgets-with-matplotlib/"
   ]
  },
  {
   "cell_type": "code",
   "execution_count": 10,
   "metadata": {},
   "outputs": [],
   "source": [
    "%matplotlib widget\n",
    "import ipywidgets as widgets\n",
    "import matplotlib.pyplot as plt\n",
    "import numpy as np"
   ]
  },
  {
   "cell_type": "code",
   "execution_count": 11,
   "metadata": {},
   "outputs": [
    {
     "data": {
      "application/vnd.jupyter.widget-view+json": {
       "model_id": "7c3004d074744b69adb8fd4415c6466c",
       "version_major": 2,
       "version_minor": 0
      },
      "text/plain": [
       "Canvas(toolbar=Toolbar(toolitems=[('Home', 'Reset original view', 'home', 'home'), ('Back', 'Back to previous …"
      ]
     },
     "metadata": {},
     "output_type": "display_data"
    },
    {
     "data": {
      "application/vnd.jupyter.widget-view+json": {
       "model_id": "7440dd031f274df6945b0179bbed8c1c",
       "version_major": 2,
       "version_minor": 0
      },
      "text/plain": [
       "interactive(children=(IntSlider(value=1, description='w', max=10), FloatSlider(value=1.0, description='amp', m…"
      ]
     },
     "metadata": {},
     "output_type": "display_data"
    }
   ],
   "source": [
    "# set up plot\n",
    "fig, ax = plt.subplots(figsize=(6, 4))\n",
    "ax.set_ylim([-4, 4])\n",
    "ax.grid(True)\n",
    " \n",
    "# generate x values\n",
    "x = np.linspace(0, 2 * np.pi, 100)\n",
    " \n",
    "\n",
    "def my_sine(x, w, amp, phi):\n",
    "    \"\"\"\n",
    "    Return a sine for x with angular frequeny w and amplitude amp.\n",
    "    \"\"\"\n",
    "    return amp*np.sin(w * (x-phi))\n",
    " \n",
    "\n",
    "@widgets.interact(w=(0, 10, 1), amp=(0, 4, .1), phi=(0, 2*np.pi+0.01, 0.01))\n",
    "def update(w = 1.0, amp=1, phi=0):\n",
    "    \"\"\"Remove old lines from plot and plot new one\"\"\"\n",
    "    [l.remove() for l in ax.lines]\n",
    "    ax.plot(x, my_sine(x, w, amp, phi), color='C0')"
   ]
  },
  {
   "cell_type": "code",
   "execution_count": 12,
   "metadata": {},
   "outputs": [
    {
     "data": {
      "application/vnd.jupyter.widget-view+json": {
       "model_id": "b2a7061d0bfa460a938696906a1a9494",
       "version_major": 2,
       "version_minor": 0
      },
      "text/plain": [
       "Canvas(toolbar=Toolbar(toolitems=[('Home', 'Reset original view', 'home', 'home'), ('Back', 'Back to previous …"
      ]
     },
     "metadata": {},
     "output_type": "display_data"
    },
    {
     "data": {
      "application/vnd.jupyter.widget-view+json": {
       "model_id": "49834b251af246518fc66302e5737699",
       "version_major": 2,
       "version_minor": 0
      },
      "text/plain": [
       "IntSlider(value=1, continuous_update=False, description='$\\\\omega$', max=10)"
      ]
     },
     "metadata": {},
     "output_type": "display_data"
    }
   ],
   "source": [
    "x = np.linspace(0, 2 * np.pi, 100)\n",
    " \n",
    "fig, ax = plt.subplots()\n",
    "line, = ax.plot(x, np.sin(x))\n",
    "ax.grid(True)\n",
    " \n",
    "def update(change):\n",
    "    line.set_ydata(np.sin(change.new * x))\n",
    "    fig.canvas.draw()\n",
    "     \n",
    "int_slider = widgets.IntSlider(\n",
    "    value=1, \n",
    "    min=0, max=10, step=1,\n",
    "    description='$\\omega$',\n",
    "    continuous_update=False\n",
    ")\n",
    "int_slider.observe(update, 'value')\n",
    "int_slider"
   ]
  },
  {
   "cell_type": "markdown",
   "metadata": {},
   "source": [
    "## link widget properties"
   ]
  },
  {
   "cell_type": "code",
   "execution_count": 13,
   "metadata": {},
   "outputs": [
    {
     "data": {
      "application/vnd.jupyter.widget-view+json": {
       "model_id": "7a4f11a47c3648df8af06b98c3cc2518",
       "version_major": 2,
       "version_minor": 0
      },
      "text/plain": [
       "VBox(children=(IntSlider(value=5, description='slider 1', max=10), IntSlider(value=5, description='slider 2', …"
      ]
     },
     "metadata": {},
     "output_type": "display_data"
    }
   ],
   "source": [
    "sl1 = widgets.IntSlider(description='slider 1', min=0, max=10)\n",
    "sl2 = widgets.IntSlider(description='slider 2', min=0, max=10)\n",
    " \n",
    "link = widgets.link(\n",
    "    (sl1, 'value'), \n",
    "    (sl2, 'min')\n",
    ")\n",
    " \n",
    "sl1.value = 5\n",
    "widgets.VBox([sl1, sl2])"
   ]
  },
  {
   "cell_type": "code",
   "execution_count": 18,
   "metadata": {},
   "outputs": [
    {
     "data": {
      "application/vnd.jupyter.widget-view+json": {
       "model_id": "9b8086b6acce4e8c843376dddb1bcedb",
       "version_major": 2,
       "version_minor": 0
      },
      "text/plain": [
       "HBox(children=(VBox(children=(IntSlider(value=1, description='freq', max=10), ColorPicker(value='#FF00DD', des…"
      ]
     },
     "metadata": {},
     "output_type": "display_data"
    }
   ],
   "source": [
    "output = widgets.Output()\n",
    " \n",
    "# create some x data\n",
    "x = np.linspace(0, 2 * np.pi, 100)\n",
    " \n",
    "# default line color\n",
    "initial_color = '#FF00DD'\n",
    " \n",
    "with output:\n",
    "    fig, ax = plt.subplots(constrained_layout=True, figsize=(6, 4))\n",
    "     \n",
    "# move the toolbar to the bottom\n",
    "fig.canvas.toolbar_position = 'bottom'\n",
    "ax.grid(True)    \n",
    "line, = ax.plot(x, np.sin(x), initial_color)\n",
    "\n",
    "\n",
    "# create some control elements\n",
    "int_slider = widgets.IntSlider(value=1, min=0, max=10, step=1, description='freq')\n",
    "color_picker = widgets.ColorPicker(value=initial_color, description='pick a color')\n",
    "text_xlabel = widgets.Text(value='', description='xlabel', continuous_update=False)\n",
    "text_ylabel = widgets.Text(value='', description='ylabel', continuous_update=False)\n",
    " \n",
    "# callback functions\n",
    "def update(change):\n",
    "    \"\"\"redraw line (update plot)\"\"\"\n",
    "    line.set_ydata(np.sin(change.new * x))\n",
    "    fig.canvas.draw()\n",
    "     \n",
    "def line_color(change):\n",
    "    \"\"\"set line color\"\"\"\n",
    "    line.set_color(change.new)\n",
    "     \n",
    "def update_xlabel(change):\n",
    "    ax.set_xlabel(change.new)\n",
    "     \n",
    "def update_ylabel(change):\n",
    "    ax.set_ylabel(change.new)\n",
    "\n",
    "# connect callbacks and traits\n",
    "int_slider.observe(update, 'value')\n",
    "color_picker.observe(line_color, 'value')\n",
    "text_xlabel.observe(update_xlabel, 'value')\n",
    "text_ylabel.observe(update_ylabel, 'value')\n",
    " \n",
    "text_xlabel.value = 'x'\n",
    "text_ylabel.value = 'y'\n",
    "\n",
    "controls = widgets.VBox([int_slider, color_picker, text_xlabel, text_ylabel])\n",
    "widgets.HBox([controls, output])"
   ]
  },
  {
   "cell_type": "code",
   "execution_count": 19,
   "metadata": {},
   "outputs": [
    {
     "data": {
      "application/vnd.jupyter.widget-view+json": {
       "model_id": "9f2e8cbab202451191c34bfe0a757688",
       "version_major": 2,
       "version_minor": 0
      },
      "text/plain": [
       "Sines(children=(VBox(children=(IntSlider(value=1, description='freq', max=10), ColorPicker(value='#FF00DD', de…"
      ]
     },
     "metadata": {},
     "output_type": "display_data"
    }
   ],
   "source": [
    "def make_box_layout():\n",
    "     return widgets.Layout(\n",
    "        border='solid 1px black',\n",
    "        margin='0px 10px 10px 0px',\n",
    "        padding='5px 5px 5px 5px'\n",
    "     )\n",
    "\n",
    "class Sines(widgets.HBox):\n",
    "     \n",
    "    def __init__(self):\n",
    "        super().__init__()\n",
    "        output = widgets.Output()\n",
    " \n",
    "        self.x = np.linspace(0, 2 * np.pi, 100)\n",
    "        initial_color = '#FF00DD'\n",
    " \n",
    "        with output:\n",
    "            self.fig, self.ax = plt.subplots(constrained_layout=True, figsize=(5, 3.5))\n",
    "        self.line, = self.ax.plot(self.x, np.sin(self.x), initial_color)\n",
    "         \n",
    "        self.fig.canvas.toolbar_position = 'bottom'\n",
    "        self.ax.grid(True)\n",
    " \n",
    "        # define widgets\n",
    "        int_slider = widgets.IntSlider(\n",
    "            value=1, \n",
    "            min=0, \n",
    "            max=10, \n",
    "            step=1, \n",
    "            description='freq'\n",
    "        )\n",
    "        color_picker = widgets.ColorPicker(\n",
    "            value=initial_color, \n",
    "            description='pick a color'\n",
    "        )\n",
    "        text_xlabel = widgets.Text(\n",
    "            value='', \n",
    "            description='xlabel', \n",
    "            continuous_update=False\n",
    "        )\n",
    "        text_ylabel = widgets.Text(\n",
    "            value='', \n",
    "            description='ylabel', \n",
    "            continuous_update=False\n",
    "        )\n",
    " \n",
    "        controls = widgets.VBox([\n",
    "            int_slider, \n",
    "            color_picker, \n",
    "            text_xlabel, \n",
    "            text_ylabel\n",
    "        ])\n",
    "        controls.layout = make_box_layout()\n",
    "         \n",
    "        out_box = widgets.Box([output])\n",
    "        output.layout = make_box_layout()\n",
    " \n",
    "        # observe stuff\n",
    "        int_slider.observe(self.update, 'value')\n",
    "        color_picker.observe(self.line_color, 'value')\n",
    "        text_xlabel.observe(self.update_xlabel, 'value')\n",
    "        text_ylabel.observe(self.update_ylabel, 'value')\n",
    "         \n",
    "        text_xlabel.value = 'x'\n",
    "        text_ylabel.value = 'y'\n",
    "         \n",
    " \n",
    "        # add to children\n",
    "        self.children = [controls, output]\n",
    "     \n",
    "    def update(self, change):\n",
    "        \"\"\"Draw line in plot\"\"\"\n",
    "        self.line.set_ydata(np.sin(change.new * self.x))\n",
    "        self.fig.canvas.draw()\n",
    " \n",
    "    def line_color(self, change):\n",
    "        self.line.set_color(change.new)\n",
    " \n",
    "    def update_xlabel(self, change):\n",
    "        self.ax.set_xlabel(change.new)\n",
    " \n",
    "    def update_ylabel(self, change):\n",
    "        self.ax.set_ylabel(change.new)\n",
    "\n",
    "Sines()"
   ]
  },
  {
   "cell_type": "code",
   "execution_count": 23,
   "metadata": {},
   "outputs": [
    {
     "data": {
      "application/vnd.jupyter.widget-view+json": {
       "model_id": "5b3b522c8fb248e2a385a35fd03a31b4",
       "version_major": 2,
       "version_minor": 0
      },
      "text/plain": [
       "Sines(children=(VBox(children=(IntSlider(value=1, description='freq', max=10), ColorPicker(value='#FF00DD', de…"
      ]
     },
     "metadata": {},
     "output_type": "display_data"
    },
    {
     "data": {
      "image/png": "[encoded data removed]",
      "text/plain": [
       "<Figure size 360x252 with 1 Axes>"
      ]
     },
     "metadata": {
      "needs_background": "light"
     },
     "output_type": "display_data"
    }
   ],
   "source": [
    "Sines()"
   ]
  },
  {
   "cell_type": "markdown",
   "metadata": {},
   "source": [
    "http://www.xavierdupre.fr/app/jyquickhelper/helpsphinx/notebooks/custom_widget.html"
   ]
  },
  {
   "cell_type": "code",
   "execution_count": 21,
   "metadata": {},
   "outputs": [
    {
     "data": {
      "application/vnd.jupyter.widget-view+json": {
       "model_id": "d860a7afa9674b7e90dcd9b1a376aa69",
       "version_major": 2,
       "version_minor": 0
      },
      "text/plain": [
       "interactive(children=(IntSlider(value=16, description='n', max=30, min=2), IntSlider(value=5, description='m',…"
      ]
     },
     "metadata": {},
     "output_type": "display_data"
    }
   ],
   "source": [
    "%matplotlib inline\n",
    "import ipywidgets\n",
    "import matplotlib.pyplot as plt\n",
    "\n",
    "import networkx as nx\n",
    "\n",
    "def random_lobster(n, m, k, p):\n",
    "    return nx.random_lobster(n, p, p / m)\n",
    "\n",
    "def powerlaw_cluster(n, m, k, p):\n",
    "    return nx.powerlaw_cluster_graph(n, m, p)\n",
    "\n",
    "def erdos_renyi(n, m, k, p):\n",
    "    return nx.erdos_renyi_graph(n, p)\n",
    "\n",
    "def newman_watts_strogatz(n, m, k, p):\n",
    "    return nx.newman_watts_strogatz_graph(n, k, p)\n",
    "\n",
    "def plot_random_graph(n, m, k, p, generator):\n",
    "    g = generator(n, m, k, p)\n",
    "    nx.draw(g)\n",
    "    plt.show()\n",
    "\n",
    "ipywidgets.interact(plot_random_graph, n=(2,30), m=(1,10), k=(1,10), p=(0.0, 1.0, 0.001),\n",
    "         generator={\n",
    "             'lobster': random_lobster,\n",
    "             'power law': powerlaw_cluster,\n",
    "             'Newman-Watts-Strogatz': newman_watts_strogatz,\n",
    "             'Erdős-Rényi': erdos_renyi,\n",
    "         });\n",
    "\n"
   ]
  },
  {
   "cell_type": "code",
   "execution_count": null,
   "metadata": {},
   "outputs": [],
   "source": []
  },
  {
   "cell_type": "code",
   "execution_count": null,
   "metadata": {},
   "outputs": [],
   "source": []
  },
  {
   "cell_type": "markdown",
   "metadata": {},
   "source": [
    "## https://github.com/jupyter-widgets/tutorial/blob/99fe57804316d6ad2b8c08fd91657a5f0155d606/notebooks/05.04-OPTIONAL-Widget_Events_2--Separating_concerns,_object_oriented.ipynb"
   ]
  },
  {
   "cell_type": "code",
   "execution_count": 9,
   "metadata": {},
   "outputs": [
    {
     "data": {
      "application/vnd.jupyter.widget-view+json": {
       "model_id": "0fc853558dce42ebbbd79ac8ec5c8201",
       "version_major": 2,
       "version_minor": 0
      },
      "text/plain": [
       "PassGen(children=(HTML(value='Generated password is:'), HTML(value='', layout=Layout(margin='0 0 0 20px'), pla…"
      ]
     },
     "metadata": {},
     "output_type": "display_data"
    }
   ],
   "source": [
    "import traitlets\n",
    "import ipywidgets as widgets\n",
    "\n",
    "class PassGenGUI(widgets.VBox):\n",
    "    def __init__(self):\n",
    "        # Do NOT forgot to do this!\n",
    "        super(PassGenGUI, self).__init__()\n",
    "        \n",
    "        # Define each of the children...\n",
    "        self._helpful_title = widgets.HTML('Generated password is:')\n",
    "        self._password_text = widgets.HTML('No password yet', placeholder='No password generated yet')\n",
    "        self._password_text.layout.margin = '0 0 0 20px'\n",
    "        self._password_length = widgets.IntSlider(description='Length of password',\n",
    "                                                  min=8, max=20,\n",
    "                                                  style={'description_width': 'initial'})\n",
    "        children = [self._helpful_title, self._password_text, self._password_length]\n",
    "        self.children = children\n",
    "\n",
    "    # Add value as a read-only property\n",
    "    @property\n",
    "    def value(self):\n",
    "        return self._password_text.value\n",
    "\n",
    "class PassGenLogic(traitlets.HasTraits):\n",
    "    length = traitlets.Integer()\n",
    "    password = traitlets.Unicode()\n",
    "    \n",
    "    def __init__(self):\n",
    "        super(PassGenLogic, self).__init__()\n",
    "            \n",
    "    @traitlets.observe('length')\n",
    "    def calculate_password(self, change):\n",
    "        import string\n",
    "        import secrets\n",
    "    \n",
    "        new_password = ''.join(secrets.choice(string.ascii_letters) for _ in range(self.length))\n",
    "        \n",
    "        # Set the value of the password trait here:\n",
    "        self.password = new_password\n",
    "\n",
    "    # The new validator:\n",
    "    @traitlets.validate('length')\n",
    "    # You can name this method anything you want.\n",
    "    def _validate_length(self, proposal):\n",
    "        # proposal contains the new value\n",
    "        length = proposal['value']\n",
    "        \n",
    "        # Test the value\n",
    "        if length < 1:\n",
    "            # if it is a bad value, raise a TraitError\n",
    "            raise traitlets.TraitError('Password length should be positive.')\n",
    "        # If the value is good, return it.\n",
    "        return proposal['value']\n",
    "\n",
    "# By subclassing from PassGenGUI we ensure PassGen behaves as a widget, since\n",
    "# PassGenGUI subclasses from ipywidgets.VBox\n",
    "\n",
    "class PassGen(PassGenGUI):\n",
    "    def __init__(self):\n",
    "        # Set up all of the subwidgets like _passwordd)text\n",
    "        super(PassGen, self).__init__()\n",
    "        \n",
    "        # Create an instance of our model.\n",
    "        self.model = PassGenLogic()\n",
    "        \n",
    "        # Link the password from the model to the _password_text widget\n",
    "        traitlets.link((self.model, 'password'), (self._password_text, 'value'))\n",
    "        \n",
    "        # Link the _password_length widget to the length in the model\n",
    "        traitlets.link((self.model, 'length'), (self._password_length, 'value'))\n",
    "        \n",
    "        \n",
    "password_widget = PassGen()\n",
    "password_widget\n",
    "\n"
   ]
  },
  {
   "cell_type": "markdown",
   "metadata": {},
   "source": [
    "# Widget library"
   ]
  },
  {
   "cell_type": "markdown",
   "metadata": {},
   "source": [
    "## ipysheet\n",
    " - ipywidgets example : ipysheet : https://towardsdatascience.com/interactive-spreadsheets-in-jupyter-32ab6ec0f4ff"
   ]
  },
  {
   "cell_type": "code",
   "execution_count": 1,
   "metadata": {},
   "outputs": [
    {
     "data": {
      "application/vnd.jupyter.widget-view+json": {
       "model_id": "f884584cf9444592a74e0014d3d720cc",
       "version_major": 2,
       "version_minor": 0
      },
      "text/plain": [
       "Sheet(cells=(Cell(column_end=9, column_start=0, row_end=5, row_start=0, squeeze_column=False, squeeze_row=Fals…"
      ]
     },
     "metadata": {},
     "output_type": "display_data"
    }
   ],
   "source": [
    "import numpy as np\n",
    "from ipysheet import from_array, to_array\n",
    "\n",
    "arr = np.random.randn(6, 10)\n",
    "\n",
    "sheet = from_array(arr)\n",
    "sheet\n",
    "\n"
   ]
  },
  {
   "cell_type": "code",
   "execution_count": 2,
   "metadata": {},
   "outputs": [
    {
     "data": {
      "application/vnd.jupyter.widget-view+json": {
       "model_id": "0971c4ba201148a7aca129c240ee7c7d",
       "version_major": 2,
       "version_minor": 0
      },
      "text/plain": [
       "Sheet(cells=(Cell(column_end=0, column_start=0, numeric_format=None, row_end=2, row_start=0, squeeze_row=False…"
      ]
     },
     "metadata": {},
     "output_type": "display_data"
    }
   ],
   "source": [
    "arr = np.array([True, False, True])\n",
    "\n",
    "sheet = from_array(arr)\n",
    "sheet"
   ]
  },
  {
   "cell_type": "code",
   "execution_count": 3,
   "metadata": {},
   "outputs": [
    {
     "data": {
      "text/plain": [
       "array([[ True],\n",
       "       [False],\n",
       "       [ True]])"
      ]
     },
     "execution_count": 3,
     "metadata": {},
     "output_type": "execute_result"
    }
   ],
   "source": [
    "to_array(sheet)"
   ]
  },
  {
   "cell_type": "code",
   "execution_count": null,
   "metadata": {},
   "outputs": [],
   "source": [
    "import numpy as np\n",
    "import pandas as pd\n",
    "from ipysheet import from_dataframe, to_dataframe\n",
    "\n",
    "dates = pd.date_range('20130101', periods=6)\n",
    "df = pd.DataFrame(np.random.randn(6, 26), index=dates, columns=list(chr(ord('A') + i) for i in range(26)))\n",
    "\n",
    "sheet = from_dataframe(df)\n",
    "sheet\n",
    "\n"
   ]
  },
  {
   "cell_type": "code",
   "execution_count": 4,
   "metadata": {},
   "outputs": [
    {
     "ename": "NameError",
     "evalue": "name 'pd' is not defined",
     "output_type": "error",
     "traceback": [
      "\u001b[0;31m---------------------------------------------------------------------------\u001b[0m",
      "\u001b[0;31mNameError\u001b[0m                                 Traceback (most recent call last)",
      "\u001b[0;32m<ipython-input-4-da2c2edb4b45>\u001b[0m in \u001b[0;36m<module>\u001b[0;34m\u001b[0m\n\u001b[0;32m----> 1\u001b[0;31m df2 = pd.DataFrame({'A': 1.,\n\u001b[0m\u001b[1;32m      2\u001b[0m                     \u001b[0;34m'B'\u001b[0m\u001b[0;34m:\u001b[0m \u001b[0mpd\u001b[0m\u001b[0;34m.\u001b[0m\u001b[0mTimestamp\u001b[0m\u001b[0;34m(\u001b[0m\u001b[0;34m'20130102'\u001b[0m\u001b[0;34m)\u001b[0m\u001b[0;34m,\u001b[0m\u001b[0;34m\u001b[0m\u001b[0;34m\u001b[0m\u001b[0m\n\u001b[1;32m      3\u001b[0m                     \u001b[0;34m'C'\u001b[0m\u001b[0;34m:\u001b[0m \u001b[0mpd\u001b[0m\u001b[0;34m.\u001b[0m\u001b[0mSeries\u001b[0m\u001b[0;34m(\u001b[0m\u001b[0;36m1\u001b[0m\u001b[0;34m,\u001b[0m \u001b[0mindex\u001b[0m\u001b[0;34m=\u001b[0m\u001b[0mlist\u001b[0m\u001b[0;34m(\u001b[0m\u001b[0mrange\u001b[0m\u001b[0;34m(\u001b[0m\u001b[0;36m4\u001b[0m\u001b[0;34m)\u001b[0m\u001b[0;34m)\u001b[0m\u001b[0;34m,\u001b[0m \u001b[0mdtype\u001b[0m\u001b[0;34m=\u001b[0m\u001b[0;34m'float32'\u001b[0m\u001b[0;34m)\u001b[0m\u001b[0;34m,\u001b[0m\u001b[0;34m\u001b[0m\u001b[0;34m\u001b[0m\u001b[0m\n\u001b[1;32m      4\u001b[0m                     \u001b[0;34m'D'\u001b[0m\u001b[0;34m:\u001b[0m \u001b[0mnp\u001b[0m\u001b[0;34m.\u001b[0m\u001b[0marray\u001b[0m\u001b[0;34m(\u001b[0m\u001b[0;34m[\u001b[0m\u001b[0;32mFalse\u001b[0m\u001b[0;34m,\u001b[0m \u001b[0;32mTrue\u001b[0m\u001b[0;34m,\u001b[0m \u001b[0;32mFalse\u001b[0m\u001b[0;34m,\u001b[0m \u001b[0;32mFalse\u001b[0m\u001b[0;34m]\u001b[0m\u001b[0;34m,\u001b[0m \u001b[0mdtype\u001b[0m\u001b[0;34m=\u001b[0m\u001b[0;34m'bool'\u001b[0m\u001b[0;34m)\u001b[0m\u001b[0;34m,\u001b[0m\u001b[0;34m\u001b[0m\u001b[0;34m\u001b[0m\u001b[0m\n\u001b[1;32m      5\u001b[0m                     \u001b[0;34m'E'\u001b[0m\u001b[0;34m:\u001b[0m \u001b[0mpd\u001b[0m\u001b[0;34m.\u001b[0m\u001b[0mCategorical\u001b[0m\u001b[0;34m(\u001b[0m\u001b[0;34m[\u001b[0m\u001b[0;34m\"test\"\u001b[0m\u001b[0;34m,\u001b[0m \u001b[0;34m\"train\"\u001b[0m\u001b[0;34m,\u001b[0m \u001b[0;34m\"test\"\u001b[0m\u001b[0;34m,\u001b[0m \u001b[0;34m\"train\"\u001b[0m\u001b[0;34m]\u001b[0m\u001b[0;34m)\u001b[0m\u001b[0;34m,\u001b[0m\u001b[0;34m\u001b[0m\u001b[0;34m\u001b[0m\u001b[0m\n",
      "\u001b[0;31mNameError\u001b[0m: name 'pd' is not defined"
     ]
    }
   ],
   "source": [
    "\n",
    "\n",
    "df2 = pd.DataFrame({'A': 1.,\n",
    "                    'B': pd.Timestamp('20130102'),\n",
    "                    'C': pd.Series(1, index=list(range(4)), dtype='float32'),\n",
    "                    'D': np.array([False, True, False, False], dtype='bool'),\n",
    "                    'E': pd.Categorical([\"test\", \"train\", \"test\", \"train\"]),\n",
    "                    'F': 'foo'})\n",
    "\n",
    "df2.loc[[0, 2], ['B']] = np.nan\n",
    "\n",
    "sheet2 = from_dataframe(df2)\n",
    "sheet2\n",
    "\n"
   ]
  },
  {
   "cell_type": "code",
   "execution_count": null,
   "metadata": {},
   "outputs": [],
   "source": [
    "df3 = to_dataframe(sheet2)\n",
    "df3"
   ]
  },
  {
   "cell_type": "markdown",
   "metadata": {},
   "source": [
    "## qgrid\n",
    "https://github.com/quantopian/qgrid"
   ]
  },
  {
   "cell_type": "markdown",
   "metadata": {},
   "source": [
    "    bqplot, a d3-Jupyter bridge, and a 2-D plotting library following the constructs of the Grammar of Graphics,\n",
    "    ipyleaflet, a leaflet-Jupyter bridge enabling maps visualization in the Jupyter notebook,\n",
    "    pythreejs, a 3-D visualization library bringing the functionalities of Three.js into the Jupyter notebook,\n",
    "    ipyvolume, a 3-D plotting library also based on Three.js enabling volume rendering, quiver plots and much more."
   ]
  },
  {
   "cell_type": "code",
   "execution_count": null,
   "metadata": {},
   "outputs": [],
   "source": [
    "https://github.com/mariobuikhuizen/ipyvuetify"
   ]
  },
  {
   "cell_type": "markdown",
   "metadata": {},
   "source": [
    "    d3-slider, a d3.js-based slider,\n",
    "    drawing-pad, a 2-D drawing pad,\n",
    "\n",
    "We hope that the last example will become more than a demonstration:\n",
    "\n",
    "    ipypivot, a visual Pivot Table UI"
   ]
  }
 ],
 "metadata": {
  "kernelspec": {
   "display_name": "Python 3",
   "language": "python",
   "name": "python3"
  },
  "language_info": {
   "codemirror_mode": {
    "name": "ipython",
    "version": 3
   },
   "file_extension": ".py",
   "mimetype": "text/x-python",
   "name": "python",
   "nbconvert_exporter": "python",
   "pygments_lexer": "ipython3",
   "version": "3.7.4"
  }
 },
 "nbformat": 4,
 "nbformat_minor": 4
}
