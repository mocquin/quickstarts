{
 "cells": [
  {
   "cell_type": "code",
   "execution_count": 1,
   "metadata": {},
   "outputs": [
    {
     "name": "stdout",
     "output_type": "stream",
     "text": [
      "5.0.5\n"
     ]
    }
   ],
   "source": [
    "import traitlets\n",
    "print(traitlets.__version__)\n",
    "\n",
    "class Dude(traitlets.HasTraits):\n",
    "    \"\"\"\n",
    "    By default, a Dude is 20 and called Senior Dude.\n",
    "    \"\"\"\n",
    "    name = traitlets.Unicode()\n",
    "    age = traitlets.Int()\n",
    "    \n",
    "    def __init__(self, name, age):\n",
    "        self.name = name\n",
    "        self.age = age\n",
    "        \n",
    "    @traitlets.default(\"name\")\n",
    "    def _get_default_name(self):\n",
    "        return \"Senior Dude\"\n",
    "    \n",
    "    @traitlets.default(\"age\")\n",
    "    def _get_default_age(self):\n",
    "        return 20\n",
    "    \n",
    "    def __repr__(self):\n",
    "        return f\"Dude: {self.name}, {self.age}\"\n",
    "\n",
    "dude_jean = Dude(\"Jean\", 28)\n",
    "# dude_default = Dude() # raises TypeError: __init__() missing 2 required positional arguments: 'name' and 'age'"
   ]
  },
  {
   "cell_type": "code",
   "execution_count": 2,
   "metadata": {},
   "outputs": [
    {
     "name": "stdout",
     "output_type": "stream",
     "text": [
      "Dude: Jean, 28\n",
      "Dude: Senior Dude, 20\n"
     ]
    }
   ],
   "source": [
    "import traitlets\n",
    "\n",
    "class Dude(traitlets.HasTraits):\n",
    "    \"\"\"\n",
    "    By default, a Dude is 20 and called Senior Dude.\n",
    "    \"\"\"\n",
    "    name = traitlets.Unicode()\n",
    "    age = traitlets.Int()\n",
    "\n",
    "    @traitlets.default(\"name\")\n",
    "    def _get_default_name(self):\n",
    "        return \"Senior Dude\"\n",
    "    \n",
    "    @traitlets.default(\"age\")\n",
    "    def _get_default_age(self):\n",
    "        return 20\n",
    "\n",
    "    def __repr__(self):\n",
    "        return f\"Dude: {self.name}, {self.age}\"\n",
    "    \n",
    "dude_jean = Dude(name=\"Jean\", age=28)\n",
    "dude_default = Dude()\n",
    "print(dude_jean)\n",
    "print(dude_default)"
   ]
  },
  {
   "cell_type": "code",
   "execution_count": 3,
   "metadata": {},
   "outputs": [
    {
     "data": {
      "text/plain": [
       "Dude: Senior Dude, 20"
      ]
     },
     "execution_count": 3,
     "metadata": {},
     "output_type": "execute_result"
    }
   ],
   "source": [
    "dude_default"
   ]
  },
  {
   "cell_type": "code",
   "execution_count": 4,
   "metadata": {},
   "outputs": [],
   "source": [
    "dude_default.name = \"Jean\""
   ]
  },
  {
   "cell_type": "code",
   "execution_count": 5,
   "metadata": {},
   "outputs": [
    {
     "data": {
      "text/plain": [
       "Dude: Jean, 20"
      ]
     },
     "execution_count": 5,
     "metadata": {},
     "output_type": "execute_result"
    }
   ],
   "source": [
    "dude_default"
   ]
  },
  {
   "cell_type": "code",
   "execution_count": 6,
   "metadata": {},
   "outputs": [
    {
     "name": "stdout",
     "output_type": "stream",
     "text": [
      "Student ID :  0\n",
      "Student Name :  \n"
     ]
    }
   ],
   "source": [
    "class Student(traitlets.HasTraits):\n",
    "    studentId = traitlets.Int()\n",
    "    studentName = traitlets.Unicode()\n",
    "\n",
    "    def __init__(self):\n",
    "        pass\n",
    "\n",
    "student5 = Student()\n",
    "\n",
    "print(\"Student ID : \", student5.studentId)\n",
    "print(\"Student Name : \", student5.studentName)"
   ]
  },
  {
   "cell_type": "code",
   "execution_count": 7,
   "metadata": {},
   "outputs": [],
   "source": [
    "class Student(traitlets.HasTraits):\n",
    "    studentId = traitlets.Int()\n",
    "    studentName = traitlets.Unicode()\n",
    "    studentAddress = traitlets.Dict()\n",
    "\n",
    "    def __init__(self, studentId, studentName):\n",
    "        self.studentId = studentId\n",
    "        self.studentName = studentName\n",
    "\n",
    "def monitor_address_change(addr_change_details):\n",
    "    print(addr_change_details)\n",
    "    print(\"Old Address : \", addr_change_details[\"old\"])\n",
    "    print(\"New Address : \", addr_change_details[\"new\"])\n",
    "\n",
    "\n",
    "student7 = Student(7, \"Angela\")\n",
    "\n",
    "student7.observe(monitor_address_change, names = [\"studentAddress\"])"
   ]
  },
  {
   "cell_type": "code",
   "execution_count": null,
   "metadata": {},
   "outputs": [],
   "source": []
  }
 ],
 "metadata": {
  "kernelspec": {
   "display_name": "Python 3",
   "language": "python",
   "name": "python3"
  },
  "language_info": {
   "codemirror_mode": {
    "name": "ipython",
    "version": 3
   },
   "file_extension": ".py",
   "mimetype": "text/x-python",
   "name": "python",
   "nbconvert_exporter": "python",
   "pygments_lexer": "ipython3",
   "version": "3.7.4"
  }
 },
 "nbformat": 4,
 "nbformat_minor": 4
}
