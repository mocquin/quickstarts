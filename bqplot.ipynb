{
 "cells": [
  {
   "cell_type": "markdown",
   "metadata": {},
   "source": [
    "\n",
    " - https://github.com/ibdafna/learning_jupyter_with_bloomberg : see notebook 5 and 6 (4 for ipywidgets) \n",
    "  - video 5 : https://www.youtube.com/watch?v=VT7XX7hR5Do\n",
    " - https://github.com/ChakriCherukuri/mlviz : ML examples\n",
    "  - video : https://www.youtube.com/watch?v=zZ1y7cuT6_0\n",
    " -  \n",
    " - bqplot tutorial :\n",
    "\n",
    "\n",
    "Excel to jupyterlab jupytercon2020 : https://www.youtube.com/watch?v=hO6F2WJRf-U\n",
    " -  \n",
    "\n",
    " - https://github.com/dmadeka/SciPy2017\n",
    " - https://github.com/Emaasit/learning-ipywidgets : tutorials on widgets\n",
    " \n",
    "Image handling\n",
    " - https://github.com/bqplot/bqplot/blob/master/examples/Marks/Object%20Model/Image.ipynb\n",
    " - https://github.com/Who8MyLunch/Numpy_Image_Widget\n",
    " - https://ipycanvas.readthedocs.io/en/latest/drawing_images.html\n",
    " - https://github.com/jupyter-widgets/ipywidgets/issues/1532\n",
    " - https://github.com/jupyter-widgets/ipywidgets/blob/master/docs/source/examples/Image%20Processing.ipynb"
   ]
  },
  {
   "cell_type": "code",
   "execution_count": null,
   "metadata": {},
   "outputs": [],
   "source": []
  },
  {
   "cell_type": "code",
   "execution_count": null,
   "metadata": {},
   "outputs": [],
   "source": []
  },
  {
   "cell_type": "code",
   "execution_count": null,
   "metadata": {},
   "outputs": [],
   "source": []
  },
  {
   "cell_type": "code",
   "execution_count": 1,
   "metadata": {},
   "outputs": [],
   "source": [
    "import bqplot as bq\n",
    "import numpy as np\n",
    "import ipywidgets as widgets"
   ]
  },
  {
   "cell_type": "code",
   "execution_count": 1,
   "metadata": {},
   "outputs": [
    {
     "data": {
      "application/vnd.jupyter.widget-view+json": {
       "model_id": "2353914750c64ccb96ae7485a0ade01e",
       "version_major": 2,
       "version_minor": 0
      },
      "text/plain": [
       "VBox(children=(interactive(children=(FloatSlider(value=3.0, description='Randomness:', max=50.0, step=3.0), Ou…"
      ]
     },
     "metadata": {},
     "output_type": "display_data"
    }
   ],
   "source": [
    "def calcSlope(num_points, slope):\n",
    "    a = np.linspace(0, 9, num_points)\n",
    "    b = a * slope\n",
    "\n",
    "    line1.x = a\n",
    "    line1.y = b\n",
    "\n",
    "\n",
    "def calcXY(num_points, randNum):\n",
    "    x = np.linspace(3, 9, num_points)\n",
    "    y = x\n",
    "\n",
    "    # add randomness to scatter\n",
    "    x = np.random.uniform(low=1-randNum/100, high=1 +\n",
    "                          randNum/100, size=(len(x))) * x\n",
    "    y = np.random.uniform(low=1-randNum/100, high=1 +\n",
    "                          randNum/100, size=(len(y))) * y\n",
    "\n",
    "    # format & plot the figure\n",
    "    x_sc.min = x.min()\n",
    "    x_sc.max = x.max() + 1\n",
    "\n",
    "    scat.x = x\n",
    "    scat.y = y\n",
    "\n",
    "\n",
    "def rand_int(rand):\n",
    "    calcXY(num_i.children[0].value, rand)\n",
    "\n",
    "\n",
    "def num_points_int(num_points):\n",
    "    calcXY(num_points, rand_i.children[0].value)\n",
    "    calcSlope(num_points, slope_i.children[0].value)\n",
    "\n",
    "\n",
    "def slope_int(slope):\n",
    "    calcSlope(num_i.children[0].value, slope)\n",
    "\n",
    "\n",
    "rand_i = widgets.interactive(rand_int,\n",
    "                             rand=widgets.FloatSlider(\n",
    "                                 value=3,\n",
    "                                 min=0,\n",
    "                                 max=50,\n",
    "                                 step=3,\n",
    "                                 description='Randomness:', num_points=(10, 50, 5)\n",
    "                             )\n",
    "                             )\n",
    "\n",
    "\n",
    "num_i = widgets.interactive(num_points_int,\n",
    "                            num_points=widgets.IntSlider(\n",
    "                                value=20,\n",
    "                                min=10,\n",
    "                                max=50,\n",
    "                                step=5,\n",
    "                                description='Number of points:'\n",
    "                            )\n",
    "                            )\n",
    "\n",
    "\n",
    "slope_i = widgets.interactive(slope_int,\n",
    "                              slope=widgets.FloatSlider(\n",
    "                                  value=1,\n",
    "                                  min=-1,\n",
    "                                  max=5,\n",
    "                                  step=0.1,\n",
    "                                  description='Slope'\n",
    "                              )\n",
    "                              )\n",
    "\n",
    "\n",
    "# Create the initial bqplot figure\n",
    "x_sc = bq.LinearScale()\n",
    "ax_x = bq.Axis(label='X', scale=x_sc, grid_lines='solid', tick_format='0f')\n",
    "ax_y = bq.Axis(label='Y', scale=x_sc,\n",
    "               orientation='vertical', tick_format='0.2f')\n",
    "\n",
    "line1 = bq.Lines(scales={'x': x_sc, 'y': x_sc}, colors=[\n",
    "                 'blue'], display_legend=False, labels=['y1'], stroke_width=1.0)\n",
    "scat = bq.Scatter(scales={'x': x_sc, 'y': x_sc}, colors=[\n",
    "                  'red'], display_legend=False, labels=['y1'], stroke_width=1.0)\n",
    "\n",
    "\n",
    "calcSlope(num_i.children[0].value, slope_i.children[0].value)\n",
    "calcXY(num_i.children[0].value, rand_i.children[0].value)\n",
    "\n",
    "m_fig = dict(left=100, top=50, bottom=50, right=100)\n",
    "fig = bq.Figure(axes=[ax_x, ax_y], marks=[line1, scat],\n",
    "                fig_margin=m_fig, animation_duration=1000)\n",
    "\n",
    "widgets.VBox([rand_i, num_i, slope_i, fig])"
   ]
  },
  {
   "cell_type": "code",
   "execution_count": null,
   "metadata": {},
   "outputs": [],
   "source": []
  },
  {
   "cell_type": "markdown",
   "metadata": {},
   "source": [
    "# Datasaurus"
   ]
  },
  {
   "cell_type": "code",
   "execution_count": 6,
   "metadata": {},
   "outputs": [
    {
     "data": {
      "application/vnd.jupyter.widget-view+json": {
       "model_id": "2693358b22e747e286197c42a2eff082",
       "version_major": 2,
       "version_minor": 0
      },
      "text/plain": [
       "VBox(children=(Dropdown(description='Dataset', options=('away', 'bullseye', 'circle', 'dino', 'dots', 'h_lines…"
      ]
     },
     "metadata": {},
     "output_type": "display_data"
    }
   ],
   "source": [
    "import pandas as pd\n",
    "import ipywidgets as widgets\n",
    "import bqplot.pyplot as plt\n",
    "\n",
    "table_tmpl = \\\n",
    "    \"\"\"\n",
    "<table>\n",
    "<caption align=\"center\">Stats</caption>\n",
    "<tr>\n",
    "    <td style=\"font-weight: bold\">X Mean</td>\n",
    "    <td align=\"right\">{x_mean:.2f}</td>\n",
    "</tr>\n",
    "<tr>\n",
    "    <td style=\"font-weight: bold\">Y Mean</td>\n",
    "    <td align=\"right\">{y_mean:.2f}</td>\n",
    "</tr>\n",
    "<tr>\n",
    "    <td style=\"font-weight: bold\">X Std</td>\n",
    "    <td align=\"right\">{x_std:.2f}</td>\n",
    "</tr>\n",
    "<tr>\n",
    "    <td style=\"font-weight: bold\">Y Std</td>\n",
    "    <td align=\"right\">{y_std:.2f}</td>\n",
    "</tr>\n",
    "<tr>\n",
    "    <td style=\"font-weight: bold\">Correlation</td>\n",
    "    <td align=\"right\">{corr:.2f}</td>\n",
    "</tr>\n",
    "</table>\n",
    "\"\"\"\n",
    "datasaurus_data = pd.read_csv('data/datasaurus.csv', delimiter=';')\n",
    "\n",
    "# group by dataset and compute first two moments and corr\n",
    "dataset_gby = datasaurus_data.groupby('dataset')\n",
    "\n",
    "# basic stats for all datasets: mean and std\n",
    "stats = dataset_gby.agg(['mean', 'std'])\n",
    "\n",
    "# correlation between x and y for all datasets\n",
    "corr = dataset_gby.apply(lambda g: g['x'].corr(g['y']))\n",
    "\n",
    "# stats for all datasets\n",
    "stats_df = pd.concat([stats, corr], axis=1)\n",
    "stats_df.columns = ['x_mean', 'x_std', 'y_mean', 'y_std', 'corr']\n",
    "\n",
    "type_dd = widgets.Dropdown(description='Dataset',\n",
    "                           options=list(dataset_gby.groups.keys()))\n",
    "\n",
    "stats_table = widgets.HTML()\n",
    "stats_table.layout.width = '300px'\n",
    "\n",
    "scat_fig = plt.figure(animation_duration=1000, preserve_aspect=True)\n",
    "scat_fig.layout.width = '700px'\n",
    "scat_fig.layout.height = '600px'\n",
    "scat = plt.scatter([], [], colors=['deepskyblue'],\n",
    "                   default_size=40, stroke='black')\n",
    "plt.xlabel('X')\n",
    "plt.ylabel('Y')\n",
    "\n",
    "# historgrams of X and Y\n",
    "hist_layout = widgets.Layout(height='300px', width='400px')\n",
    "hist_title_tmpl = 'Histogram of {dataset}[{var}]'\n",
    "x_hist_fig = plt.figure(layout=hist_layout)\n",
    "x_hist = plt.hist([], colors=['orangered'], bins=30)\n",
    "\n",
    "y_hist_fig = plt.figure(layout=hist_layout)\n",
    "y_hist = plt.hist([], colors=['lightgreen'], bins=30)\n",
    "\n",
    "for axis in x_hist_fig.axes:\n",
    "    axis.grid_lines = 'none'\n",
    "\n",
    "for axis in y_hist_fig.axes:\n",
    "    axis.grid_lines = 'none'\n",
    "\n",
    "# create a callback to update the scatter and the stats table\n",
    "\n",
    "\n",
    "def update(*args):\n",
    "    dataset = type_dd.value\n",
    "    scat_fig.title = dataset\n",
    "    with scat.hold_sync():\n",
    "        x, y = (dataset_gby\n",
    "                .get_group(dataset)[['x', 'y']]\n",
    "                .values.T)\n",
    "        scat.x, scat.y = x, y\n",
    "\n",
    "    x_hist.sample = x\n",
    "    x_hist_fig.title = hist_title_tmpl.format(dataset=dataset,\n",
    "                                              var='x')\n",
    "    y_hist.sample = y\n",
    "    y_hist_fig.title = hist_title_tmpl.format(dataset=dataset,\n",
    "                                              var='y')\n",
    "\n",
    "    stats_dict = stats_df.loc[dataset].to_dict()\n",
    "    stats_table.value = table_tmpl.format(**stats_dict)\n",
    "\n",
    "\n",
    "type_dd.observe(update, 'value')\n",
    "\n",
    "# invoke the callback on startup\n",
    "update(None)\n",
    "\n",
    "histograms = widgets.VBox([x_hist_fig, y_hist_fig])\n",
    "widgets.VBox([type_dd, widgets.HBox([scat_fig, histograms, stats_table])],\n",
    "             layout=widgets.Layout(height=\"100%\"))\n",
    "\n",
    "# histograms.layout.overflow = 'visible'"
   ]
  },
  {
   "cell_type": "markdown",
   "metadata": {},
   "source": []
  },
  {
   "cell_type": "code",
   "execution_count": 16,
   "metadata": {},
   "outputs": [],
   "source": [
    "import matplotlib.pyplot as mplt\n",
    "\n",
    "\n",
    "def set_style(style='blackviz'):\n",
    "    mplt.rc('figure', facecolor='0.065', autolayout=False, dpi=120)\n",
    "    mplt.rc('axes', facecolor='0.125', edgecolor='w', grid=True, labelcolor='lightgrey', labelsize='large',\n",
    "            prop_cycle=mplt.cycler('color', ['deepskyblue', 'orangered', 'green', 'yellow', 'mintcream', 'magenta', 'darkorange']))\n",
    "\n",
    "    mplt.rc('xtick', color='w')\n",
    "    mplt.rc('ytick', color='w')\n",
    "    mplt.rc('grid', color='w', linestyle='-', alpha=0.25)\n",
    "    mplt.rc('font', size=12)\n",
    "    mplt.rc('text', color='lightgrey')\n",
    "    mplt.rc('lines', linewidth=2)\n",
    "    mplt.rc('figure', figsize='10, 8', titlesize='x-large')"
   ]
  },
  {
   "cell_type": "code",
   "execution_count": 17,
   "metadata": {},
   "outputs": [],
   "source": [
    "import bqplot as bqp\n",
    "import pandas as pd\n",
    "import numpy as np\n",
    "import ipywidgets as widgets\n",
    "import matplotlib.pyplot as mplt\n",
    "import bqplot.pyplot as plt\n",
    "# from utils.plot_utils import set_style # Helper function for nicer looking plots."
   ]
  },
  {
   "cell_type": "code",
   "execution_count": 18,
   "metadata": {},
   "outputs": [],
   "source": [
    "# Styling for dark background matplotlib charts\n",
    "set_style()"
   ]
  },
  {
   "cell_type": "code",
   "execution_count": 19,
   "metadata": {},
   "outputs": [],
   "source": [
    "# Some fake data\n",
    "np.random.seed(0)\n",
    "x_data = np.arange(1, 21, 1)\n",
    "y_fake_line = 100 + np.random.normal(0, 1, 20).cumsum()\n",
    "y_fake_dots = np.random.normal(1, 10, 20)"
   ]
  },
  {
   "cell_type": "code",
   "execution_count": 20,
   "metadata": {},
   "outputs": [
    {
     "data": {
      "image/png": "[encoded data removed]",
      "text/plain": [
       "<Figure size 1920x480 with 2 Axes>"
      ]
     },
     "metadata": {},
     "output_type": "display_data"
    }
   ],
   "source": [
    "# Using matplotlib\n",
    "fig, axes = mplt.subplots(1, 2, figsize=(16, 4))\n",
    "axes[0].scatter(x_data, y_fake_dots)\n",
    "axes[1].plot(x_data, y_fake_line);"
   ]
  },
  {
   "cell_type": "code",
   "execution_count": 22,
   "metadata": {},
   "outputs": [
    {
     "data": {
      "application/vnd.jupyter.widget-view+json": {
       "model_id": "1c2d4d2693614b9fa893e78f92cd0280",
       "version_major": 2,
       "version_minor": 0
      },
      "text/plain": [
       "VBox(children=(Figure(axes=[Axis(scale=LinearScale()), Axis(orientation='vertical', scale=LinearScale())], fig…"
      ]
     },
     "metadata": {},
     "output_type": "display_data"
    }
   ],
   "source": [
    "# Using bqplot\n",
    "plt.figure()\n",
    "plt.plot(x_data, y_fake_line)\n",
    "plt.show()"
   ]
  },
  {
   "cell_type": "code",
   "execution_count": 23,
   "metadata": {},
   "outputs": [],
   "source": [
    "def generate_fake_stock_price(steps):\n",
    "    return (np.arange(steps), 100 + np.random.normal(0, 1, steps).cumsum())"
   ]
  },
  {
   "cell_type": "code",
   "execution_count": 24,
   "metadata": {},
   "outputs": [],
   "source": [
    "# Data\n",
    "x_data, y_data = generate_fake_stock_price(100)"
   ]
  },
  {
   "cell_type": "code",
   "execution_count": 25,
   "metadata": {},
   "outputs": [
    {
     "data": {
      "application/vnd.jupyter.widget-view+json": {
       "model_id": "b032e6532c6d49e493d3f9b782dbd415",
       "version_major": 2,
       "version_minor": 0
      },
      "text/plain": [
       "VBox(children=(Figure(axes=[Axis(scale=LinearScale()), Axis(orientation='vertical', scale=LinearScale())], fig…"
      ]
     },
     "metadata": {},
     "output_type": "display_data"
    }
   ],
   "source": [
    "plt.figure()\n",
    "plt.plot(x_data, y_data)\n",
    "plt.show()"
   ]
  },
  {
   "cell_type": "code",
   "execution_count": 26,
   "metadata": {},
   "outputs": [
    {
     "data": {
      "application/vnd.jupyter.widget-view+json": {
       "model_id": "a2349b8ba77047a59e5b4dabfaa521f0",
       "version_major": 2,
       "version_minor": 0
      },
      "text/plain": [
       "Figure(axes=[Axis(label='Index', scale=LinearScale()), Axis(label='y-value', orientation='vertical', scale=Lin…"
      ]
     },
     "metadata": {},
     "output_type": "display_data"
    }
   ],
   "source": [
    "https://www.youtube.com/watch?v=VT7XX7hR5Do"
   ]
  },
  {
   "cell_type": "code",
   "execution_count": 36,
   "metadata": {},
   "outputs": [],
   "source": [
    "line.x, line.y = generate_fake_stock_price(100)"
   ]
  },
  {
   "cell_type": "code",
   "execution_count": 34,
   "metadata": {},
   "outputs": [],
   "source": [
    "fig.animation_duration = 1000  # transition animation in milliseconds"
   ]
  },
  {
   "cell_type": "code",
   "execution_count": 37,
   "metadata": {},
   "outputs": [],
   "source": [
    "fig.title = 'A new title for my chart'"
   ]
  },
  {
   "cell_type": "code",
   "execution_count": 38,
   "metadata": {},
   "outputs": [],
   "source": [
    "line.colors = ['limegreen']"
   ]
  },
  {
   "cell_type": "code",
   "execution_count": 39,
   "metadata": {},
   "outputs": [],
   "source": [
    "ax_x.label_location = 'end'\n",
    "ax_y.label_location = 'start'"
   ]
  },
  {
   "cell_type": "code",
   "execution_count": 27,
   "metadata": {},
   "outputs": [
    {
     "data": {
      "text/plain": [
       "array([ 0,  1,  2,  3,  4,  5,  6,  7,  8,  9, 10, 11, 12, 13, 14, 15, 16,\n",
       "       17, 18, 19, 20, 21, 22, 23, 24, 25, 26, 27, 28, 29, 30, 31, 32, 33,\n",
       "       34, 35, 36, 37, 38, 39, 40, 41, 42, 43, 44, 45, 46, 47, 48, 49, 50,\n",
       "       51, 52, 53, 54, 55, 56, 57, 58, 59, 60, 61, 62, 63, 64, 65, 66, 67,\n",
       "       68, 69, 70, 71, 72, 73, 74, 75, 76, 77, 78, 79, 80, 81, 82, 83, 84,\n",
       "       85, 86, 87, 88, 89, 90, 91, 92, 93, 94, 95, 96, 97, 98, 99])"
      ]
     },
     "execution_count": 27,
     "metadata": {},
     "output_type": "execute_result"
    }
   ],
   "source": [
    "line.x"
   ]
  },
  {
   "cell_type": "code",
   "execution_count": 28,
   "metadata": {},
   "outputs": [
    {
     "data": {
      "text/plain": [
       "array([ 98.95144703,  97.5314291 ,  95.82515891,  97.7759343 ,\n",
       "        97.26628212,  96.82820782,  95.57541246,  96.35290281,\n",
       "        94.73900497,  94.52626469,  93.63079813,  94.01770062,\n",
       "        93.50689549,  92.3262633 ,  92.29808107,  92.72641294,\n",
       "        92.79293017,  93.09540206,  92.46107997,  92.0983388 ,\n",
       "        91.42587836,  91.0663252 ,  90.25317891,  88.52689631,\n",
       "        88.70432245,  88.30254152,  86.67234317,  87.13512543,\n",
       "        86.22782706,  86.27977246,  87.00886302,  87.13784593,\n",
       "        88.27724661,  87.04242079,  87.44476244,  86.75995234,\n",
       "        85.8891552 ,  85.31030553,  84.998753  ,  85.05491834,\n",
       "        83.8897685 ,  84.79059499,  85.25625743,  83.72001374,\n",
       "        85.20826593,  87.10415511,  88.28293468,  88.10300985,\n",
       "        87.03225722,  88.08670895,  87.683532  ,  88.90597707,\n",
       "        89.11425205,  90.09089109,  90.44725749,  91.15383065,\n",
       "        91.16433067,  92.95020117,  93.07711326,  93.47910262,\n",
       "        95.36225332,  94.01449426,  92.74400926,  93.71340597,\n",
       "        92.54028257,  94.48390375,  94.07028477,  93.32282996,\n",
       "        95.24577199,  96.72628678,  98.59384574,  99.4998904 ,\n",
       "        98.63866471, 100.54872966, 100.28072629, 101.08318269,\n",
       "       102.03043466, 101.87542456, 102.48950393, 103.4117106 ,\n",
       "       103.78813614, 102.68873535, 102.98697352, 104.31335942,\n",
       "       103.61879156, 103.46915702, 103.03400346, 104.88326719,\n",
       "       105.55556195, 105.96302379, 105.19310771, 105.7323569 ,\n",
       "       105.05802424, 105.0898548 , 104.45400872, 105.13044202,\n",
       "       105.70703283, 105.49873408, 105.89474079, 104.80167928])"
      ]
     },
     "execution_count": 28,
     "metadata": {},
     "output_type": "execute_result"
    }
   ],
   "source": [
    "line.y"
   ]
  },
  {
   "cell_type": "code",
   "execution_count": 40,
   "metadata": {},
   "outputs": [
    {
     "data": {
      "application/vnd.jupyter.widget-view+json": {
       "model_id": "0e200bb88c8c49919f29191190218160",
       "version_major": 2,
       "version_minor": 0
      },
      "text/plain": [
       "VBox(children=(Button(button_style='warning', description='Change line!', style=ButtonStyle()), Figure(animati…"
      ]
     },
     "metadata": {},
     "output_type": "display_data"
    }
   ],
   "source": [
    "\n",
    "\n",
    "# Callback function for the button\n",
    "def change_line(click=None):\n",
    "    line.x, line.y = generate_fake_stock_price(100)\n",
    "    line.colors = [bqp.CATEGORY10[np.random.randint(len(bqp.CATEGORY10))]]\n",
    "    fig.title = \"Line chart with color {}\".format(line.colors)\n",
    "\n",
    "\n",
    "btn = widgets.Button(description='Change line!', button_style='warning')\n",
    "btn.on_click(change_line)\n",
    "widgets.VBox([btn, fig])"
   ]
  },
  {
   "cell_type": "code",
   "execution_count": 41,
   "metadata": {},
   "outputs": [],
   "source": [
    "line.display_legend = False"
   ]
  },
  {
   "cell_type": "code",
   "execution_count": 42,
   "metadata": {},
   "outputs": [
    {
     "data": {
      "application/vnd.jupyter.widget-view+json": {
       "model_id": "7ee8fb49545b4de4b49b0c7354943a96",
       "version_major": 2,
       "version_minor": 0
      },
      "text/plain": [
       "Figure(axes=[Axis(scale=LinearScale()), Axis(orientation='vertical', scale=LinearScale())], fig_margin={'top':…"
      ]
     },
     "metadata": {},
     "output_type": "display_data"
    }
   ],
   "source": [
    "fig = plt.figure()\n",
    "line = plt.plot(np.arange(10), np.arange(10), colors=['hotpink', 'orange'])\n",
    "fig"
   ]
  },
  {
   "cell_type": "code",
   "execution_count": 43,
   "metadata": {},
   "outputs": [],
   "source": [
    "# Set the grid lines of axes to dashed\n",
    "xax, yax = plt.axes()['x'], plt.axes()['y']\n",
    "\n",
    "xax.grid_lines = 'dashed'\n",
    "yax.grid_lines = 'dashed'"
   ]
  },
  {
   "cell_type": "code",
   "execution_count": 44,
   "metadata": {},
   "outputs": [],
   "source": [
    "# Change the side of the axis\n",
    "yax.side = 'right'\n",
    "xax.side = 'top'"
   ]
  },
  {
   "cell_type": "code",
   "execution_count": 45,
   "metadata": {},
   "outputs": [],
   "source": [
    "# change the orientation of axes\n",
    "yax.orientation = 'horizontal'\n",
    "xax.orientation = 'vertical'"
   ]
  },
  {
   "cell_type": "code",
   "execution_count": 46,
   "metadata": {},
   "outputs": [],
   "source": [
    "# Change the color of the axis\n",
    "with xax.hold_sync():\n",
    "    xax.color = 'orangered'\n",
    "    xax.label_color = 'orangered'"
   ]
  },
  {
   "cell_type": "code",
   "execution_count": 47,
   "metadata": {},
   "outputs": [],
   "source": [
    "# Change the grid colors\n",
    "xax.grid_color = 'red'"
   ]
  },
  {
   "cell_type": "code",
   "execution_count": 48,
   "metadata": {},
   "outputs": [
    {
     "data": {
      "application/vnd.jupyter.widget-view+json": {
       "model_id": "d5ead23cdc4246c69e56eb0d39b01027",
       "version_major": 2,
       "version_minor": 0
      },
      "text/plain": [
       "Figure(animation_duration=1000, axes=[Axis(label='x', scale=LinearScale()), Axis(label='y', orientation='verti…"
      ]
     },
     "metadata": {},
     "output_type": "display_data"
    }
   ],
   "source": [
    "x = np.arange(100)\n",
    "y = np.cumsum(np.random.randn(2, 100), axis=1)  # two random walks\n",
    "\n",
    "axes_options = {'x': {'label': 'x'}, 'y': {'label': 'y'}}\n",
    "fig = plt.figure(animation_duration=1000)\n",
    "lines = plt.plot(x=x, y=y, colors=[\n",
    "                 'darkorange', 'dodgerblue'], axes_options=axes_options)\n",
    "fig"
   ]
  },
  {
   "cell_type": "code",
   "execution_count": 51,
   "metadata": {},
   "outputs": [],
   "source": [
    "# Update data of the line mark\n",
    "lines.y = np.cumsum(np.random.randn(2, 100), axis=1)"
   ]
  },
  {
   "cell_type": "code",
   "execution_count": 52,
   "metadata": {},
   "outputs": [
    {
     "data": {
      "application/vnd.jupyter.widget-view+json": {
       "model_id": "ad87cc38f1744351a276c9227dbda48f",
       "version_major": 2,
       "version_minor": 0
      },
      "text/plain": [
       "Figure(axes=[Axis(scale=LinearScale(max=90.0, min=10.0)), Axis(orientation='vertical', scale=LinearScale())], …"
      ]
     },
     "metadata": {},
     "output_type": "display_data"
    }
   ],
   "source": [
    "x = np.arange(100)\n",
    "y1, y2 = np.random.randn(2, 100).cumsum(axis=1)\n",
    "\n",
    "fig = plt.figure()\n",
    "plt.scales(scales={'x': bqp.LinearScale(min=10, max=90)})\n",
    "line1 = plt.plot(x, y1, 'm', labels=['Clipped Line'], display_legend=True)\n",
    "line2 = plt.plot(x, y2, 'y', apply_clip=False, labels=[\n",
    "                 'Non clipped line'], display_legend=True)\n",
    "fig"
   ]
  },
  {
   "cell_type": "code",
   "execution_count": 53,
   "metadata": {},
   "outputs": [
    {
     "data": {
      "application/vnd.jupyter.widget-view+json": {
       "model_id": "db92da174bfa4d88904a2a0ea428239a",
       "version_major": 2,
       "version_minor": 0
      },
      "text/plain": [
       "Figure(animation_duration=1000, axes=[Axis(label='X Axis', scale=LinearScale()), Axis(label='Y-Axis', orientat…"
      ]
     },
     "metadata": {},
     "output_type": "display_data"
    }
   ],
   "source": [
    "# Scales for x and y axes\n",
    "sc_x = bqp.LinearScale()\n",
    "sc_y = bqp.LinearScale()\n",
    "\n",
    "# Tooltip widget - new addition\n",
    "ttip = bqp.Tooltip(fields=['x', 'y'], formats=['', '.2f'])\n",
    "\n",
    "# Scatter mark\n",
    "scatt = bqp.Scatter(x=x_data[:20], y=y_fake_dots, scales={'x': sc_x, 'y': sc_y},  labels=['Random scatter data'],\n",
    "                    colors=bqp.CATEGORY10, display_legend=True, tooltip=ttip)\n",
    "\n",
    "# Axes for both x and y\n",
    "ax_x = bqp.Axis(scale=sc_x, label='X Axis')\n",
    "ax_y = bqp.Axis(scale=sc_y, orientation='vertical',\n",
    "                tick_format='0.0f', label=\"Y-Axis\")\n",
    "\n",
    "# Figure object\n",
    "fig = bqp.Figure(marks=[scatt], axes=[ax_x, ax_y],\n",
    "                 title='Scatter Chart', animation_duration=1000)\n",
    "fig"
   ]
  },
  {
   "cell_type": "code",
   "execution_count": 54,
   "metadata": {},
   "outputs": [],
   "source": [
    "regression = np.polyfit(x_data[:20], y_fake_dots, deg=1)\n",
    "polyfit = np.polyval(regression, x_data)\n",
    "\n",
    "# Creating a line mark\n",
    "ols_line = bqp.Lines(x=x_data[:20], y=polyfit, scales={\n",
    "                     'x': sc_x, 'y': sc_y}, colors=['pink'])\n",
    "\n",
    "# Adding the regression line\n",
    "fig.marks = [scatt, ols_line]"
   ]
  },
  {
   "cell_type": "code",
   "execution_count": 55,
   "metadata": {},
   "outputs": [],
   "source": [
    "scatt.enable_move = True"
   ]
  },
  {
   "cell_type": "code",
   "execution_count": 56,
   "metadata": {},
   "outputs": [
    {
     "data": {
      "application/vnd.jupyter.widget-view+json": {
       "model_id": "be68ce77be0549fdbd97c2d9272e806c",
       "version_major": 2,
       "version_minor": 0
      },
      "text/plain": [
       "VBox(children=(IntSlider(value=2, max=5, min=1), Figure(animation_duration=1000, axes=[Axis(label='X Axis', sc…"
      ]
     },
     "metadata": {},
     "output_type": "display_data"
    }
   ],
   "source": [
    "# Some widgets\n",
    "slider_scatt = widgets.IntSlider(value=2, min=1, max=5)\n",
    "\n",
    "# Callback for linear regression degree of freedom change\n",
    "\n",
    "\n",
    "def scatter_callback(click=None):\n",
    "    # New regression\n",
    "    regression = np.polyfit(scatt.x, scatt.y, deg=slider_scatt.value)\n",
    "    polyfit = np.polyval(regression, scatt.x)\n",
    "\n",
    "    with ols_line.hold_sync():\n",
    "        ols_line.x = scatt.x\n",
    "        ols_line.y = polyfit\n",
    "\n",
    "\n",
    "# Listening for change events\n",
    "scatt.observe(scatter_callback, names=['x'])\n",
    "scatt.observe(scatter_callback, names=['y'])\n",
    "slider_scatt.observe(scatter_callback, 'value')\n",
    "\n",
    "widgets.VBox([slider_scatt, fig])"
   ]
  },
  {
   "cell_type": "code",
   "execution_count": 57,
   "metadata": {},
   "outputs": [
    {
     "data": {
      "text/plain": [
       "array([-0.67403993, -0.36909123, -0.06414253,  0.24080617,  0.54575487,\n",
       "        0.54575487,  1.15565227,  1.46060097,  1.76554968,  2.07049838,\n",
       "        2.37544708,  2.68039578,  2.98534448,  3.29029318,  3.59524188,\n",
       "        3.90019058,  4.20513928,  4.51008798,  4.81503668,  5.11998538])"
      ]
     },
     "execution_count": 57,
     "metadata": {},
     "output_type": "execute_result"
    }
   ],
   "source": [
    "ols_line.y"
   ]
  },
  {
   "cell_type": "code",
   "execution_count": 58,
   "metadata": {},
   "outputs": [
    {
     "data": {
      "application/vnd.jupyter.widget-view+json": {
       "model_id": "2d5fbbe7d8c3459c86fa697aa6c66e8b",
       "version_major": 2,
       "version_minor": 0
      },
      "text/plain": [
       "Figure(animation_duration=1000, axes=[Axis(label='x', scale=LinearScale()), Axis(label='y', orientation='verti…"
      ]
     },
     "metadata": {},
     "output_type": "display_data"
    }
   ],
   "source": [
    "fig = plt.figure(animation_duration=1000)\n",
    "x, y = np.random.rand(2, 20)\n",
    "scatt = plt.scatter(x, y, colors=['yellowgreen'], axes_options=axes_options)\n",
    "fig"
   ]
  },
  {
   "cell_type": "code",
   "execution_count": 61,
   "metadata": {},
   "outputs": [],
   "source": [
    "scatt.x = np.random.rand(20) * 10\n",
    "scatt.y = np.random.rand(20)"
   ]
  },
  {
   "cell_type": "code",
   "execution_count": 62,
   "metadata": {},
   "outputs": [],
   "source": [
    "# Some data\n",
    "size = 100\n",
    "np.random.seed(0)\n",
    "\n",
    "x_data = range(size)\n",
    "y_data = np.random.randn(size)\n",
    "y_data_2 = np.random.randn(size)\n",
    "y_data_3 = np.cumsum(np.random.randn(size) * 100.)"
   ]
  },
  {
   "cell_type": "code",
   "execution_count": 63,
   "metadata": {},
   "outputs": [
    {
     "data": {
      "application/vnd.jupyter.widget-view+json": {
       "model_id": "bda9946e4e4e4739a922106ac1758165",
       "version_major": 2,
       "version_minor": 0
      },
      "text/plain": [
       "Figure(animation_duration=1000, axes=[Axis(scale=OrdinalScale()), Axis(orientation='vertical', scale=LinearSca…"
      ]
     },
     "metadata": {},
     "output_type": "display_data"
    }
   ],
   "source": [
    "x_ord = bqp.OrdinalScale()\n",
    "y_sc = bqp.LinearScale()\n",
    "\n",
    "bar = bqp.Bars(x=np.arange(1, 11), y=np.arange(1, 11), scales={\n",
    "               'x': x_ord, 'y': y_sc}, colors=bqp.CATEGORY10)\n",
    "ax_x = bqp.Axis(scale=x_ord)\n",
    "ax_y = bqp.Axis(scale=y_sc, tick_format='0.2f', orientation='vertical')\n",
    "\n",
    "bqp.Figure(marks=[bar], axes=[ax_x, ax_y], padding_x=0.025,\n",
    "           padding_y=0.025, animation_duration=1000)"
   ]
  },
  {
   "cell_type": "code",
   "execution_count": 65,
   "metadata": {},
   "outputs": [],
   "source": [
    "# Changing the orientation\n",
    "bar.orientation = 'horizontal'"
   ]
  },
  {
   "cell_type": "code",
   "execution_count": 66,
   "metadata": {},
   "outputs": [],
   "source": [
    "# Adding labels\n",
    "bar.label_display = True\n",
    "bar.label_display_format = '.1f'\n",
    "bar.label_font_style = {'fill': 'white', 'font-size': '10px'}"
   ]
  },
  {
   "cell_type": "code",
   "execution_count": 67,
   "metadata": {},
   "outputs": [],
   "source": [
    "# Changing opacities\n",
    "bar.opacities = [0.5, 0.2]"
   ]
  },
  {
   "cell_type": "code",
   "execution_count": 68,
   "metadata": {},
   "outputs": [],
   "source": [
    "# Updating data\n",
    "bar.orientation = 'vertical'\n",
    "bar.opacities = [1]\n",
    "bar.y = np.arange(-5, 5)"
   ]
  },
  {
   "cell_type": "code",
   "execution_count": 69,
   "metadata": {},
   "outputs": [
    {
     "data": {
      "application/vnd.jupyter.widget-view+json": {
       "model_id": "89b9202ed42a4267943ff05140272e57",
       "version_major": 2,
       "version_minor": 0
      },
      "text/plain": [
       "Figure(axes=[Axis(grid_lines='none', label='Date', scale=DateScale(min=datetime.datetime(2007, 1, 1, 0, 0))), …"
      ]
     },
     "metadata": {},
     "output_type": "display_data"
    }
   ],
   "source": [
    "\n",
    "\n",
    "# Import to process datetime data\n",
    "from datetime import datetime as py_dtime\n",
    "\n",
    "# Data\n",
    "price_data = pd.DataFrame(np.cumsum(np.random.randn(150, 2).dot([[0.5, 0.4], [0.4, 1.0]]), axis=0) + 100,\n",
    "                          columns=['Security 1', 'Security 2'],\n",
    "                          index=pd.date_range(start='01-01-2007', periods=150))\n",
    "\n",
    "symbol = 'Security 1'\n",
    "symbol2 = 'Security 2'\n",
    "date_fmt = '%m-%d-%Y'\n",
    "sec2_data = price_data[symbol2].values\n",
    "dates = price_data.index.values\n",
    "dates_actual = price_data.index.values\n",
    "prices = price_data[symbol].values\n",
    "\n",
    "\n",
    "# Chart\n",
    "xs_hd = bqp.DateScale(min=np.datetime64(py_dtime(2007, 1, 1)))\n",
    "ys_hd = bqp.LinearScale()\n",
    "line_hd = bqp.Lines(x=dates_actual, y=sec2_data, scales={\n",
    "                    'x': xs_hd, 'y': ys_hd}, colors=['darkseagreen'])\n",
    "\n",
    "handdraw = bqp.interacts.HandDraw(lines=line_hd)\n",
    "xax = bqp.Axis(scale=xs_hd, label='Date', grid_lines='none')\n",
    "yax = bqp.Axis(scale=ys_hd, label='Price',\n",
    "               orientation='vertical', grid_lines='none')\n",
    "\n",
    "bqp.Figure(marks=[line_hd], axes=[xax, yax], interaction=handdraw)"
   ]
  },
  {
   "cell_type": "code",
   "execution_count": 70,
   "metadata": {},
   "outputs": [
    {
     "data": {
      "text/plain": [
       "array([101.13551994, 100.40807612, 100.21390956,  98.33348867,\n",
       "        98.45142449,  99.47568767,  98.2942796 ,  76.4608051 ,\n",
       "        72.68809185,  72.68809185,  72.9513044 ,  72.9513044 ,\n",
       "        72.9513044 ,  73.47772951,  73.47772951,  73.47772951,\n",
       "        73.47772951,  73.47772951,  73.47772951,  74.17962964,\n",
       "        74.17962964,  74.17962964,  74.17962964,  74.17962964,\n",
       "        74.17962964,  74.17962964,  74.17962964,  74.70605475,\n",
       "        74.70605475,  74.70605475,  74.70605475,  74.70605475,\n",
       "        74.70605475,  74.70605475,  74.70605475,  74.88152978,\n",
       "        74.88152978,  74.88152978,  74.88152978,  74.88152978,\n",
       "        74.88152978,  74.88152978,  74.88152978,  74.88152978,\n",
       "        74.88152978,  74.88152978,  74.88152978,  74.88152978,\n",
       "        74.88152978,  74.88152978,  74.88152978,  74.88152978,\n",
       "        74.88152978,  74.88152978,  74.88152978,  74.88152978,\n",
       "        74.88152978,  74.88152978,  74.88152978,  74.88152978,\n",
       "        74.88152978,  74.4428422 ,  74.4428422 ,  74.4428422 ,\n",
       "        74.4428422 ,  74.4428422 ,  74.4428422 ,  74.4428422 ,\n",
       "        74.00415461,  74.00415461,  74.00415461,  74.00415461,\n",
       "        74.00415461,  73.38999199,  73.38999199,  73.38999199,\n",
       "        73.38999199,  73.38999199,  73.38999199,  73.12677944,\n",
       "        73.12677944,  73.03904192,  73.03904192,  73.03904192,\n",
       "        73.03904192,  73.30225447,  73.30225447,  73.30225447,\n",
       "        73.38999199,  73.38999199,  73.38999199,  73.38999199,\n",
       "        73.38999199,  73.38999199,  73.38999199,  73.38999199,\n",
       "        73.38999199,  73.38999199,  73.38999199,  73.38999199,\n",
       "        73.38999199,  73.38999199,  73.38999199,  73.38999199,\n",
       "        73.38999199,  73.38999199,  73.38999199,  73.38999199,\n",
       "        73.38999199,  73.38999199,  73.38999199,  73.38999199,\n",
       "        73.38999199,  73.21451695,  73.21451695,  73.12677944,\n",
       "        73.12677944,  73.03904192,  72.9513044 ,  72.9513044 ,\n",
       "        72.9513044 ,  72.9513044 ,  72.9513044 ,  72.9513044 ,\n",
       "        72.9513044 ,  73.03904192,  73.03904192,  73.03904192,\n",
       "        73.03904192,  73.03904192,  73.03904192,  73.21451695,\n",
       "        73.30225447,  73.38999199,  78.25745573,  76.60922808,\n",
       "        77.39193278,  77.26402589,  75.82346337,  76.90412164,\n",
       "        75.46350827,  75.79254481,  75.1001833 ,  75.45879673,\n",
       "        72.25569807,  72.91206579,  71.74021275,  72.26016033,\n",
       "        71.85541571,  71.30476401])"
      ]
     },
     "execution_count": 70,
     "metadata": {},
     "output_type": "execute_result"
    }
   ],
   "source": [
    "line_hd.y"
   ]
  },
  {
   "cell_type": "code",
   "execution_count": 71,
   "metadata": {},
   "outputs": [
    {
     "data": {
      "application/vnd.jupyter.widget-view+json": {
       "model_id": "8466ede89fc340ebb1fd2fb12619644b",
       "version_major": 2,
       "version_minor": 0
      },
      "text/plain": [
       "VBox(children=(HTML(value=\"<h1 style='color:linen'>Selected indices will be displayed here</h1>\"), Figure(axes…"
      ]
     },
     "metadata": {},
     "output_type": "display_data"
    }
   ],
   "source": [
    "# Callback for the selector\n",
    "def brush_callback(change):\n",
    "    if(not br_intsel.brushing):\n",
    "        html_readout.value = \"<h1 style='color:linen'>Selected indices: {}-{}</h1>\".format(\n",
    "            br_intsel.selected[0], br_intsel.selected[1])\n",
    "\n",
    "\n",
    "# Chart\n",
    "x_ord = bqp.OrdinalScale()\n",
    "y_sc = bqp.LinearScale()\n",
    "\n",
    "bar = bqp.Bars(x=x_data, y=[y_data[:20], y_data_2[:20]],\n",
    "               scales={'x': x_ord, 'y': y_sc}, padding=0.2,\n",
    "               colors=bqp.CATEGORY10)\n",
    "\n",
    "br_intsel = bqp.interacts.BrushIntervalSelector(scale=x_ord, marks=[bar])\n",
    "br_intsel.observe(brush_callback, names=['selected'])\n",
    "br_intsel.observe(brush_callback, names=['brushing'])\n",
    "\n",
    "ax_x = bqp.Axis(scale=x_ord)\n",
    "ax_y = bqp.Axis(scale=y_sc, orientation='vertical', tick_format='0.2f')\n",
    "\n",
    "fig = bqp.Figure(marks=[bar], axes=[ax_x, ax_y], interaction=br_intsel)\n",
    "\n",
    "# Some widgetry\n",
    "html_readout = widgets.HTML(\n",
    "    value=\"<h1 style='color:linen'>Selected indices will be displayed here</h1>\")\n",
    "widgets.VBox([html_readout, fig])"
   ]
  },
  {
   "cell_type": "code",
   "execution_count": 72,
   "metadata": {},
   "outputs": [],
   "source": [
    "# color_mode: {'auto', 'group', 'element', 'no_group'}\n",
    "bar.color_mode = 'group'"
   ]
  },
  {
   "cell_type": "code",
   "execution_count": 73,
   "metadata": {},
   "outputs": [],
   "source": [
    "# color_mode: {'auto', 'group', 'element', 'no_group'}\n",
    "bar.color_mode = 'element'"
   ]
  },
  {
   "cell_type": "code",
   "execution_count": 74,
   "metadata": {},
   "outputs": [],
   "source": [
    "# color_mode: {'auto', 'group', 'element', 'no_group'}\n",
    "bar.color_mode = 'no_group'"
   ]
  },
  {
   "cell_type": "code",
   "execution_count": 75,
   "metadata": {},
   "outputs": [],
   "source": [
    "# Data\n",
    "np.random.seed(0)\n",
    "n = 100\n",
    "x_data = range(n)\n",
    "y_data = np.cumsum(np.random.randn(n) * 100.0)"
   ]
  },
  {
   "cell_type": "code",
   "execution_count": 76,
   "metadata": {},
   "outputs": [],
   "source": [
    "def create_fig(color_scale, color_data, fig_margin=None):\n",
    "    # allow some margin on right for color bar\n",
    "    if fig_margin is None:\n",
    "        fig_margin = dict(top=50, bottom=70, left=50, right=100)\n",
    "    fig = plt.figure(title='Up and Down', fig_margin=fig_margin)\n",
    "\n",
    "    # setup color scale\n",
    "    plt.scales(scales={'color': color_scale})\n",
    "\n",
    "    # show color bar on right\n",
    "    axes_options = {'color': {'orientation': 'vertical', 'side': 'right'}}\n",
    "    scat = plt.scatter(x_data, y_data, color=color_data,\n",
    "                       stroke='black', axes_options=axes_options)\n",
    "    return fig"
   ]
  },
  {
   "cell_type": "code",
   "execution_count": 77,
   "metadata": {},
   "outputs": [
    {
     "data": {
      "application/vnd.jupyter.widget-view+json": {
       "model_id": "8697c845697b4195adcff0abbf87b6f9",
       "version_major": 2,
       "version_minor": 0
      },
      "text/plain": [
       "Figure(axes=[ColorAxis(orientation='vertical', scale=ColorScale(), side='right'), Axis(scale=LinearScale()), A…"
      ]
     },
     "metadata": {},
     "output_type": "display_data"
    }
   ],
   "source": [
    "fig = create_fig(bqp.ColorScale(), y_data)\n",
    "fig"
   ]
  },
  {
   "cell_type": "code",
   "execution_count": 78,
   "metadata": {},
   "outputs": [],
   "source": [
    "# We can change the domain by adding constraints on 'min'/'max'\n",
    "color_scale = fig.marks[0].scales['color']\n",
    "color_scale.min = 0"
   ]
  },
  {
   "cell_type": "code",
   "execution_count": 79,
   "metadata": {},
   "outputs": [],
   "source": [
    "color_scale.reverse = True"
   ]
  },
  {
   "cell_type": "code",
   "execution_count": 80,
   "metadata": {},
   "outputs": [],
   "source": [
    "color_scale.min = None\n",
    "color_scale.mid = 0"
   ]
  },
  {
   "cell_type": "code",
   "execution_count": 81,
   "metadata": {},
   "outputs": [
    {
     "data": {
      "application/vnd.jupyter.widget-view+json": {
       "model_id": "be50b820d8794ef7a3065a8fbcc586bd",
       "version_major": 2,
       "version_minor": 0
      },
      "text/plain": [
       "Figure(axes=[ColorAxis(orientation='vertical', scale=DateColorScale(), side='right'), Axis(scale=LinearScale()…"
      ]
     },
     "metadata": {},
     "output_type": "display_data"
    }
   ],
   "source": [
    "fig_margin = dict(top=50, bottom=70, left=50, right=200)\n",
    "date_col_sc = bqp.DateColorScale()\n",
    "dates = pd.date_range(start='2015-01-01', periods=n)\n",
    "create_fig(date_col_sc, dates, fig_margin=fig_margin)"
   ]
  },
  {
   "cell_type": "code",
   "execution_count": 82,
   "metadata": {},
   "outputs": [],
   "source": [
    "import datetime"
   ]
  },
  {
   "cell_type": "code",
   "execution_count": 83,
   "metadata": {},
   "outputs": [],
   "source": [
    "# Changing the domain\n",
    "date_col_sc.min = datetime.date(2015, 2, 28)"
   ]
  },
  {
   "cell_type": "code",
   "execution_count": 84,
   "metadata": {},
   "outputs": [],
   "source": [
    "date_col_sc.scheme = 'Spectral'"
   ]
  },
  {
   "cell_type": "code",
   "execution_count": 85,
   "metadata": {},
   "outputs": [
    {
     "data": {
      "application/vnd.jupyter.widget-view+json": {
       "model_id": "bd2cc19374ad4312ace6a01450f065be",
       "version_major": 2,
       "version_minor": 0
      },
      "text/plain": [
       "HBox(children=(Figure(axes=[Axis(label='X', scale=LinearScale(max=5.0, min=-5.0)), Axis(label='Y', orientation…"
      ]
     },
     "metadata": {},
     "output_type": "display_data"
    }
   ],
   "source": [
    "import numpy as np\n",
    "\n",
    "import ipywidgets as w\n",
    "import bqplot.pyplot as plt\n",
    "from bqplot import *\n",
    "\n",
    "def squared_exponential(x1, x2, sigma=1., l=1.):\n",
    "    z = (x1 - x2[:, np.newaxis]) / l\n",
    "    return sigma**2 * np.exp(-.5 * z ** 2)\n",
    "\n",
    "def gp_regression(X_train, y_train, X_test,\n",
    "                  kernel=squared_exponential,\n",
    "                  sigma_noise=.1,\n",
    "                  params=dict(sigma=1., l=1.)):\n",
    "    # compute the kernel matrices for train, train_test, test combinations\n",
    "    K = kernel(X_train, X_train, **params)\n",
    "    K_s = kernel(X_train, X_test, **params)\n",
    "    K_ss = kernel(X_test, X_test, **params)\n",
    "    \n",
    "    n, p = len(X_train), len(X_test)\n",
    "    \n",
    "    # compute the posterior mean and cov\n",
    "    mu_s = np.dot(K_s, np.linalg.solve(K + sigma_noise**2 * np.eye(n), y_train))\n",
    "    cov_s = K_ss - np.dot(K_s, np.linalg.solve(K + sigma_noise**2 * np.eye(n), K_s.T))\n",
    "    \n",
    "    # prior and posterior moments\n",
    "    mu_prior, cov_prior = np.zeros(p), K_ss\n",
    "    mu_post, cov_post = mu_s, cov_s + sigma_noise**2\n",
    "    \n",
    "    return dict(prior=(mu_prior, cov_prior), \n",
    "                posterior=(mu_post, cov_post))\n",
    "\n",
    "kernel = squared_exponential\n",
    "params = dict(sigma=1., l=1.)\n",
    "\n",
    "X_test = np.arange(-5, 5, .05)\n",
    "p = len(X_test)\n",
    "K_ss = kernel(X_test, X_test, **params)\n",
    "mu_prior, cov_prior = np.zeros(p), K_ss\n",
    "\n",
    "N = 5\n",
    "f_priors = np.random.multivariate_normal(mu_prior, cov_prior, N)\n",
    "\n",
    "fig_margin=dict(top=60, bottom=40, left=50, right=0)\n",
    "\n",
    "fig = plt.figure(title='Gaussian Process Regression', \n",
    "                 layout=w.Layout(width='1000px', height='600px'),\n",
    "                 fig_margin=fig_margin)\n",
    "\n",
    "plt.scales(scales={'x': LinearScale(min=-5, max=5),\n",
    "                   'y': LinearScale(min=-5, max=5)})\n",
    "\n",
    "train_scat = plt.scatter([], [], colors=['magenta'], \n",
    "                         enable_move=True,\n",
    "                         interactions={'click': 'add'},\n",
    "                         marker_size=1, marker='square')\n",
    "\n",
    "prior_lines = plt.plot(X_test, f_priors, stroke_width=1, colors=['#ccc'])\n",
    "posterior_lines = plt.plot(X_test, [], stroke_width=1)\n",
    "\n",
    "mean_line = plt.plot(X_test, [], 'm')\n",
    "std_bands = plt.plot(X_test, [],\n",
    "                     fill='between',\n",
    "                     fill_colors=['orange'],\n",
    "                     fill_opacities=[.2], stroke_width=0)\n",
    "plt.xlabel('X')\n",
    "plt.ylabel('Y')\n",
    "\n",
    "# reset btn\n",
    "reset_button = w.Button(description='Reset Points', button_style='success')\n",
    "reset_button.layout.margin = '20px 0px 0px 70px'\n",
    "\n",
    "# controls for the plot\n",
    "f_priors_cb = w.Checkbox(description='Display 5 Priors?')\n",
    "f_posteriors_cb = w.Checkbox(description='Display 5 Posteriors?')\n",
    "std_bands_cb = w.Checkbox(description='Display Std Bands?')\n",
    "check_boxes = [f_priors_cb, f_posteriors_cb, std_bands_cb]\n",
    "\n",
    "label = w.Label('*Click on the figure to add training samples')\n",
    "controls = w.VBox(check_boxes + [reset_button, label])\n",
    "\n",
    "# link widgets\n",
    "_ = w.jslink((f_priors_cb, 'value'), (prior_lines, 'visible'))\n",
    "_ = w.jslink((f_posteriors_cb, 'value'), (posterior_lines, 'visible'))\n",
    "_ = w.jslink((std_bands_cb, 'value'), (std_bands, 'visible'))\n",
    "\n",
    "def update_reg_line(change):\n",
    "    global mu_post, sig_post\n",
    "    \n",
    "    fig.animation_duration = 0\n",
    "    X_train = train_scat.x\n",
    "    y_train = train_scat.y\n",
    "    \n",
    "    fig.animation_duration = 1000\n",
    "\n",
    "    gp_res = gp_regression(X_train, y_train, X_test, sigma_noise=0.04)\n",
    "    mu_post, cov_post = gp_res['posterior']\n",
    "    \n",
    "    # simulate N samples from the posterior distribution\n",
    "    posterior_lines.y = np.random.multivariate_normal(mu_post, cov_post, N)\n",
    "    sig_post = np.sqrt(np.diag(cov_post))\n",
    "\n",
    "    # update the regression line to the mean of the posterior distribution\n",
    "    mean_line.y = mu_post\n",
    "    \n",
    "    # update the std bands to +/- 2 sigmas from the posterior mean\n",
    "    std_bands.y = [mu_post - 2 * sig_post, mu_post + 2 * sig_post]\n",
    "\n",
    "train_scat.observe(update_reg_line, names=['x', 'y'])\n",
    "\n",
    "def reset_points(*args):\n",
    "    with train_scat.hold_trait_notifications():\n",
    "        train_scat.x = []\n",
    "        train_scat.y = []\n",
    "reset_button.on_click(lambda btn: reset_points())\n",
    "\n",
    "fig.on_displayed(update_reg_line)\n",
    "w.HBox([fig, controls])"
   ]
  },
  {
   "cell_type": "code",
   "execution_count": 86,
   "metadata": {},
   "outputs": [
    {
     "data": {
      "application/vnd.jupyter.widget-view+json": {
       "model_id": "3e45e5a9388f4c938f1344100ebc8d6d",
       "version_major": 2,
       "version_minor": 0
      },
      "text/plain": [
       "VBox(children=(Figure(animation_duration=1000, axes=[Axis(label='X', scale=LinearScale(max=30.0, min=-30.0)), …"
      ]
     },
     "metadata": {},
     "output_type": "display_data"
    }
   ],
   "source": [
    "import numpy as np\n",
    "\n",
    "from ipywidgets import Button, VBox, HBox, Label\n",
    "import bqplot.pyplot as plt\n",
    "from bqplot import LinearScale\n",
    "\n",
    "def linreg(x, y):\n",
    "    '''\n",
    "    computes intercept and slope for a simple\n",
    "    ols regression\n",
    "    '''\n",
    "    b = np.cov(x, y)[0, 1] / np.var(x)\n",
    "    a = np.mean(y) - b * np.mean(x)\n",
    "    return a, b\n",
    "\n",
    "x = np.linspace(-10, 10, 50)\n",
    "y = 5 * x + 7 + np.random.randn(50) * 20\n",
    "\n",
    "def update_regline(*args):\n",
    "    # update the y attribute of the reg_line with \n",
    "    # the results of running the ols regression on \n",
    "    # x and y attributes of the scatter plot\n",
    "    a, b = linreg(scatter.x, scatter.y)\n",
    "    reg_line.y = a + b * reg_line.x\n",
    "    \n",
    "    # update the equation label\n",
    "    equation_label.value = eqn_tmpl.format(a, b)\n",
    "\n",
    "# Add a scatter plot and a regression line on the same figure\n",
    "axes_options = {'x': {'label': 'X'},\n",
    "                'y': {'label': 'Y'}}\n",
    "fig = plt.figure(title='Linear Regression', animation_duration=1000)\n",
    "                 \n",
    "plt.scales(scales={'x': LinearScale(min=-30, max=30),\n",
    "                   'y': LinearScale(min=-150, max=150)})\n",
    "\n",
    "scatter = plt.scatter(x, y, colors=['orangered'], default_size=100, \n",
    "                      enable_move=True, interactions={'click': 'add'},\n",
    "                      stroke='black')\n",
    "reg_line = plt.plot(np.arange(-30, 31), [], 'g', stroke_width=8,\n",
    "                    opacities=[.5], axes_options=axes_options)\n",
    "\n",
    "fig.layout.width = '800px'\n",
    "fig.layout.height = '550px'\n",
    "\n",
    "reset_button = Button(description='Reset', button_style='success')\n",
    "reset_button.layout.margin = '0px 30px 0px 60px'\n",
    "\n",
    "eqn_tmpl = 'Regression Line: ${:.2f} + {:.2f}x$'\n",
    "equation_label = Label()\n",
    "\n",
    "def reset_points(*args):\n",
    "    '''\n",
    "    resets the scatter's x and y points \n",
    "    to the original values\n",
    "    '''\n",
    "    with scatter.hold_trait_notifications():\n",
    "        scatter.x = x\n",
    "        scatter.y = y\n",
    "\n",
    "# on button click reset the scatter points\n",
    "reset_button.on_click(lambda btn: reset_points())\n",
    "# recompute reg line when new points are added\n",
    "scatter.observe(update_regline, ['x', 'y'])\n",
    "\n",
    "# compute the reg line\n",
    "update_regline(None)\n",
    "\n",
    "VBox([fig, HBox([reset_button, equation_label])])"
   ]
  },
  {
   "cell_type": "code",
   "execution_count": 88,
   "metadata": {},
   "outputs": [],
   "source": [
    "import numpy as np\n",
    "\n",
    "import ipywidgets as w\n",
    "\n",
    "import bqplot.pyplot as plt\n",
    "from bqplot import *"
   ]
  },
  {
   "cell_type": "code",
   "execution_count": 89,
   "metadata": {},
   "outputs": [
    {
     "data": {
      "application/vnd.jupyter.widget-view+json": {
       "model_id": "97f44f618aea40d088a517d238e2d283",
       "version_major": 2,
       "version_minor": 0
      },
      "text/plain": [
       "VBox(children=(HBox(children=(IntSlider(value=2000, description='Points', layout=Layout(width='400px'), max=50…"
      ]
     },
     "metadata": {},
     "output_type": "display_data"
    }
   ],
   "source": [
    "n_slider = w.IntSlider(description='Points', min=1000, value=2000, max=5000, step=200)\n",
    "n_slider.layout.width = '400px'\n",
    "\n",
    "go_btn = w.Button(description='GO', button_style='success')\n",
    "\n",
    "pi_label_tmpl = '<div style=\"font-size: 20px; font-weight: bold;\">pi = {pi:.4f} for n = {n}</div>'\n",
    "pi_label = w.HTML(pi_label_tmpl.format(pi=0, n=0), layout=w.Layout(margin='60px 0px 0px 0px'))\n",
    "\n",
    "xs, ys = LinearScale(min=0, max=1), LinearScale(min=0, max=1)\n",
    "\n",
    "# points inside arc\n",
    "common_args = dict(x=[], y=[], \n",
    "                   stroke='black', \n",
    "                   scales={'x': xs, 'y': ys}, \n",
    "                   default_size=20)\n",
    "in_dots = ScatterGL(**common_args, colors=['limegreen'])\n",
    "\n",
    "# points outside arc\n",
    "out_dots = ScatterGL(**common_args, colors=['orangered'])\n",
    "\n",
    "xax = Axis(scale=xs, grid_lines='none', num_ticks=2)\n",
    "yax = Axis(scale=ys, orientation='vertical', grid_lines='none', num_ticks=2)\n",
    "\n",
    "# draw quadrant arc\n",
    "arc_x = np.linspace(0, 1, 200)\n",
    "arc_y = np.sqrt(1 - arc_x ** 2)\n",
    "arc = plt.plot(arc_x, arc_y, 'g', stroke_width=1)\n",
    "\n",
    "fig = Figure(marks=[arc, in_dots, out_dots], axes=[xax, yax], title='Estimation Of pi')\n",
    "fig.layout.width = '440px'\n",
    "fig.layout.height = '400px'\n",
    "\n",
    "def animate(*args):\n",
    "    N = n_slider.value\n",
    "\n",
    "    # simulate X, Y ~ U[0, 1]\n",
    "    x, y = np.random.rand(2, N)\n",
    "    \n",
    "    x_in, y_in, x_out, y_out = [], [], [], []\n",
    "    for i in range(N):\n",
    "        if x[i] ** 2 + y[i] ** 2 < 1:\n",
    "            x_in.append(x[i])\n",
    "            y_in.append(y[i])\n",
    "            \n",
    "            with in_dots.hold_sync():\n",
    "                in_dots.x = x_in\n",
    "                in_dots.y = y_in\n",
    "        else:\n",
    "            x_out.append(x[i])\n",
    "            y_out.append(y[i])\n",
    "            \n",
    "            with out_dots.hold_sync():\n",
    "                out_dots.x = x_out\n",
    "                out_dots.y = y_out\n",
    "\n",
    "        if i > 0:\n",
    "            pi = 4 * len(x_in) / i\n",
    "        else:\n",
    "            pi = 0\n",
    "        \n",
    "        pi_label.value = pi_label_tmpl.format(pi=pi, n=i+1)\n",
    "\n",
    "go_btn.on_click(animate)\n",
    "\n",
    "w.VBox([w.HBox([n_slider, go_btn]), \n",
    "        w.HBox([fig, pi_label])\n",
    "       ])"
   ]
  },
  {
   "cell_type": "code",
   "execution_count": 90,
   "metadata": {},
   "outputs": [],
   "source": [
    "import numpy as np\n",
    "from scipy.stats import norm\n",
    "\n",
    "from ipywidgets import FloatSlider, HBox, VBox\n",
    "import bqplot.pyplot as plt"
   ]
  },
  {
   "cell_type": "code",
   "execution_count": 91,
   "metadata": {},
   "outputs": [],
   "source": [
    "x = np.linspace(-10, 10, 200)\n",
    "y = norm.pdf(x)\n",
    "\n",
    "# plot the gaussian density\n",
    "title_tmpl = 'Gaussian Density (mu = {} and sigma = {})'\n",
    "pdf_fig = plt.figure(title=title_tmpl.format(0, 1))\n",
    "pdf_fig.layout.width = '1000px'\n",
    "pdf_fig.layout.height = '600px'\n",
    "pdf_line = plt.plot(x, y, 'm', stroke_width=3)"
   ]
  },
  {
   "cell_type": "code",
   "execution_count": 92,
   "metadata": {},
   "outputs": [],
   "source": [
    "# use two sliders to represent mu and sigma\n",
    "mu_slider = FloatSlider(description='$\\mu$', value=0, min=-5, max=5, step=.1)\n",
    "sigma_slider = FloatSlider(description='$\\sigma$', value=1, min=0.1, max=5, step=.1)\n",
    "\n",
    "slider_layout = HBox([mu_slider, sigma_slider])"
   ]
  },
  {
   "cell_type": "code",
   "execution_count": 93,
   "metadata": {},
   "outputs": [],
   "source": [
    "def update_density(change):\n",
    "    new_mu = mu_slider.value\n",
    "    new_sigma = sigma_slider.value\n",
    "    pdf_line.y = norm.pdf(x, new_mu, new_sigma)\n",
    "    pdf_fig.title = title_tmpl.format(new_mu, new_sigma)\n",
    "\n",
    "# register the above callback with the 'value' trait of the sliders\n",
    "for slider in [mu_slider, sigma_slider]:\n",
    "    slider.observe(update_density, 'value')"
   ]
  },
  {
   "cell_type": "code",
   "execution_count": 94,
   "metadata": {},
   "outputs": [
    {
     "data": {
      "application/vnd.jupyter.widget-view+json": {
       "model_id": "3849245d51d943a293ff65317eb5f3eb",
       "version_major": 2,
       "version_minor": 0
      },
      "text/plain": [
       "VBox(children=(Figure(axes=[Axis(scale=LinearScale(), side='bottom'), Axis(orientation='vertical', scale=Linea…"
      ]
     },
     "metadata": {},
     "output_type": "display_data"
    }
   ],
   "source": [
    "VBox([pdf_fig, slider_layout])"
   ]
  },
  {
   "cell_type": "code",
   "execution_count": 98,
   "metadata": {},
   "outputs": [],
   "source": [
    "from time import sleep\n",
    "\n",
    "import numpy as np\n",
    "\n",
    "from ipywidgets import *\n",
    "import bqplot.pyplot as plt\n",
    "from bqplot import Toolbar\n",
    "\n",
    "f = lambda x: np.exp(-x) * np.sin(5 * x)\n",
    "df = lambda x: -np.exp(-x) * np.sin(5 * x) + 5 * np.cos(5 *x) * np.exp(-x)\n",
    "\n",
    "x = np.linspace(0.5, 2.5, 500)\n",
    "y = f(x)\n",
    "\n",
    "\n",
    "\n",
    "def update_sol_path(x, y):\n",
    "    with sol_path.hold_sync():\n",
    "        sol_path.x = x\n",
    "        sol_path.y = y\n",
    "    \n",
    "    with sol_points.hold_sync():\n",
    "        sol_points.x = x\n",
    "        sol_points.y = y\n",
    "\n",
    "def gradient_descent(x0, f, df, eta=.1, tol=1e-6, num_iters=10):\n",
    "    x = [x0]\n",
    "    i = 0\n",
    "    \n",
    "    while i < num_iters:\n",
    "        x_prev = x[-1]\n",
    "        grad = df(x_prev)\n",
    "        x_curr = x_prev - eta * grad\n",
    "        x.append(x_curr)\n",
    "        sol_lbl.value = sol_lbl_tmpl.format(x_curr)\n",
    "        sleep(.5)\n",
    "        \n",
    "        update_sol_path(x, [f(i) for i in x])\n",
    "        \n",
    "        if np.abs(x_curr - x_prev) < tol:\n",
    "            break\n",
    "        i += 1"
   ]
  },
  {
   "cell_type": "code",
   "execution_count": 99,
   "metadata": {},
   "outputs": [
    {
     "data": {
      "application/vnd.jupyter.widget-view+json": {
       "model_id": "c114da6484fd4a70ae7f07b294c692e7",
       "version_major": 2,
       "version_minor": 0
      },
      "text/plain": [
       "HBox(children=(VBox(children=(Figure(axes=[Axis(scale=LinearScale()), Axis(orientation='vertical', scale=Linea…"
      ]
     },
     "metadata": {},
     "output_type": "display_data"
    }
   ],
   "source": [
    "txt_layout = Layout(width='150px')\n",
    "x0_box = FloatText(description='x0', layout=txt_layout, value=2.4)\n",
    "eta_box = FloatText(description='Learning Rate', \n",
    "                    style={'description_width':'initial'}, \n",
    "                    layout=txt_layout, value=.1)\n",
    "\n",
    "go_btn = Button(description='GO', button_style='success', layout=Layout(width='50px'))\n",
    "reset_btn = Button(description='Reset', button_style='success', layout=Layout(width='100px'))\n",
    "\n",
    "sol_lbl_tmpl = 'x = {:.4f}'\n",
    "sol_lbl = Label()\n",
    "sol_lbl.layout.width = '300px'\n",
    "\n",
    "# plot of curve and solution\n",
    "fig_layout = Layout(width='800px', height='500px')\n",
    "fig = plt.figure(layout=fig_layout, title='Gradient Descent', display_toolbar=True)\n",
    "fig.pyplot = Toolbar(figure=fig)\n",
    "\n",
    "curve = plt.plot(x, y, colors=['dodgerblue'], stroke_width=2)\n",
    "sol_path = plt.plot([], [], colors=['#ccc'], opacities=[.7])\n",
    "sol_points = plt.plot([], [], 'mo', default_size=20)\n",
    "\n",
    "def optimize():\n",
    "    f.marks = [curve]\n",
    "    gradient_descent(x0_box.value, f, df, eta=eta_box.value)\n",
    "\n",
    "def reset():\n",
    "    curve.scales['x'].min = .4\n",
    "    curve.scales['x'].max = 2.5\n",
    "    \n",
    "    curve.scales['y'].min = -.5\n",
    "    curve.scales['y'].max = .4\n",
    "    sol_path.x = sol_path.y = []\n",
    "    sol_points.x = sol_points.y = []\n",
    "    sol_lbl.value = ''\n",
    "    \n",
    "go_btn.on_click(lambda btn: optimize())\n",
    "reset_btn.on_click(lambda btn: reset())\n",
    "\n",
    "final_fig = VBox([fig, fig.pyplot], \n",
    "                 layout=Layout(overflow_x='hidden'))\n",
    "HBox([final_fig, VBox([x0_box, eta_box, go_btn, reset_btn, sol_lbl])])\n"
   ]
  },
  {
   "cell_type": "code",
   "execution_count": 100,
   "metadata": {},
   "outputs": [],
   "source": [
    "import pandas as pd\n",
    "\n",
    "from ipywidgets import *\n",
    "from bqplot import *\n",
    "import bqplot.pyplot as plt"
   ]
  },
  {
   "cell_type": "code",
   "execution_count": 102,
   "metadata": {},
   "outputs": [],
   "source": [
    "import seaborn as sns\n",
    "#iris_csv_path = './data/iris.data'\n",
    "iris_df = sns.load_dataset(\"iris\")#pd.read_csv(iris_csv_path)\n",
    "\n",
    "# convert the data into feature matrix (X) and labels (y)\n",
    "X, classes = iris_df.drop('species', axis=1).values, iris_df['species']"
   ]
  },
  {
   "cell_type": "code",
   "execution_count": 103,
   "metadata": {},
   "outputs": [
    {
     "name": "stdout",
     "output_type": "stream",
     "text": [
      "PCA done\n",
      "MDS done\n",
      "TSNE done\n"
     ]
    }
   ],
   "source": [
    "from sklearn.decomposition import PCA\n",
    "from sklearn.manifold import MDS, TSNE\n",
    "    \n",
    "# PCA\n",
    "pca = PCA(n_components=2)\n",
    "X_pca = pca.fit_transform(X)\n",
    "print('PCA done')\n",
    "\n",
    "# MDS\n",
    "mds = MDS(n_components=2)\n",
    "X_mds = mds.fit_transform(X)\n",
    "print('MDS done')\n",
    "\n",
    "# TSNE\n",
    "tsne = TSNE(n_components=2, perplexity=20, learning_rate=5)\n",
    "X_tsne = tsne.fit_transform(X)\n",
    "print('TSNE done')"
   ]
  },
  {
   "cell_type": "code",
   "execution_count": 105,
   "metadata": {},
   "outputs": [
    {
     "data": {
      "application/vnd.jupyter.widget-view+json": {
       "model_id": "dbbd73aa95184b378eb4363f61176588",
       "version_major": 2,
       "version_minor": 0
      },
      "text/plain": [
       "VBox(children=(Dropdown(description='Embedding', options=('MDS', 'PCA', 'TSNE'), value='MDS'), Figure(animatio…"
      ]
     },
     "metadata": {},
     "output_type": "display_data"
    }
   ],
   "source": [
    "data_map = {'MDS': X_mds, 'PCA': X_pca, 'TSNE': X_tsne}\n",
    "method_dropown = Dropdown(description='Embedding', options=list(data_map.keys()))\n",
    "\n",
    "title_tmpl = '{} on IRIS dataset'\n",
    "fig = plt.figure(title=title_tmpl.format(method_dropown.value), \n",
    "                 fig_margin=dict(top=60, bottom=40, left=60, right=150),\n",
    "                 animation_duration=1000)\n",
    "fig.layout.width = '800'\n",
    "fig.layout.height = '500px'\n",
    "plt.scales(scales={'color': OrdinalColorScale(colors=CATEGORY10)})\n",
    "axes_options = {'x': {'label': 'X1'}, \n",
    "                'y': {'label': 'X2'},\n",
    "                'color': {'orientation': 'vertical', \n",
    "                          'side': 'right'}\n",
    "               }\n",
    "scatter = plt.scatter([], [], color=classes, stroke='black', \n",
    "                      default_size=64, axes_options=axes_options)\n",
    "\n",
    "def update(*args):\n",
    "    method = method_dropown.value\n",
    "    fig.title = title_tmpl.format(method)\n",
    "    X = data_map[method]\n",
    "    with scatter.hold_sync():\n",
    "        scatter.x = X[:, 0]\n",
    "        scatter.y = X[:, 1]\n",
    "\n",
    "method_dropown.observe(update, 'value')\n",
    "update()\n",
    "VBox([method_dropown, fig])"
   ]
  },
  {
   "cell_type": "code",
   "execution_count": 106,
   "metadata": {},
   "outputs": [],
   "source": [
    "from time import sleep\n",
    "\n",
    "import numpy as np\n",
    "from sklearn.datasets import make_blobs\n",
    "\n",
    "from ipywidgets import *\n",
    "\n",
    "from bqplot import OrdinalColorScale, CATEGORY10\n",
    "import bqplot.pyplot as plt"
   ]
  },
  {
   "cell_type": "code",
   "execution_count": 108,
   "metadata": {},
   "outputs": [
    {
     "data": {
      "application/vnd.jupyter.widget-view+json": {
       "model_id": "47a4b77128324b0095542524eef825c9",
       "version_major": 2,
       "version_minor": 0
      },
      "text/plain": [
       "HBox(children=(Figure(animation_duration=1000, axes=[ColorAxis(scale=OrdinalColorScale(colors=['#1f77b4', '#ff…"
      ]
     },
     "metadata": {},
     "output_type": "display_data"
    }
   ],
   "source": [
    "n_slider = IntSlider(description='points', value=150, min=20, max=300, step=10)\n",
    "k_slider = IntSlider(description='K', value=3, min=2, max=10)\n",
    "cluster_std_slider = FloatSlider(description='cluster std', value=.8, min=.5, max=3)\n",
    "\n",
    "iter_label_tmpl = 'Iterations: {}'\n",
    "iter_label = Label(value=iter_label_tmpl.format(''))\n",
    "iter_label.layout.width = '300px'\n",
    "\n",
    "fig = plt.figure(title='K-Means Clustering', animation_duration=1000)\n",
    "fig.layout.width = '800px'\n",
    "fig.layout.height = '500px'\n",
    "\n",
    "plt.scales(scales={'color': OrdinalColorScale(colors=CATEGORY10)})\n",
    "\n",
    "axes_options = {'x': {'label': 'X1'}, \n",
    "                'y': {'label': 'X2'}, \n",
    "                'color': {'visible': False}}\n",
    "\n",
    "# scatter of 2D features\n",
    "points_scat = plt.scatter([], [], color=[], stroke='black', axes_options=axes_options)\n",
    "\n",
    "# scatter of centroids\n",
    "centroid_scat = plt.scatter([], [], color=[], stroke_width=3, stroke='black',\n",
    "                            default_size=400, axes_options=axes_options)\n",
    "\n",
    "go_btn = Button(description='GO', button_style='success', layout=Layout(width='50px'))\n",
    "retry_btn = Button(description='RETRY', button_style='warning', \n",
    "                   layout=Layout(width='70px'), disabled=True)\n",
    "\n",
    "def start_animation(generate_points=True):\n",
    "    global X\n",
    "    go_btn.disabled = True\n",
    "    \n",
    "    # get the values of parameters from sliders\n",
    "    n = n_slider.value\n",
    "    K = k_slider.value\n",
    "    \n",
    "    # generate 2D features made from K blobs\n",
    "    if generate_points:\n",
    "        X, _ = make_blobs(n_samples=n, centers=K, cluster_std=cluster_std_slider.value)\n",
    "\n",
    "        # plot the points on a scatter chart\n",
    "        with points_scat.hold_sync():\n",
    "            points_scat.x = X[:, 0]\n",
    "            points_scat.y = X[:, 1]\n",
    "    \n",
    "    # randomly pick K data points to be centroids\n",
    "    random_indices = np.random.choice(np.arange(n), size=K, replace=False)\n",
    "    centroids = X[random_indices]\n",
    "    \n",
    "    i = 0\n",
    "    \n",
    "    # try for 10 iterations\n",
    "    while i < 10:\n",
    "        iter_label.value = iter_label_tmpl.format(i + 1)\n",
    "        \n",
    "        with centroid_scat.hold_sync():\n",
    "            centroid_scat.x = centroids[:, 0]\n",
    "            centroid_scat.y = centroids[:, 1]\n",
    "            centroid_scat.color = np.arange(K)\n",
    "            \n",
    "        # assign clusters to points based on the closest centroid\n",
    "        clusters = np.argmin(np.linalg.norm(X.reshape(n, 1, 2) - centroids, axis=2), axis=1)\n",
    "        \n",
    "        # color code the points by their clusters\n",
    "        points_scat.color = clusters\n",
    "\n",
    "        # compute new centroids from the clusters\n",
    "        new_centroids = np.array([X[clusters == k].mean(axis=0) for k in range(K)])\n",
    "        \n",
    "        if np.all(centroids == new_centroids):\n",
    "            # if centroids don't change we are done\n",
    "            break\n",
    "        else: \n",
    "            # update the centroids and repeat\n",
    "            centroids = new_centroids\n",
    "            i = i + 1\n",
    "            sleep(1)\n",
    "            \n",
    "    go_btn.disabled = False\n",
    "    retry_btn.disabled = False\n",
    "\n",
    "go_btn.on_click(lambda btn: start_animation())\n",
    "retry_btn.on_click(lambda btn: start_animation(generate_points=False))\n",
    "\n",
    "controls_layout = VBox([n_slider, k_slider, cluster_std_slider, \n",
    "                        HBox([go_btn, retry_btn]), \n",
    "                        iter_label],\n",
    "                       layout=Layout(overflow_x='hidden'))\n",
    "controls_layout.layout.margin = '60px 0px 0px 0px'\n",
    "\n",
    "HBox([fig, controls_layout])"
   ]
  },
  {
   "cell_type": "code",
   "execution_count": 109,
   "metadata": {},
   "outputs": [],
   "source": [
    "import numpy as np\n",
    "\n",
    "from ipywidgets import *\n",
    "from bqplot import LinearScale\n",
    "import bqplot.pyplot as plt\n",
    "\n",
    "import warnings\n",
    "warnings.simplefilter('ignore')"
   ]
  },
  {
   "cell_type": "code",
   "execution_count": 110,
   "metadata": {},
   "outputs": [],
   "source": [
    "def gaussian_kernel(x_train, x_test, bw=1.):\n",
    "    z = (x_train - x_test[:, np.newaxis]) / bw\n",
    "    return np.exp(-.5 * z ** 2)"
   ]
  },
  {
   "cell_type": "code",
   "execution_count": 111,
   "metadata": {},
   "outputs": [],
   "source": [
    "def kernel_regression(x_train, y_train, x_test,\n",
    "                      kernel=gaussian_kernel, bw=1., order=0):\n",
    "    '''\n",
    "    computes kernel regression with weights coming from the kernel function\n",
    "    '''\n",
    "    # compute the weights using the kernel function\n",
    "    w = kernel(x_train, x_test, bw=bw)\n",
    "    \n",
    "    y_test = np.empty_like(x_test)\n",
    "    for i, x0 in enumerate(x_test):\n",
    "        y_test[i] = np.polyval(np.polyfit(x_train, \n",
    "                                          y_train, \n",
    "                                          w=np.sqrt(w[i]), \n",
    "                                          deg=order), x0)\n",
    "    return y_test\n",
    "\n",
    "def kernel_std(x_train, y_train, x_test, y_bar=None,\n",
    "               kernel=gaussian_kernel, bw=1., order=0):\n",
    "    '''\n",
    "    computes kernel std with weights coming from the kernel function\n",
    "    '''\n",
    "    # compute the weights using the kernel function\n",
    "    w = kernel(x_train, x_test, bw=bw)\n",
    "    if y_bar is None:\n",
    "        y_bar = kernel_regression(x_train, y_train, x_test, \n",
    "                                  kernel=kernel, bw=bw, order=order)\n",
    "    \n",
    "    return np.sqrt((w * (y_train - y_bar[:, np.newaxis]) ** 2)\\\n",
    "                       .sum(axis=1) / np.sum(w, axis=1))"
   ]
  },
  {
   "cell_type": "code",
   "execution_count": 112,
   "metadata": {},
   "outputs": [],
   "source": [
    "def padded_val(x, eps=1e-3):\n",
    "    return np.ceil(x + eps) if x > 0 else np.floor(x - eps)\n"
   ]
  },
  {
   "cell_type": "code",
   "execution_count": 114,
   "metadata": {},
   "outputs": [
    {
     "data": {
      "application/vnd.jupyter.widget-view+json": {
       "model_id": "a7979ce6be794db6bfa71d2f014cd217",
       "version_major": 2,
       "version_minor": 0
      },
      "text/plain": [
       "HBox(children=(VBox(children=(FloatSlider(value=3.0, continuous_update=False, description='Kernel Band Width',…"
      ]
     },
     "metadata": {},
     "output_type": "display_data"
    }
   ],
   "source": [
    "# generate some train/test data\n",
    "x_train = np.linspace(-5, 5, 200)\n",
    "y_train = x_train ** 2 + np.random.randn(200) * 5\n",
    "x_test = np.linspace(-8, 8, 400)\n",
    "\n",
    "ymin, ymax = padded_val(np.min(y_train)), padded_val(np.max(y_train))\n",
    "\n",
    "axes_options = {'x': {'label': 'X'},\n",
    "                'y': {'tick_format': '0.0f', 'label': 'Y'}}\n",
    "\n",
    "reg_fig = plt.figure(animation_duration=1000)\n",
    "reg_fig.layout.width = '600px'\n",
    "reg_fig.layout.height = '400px'\n",
    "\n",
    "plt.scales(scales={'x': LinearScale(min=-8, max=8),\n",
    "                   'y': LinearScale(min=ymin - 5, max=ymax + 5)})\n",
    "scatter = plt.scatter(x_train, y_train, axes_options=axes_options,\n",
    "                      enable_move=True, stroke='black',\n",
    "                      colors=['deepskyblue'],\n",
    "                      default_size=40,\n",
    "                      interactions={'click': 'add'})\n",
    "\n",
    "reg_line = plt.plot(x_test, [], colors=['orangered'], stroke_width=3, interpolation='basis')\n",
    "std_bands = plt.plot(x_test, [], 'y', fill='between', \n",
    "                     fill_opacities=[.2], stroke_width=0)\n",
    "\n",
    "kernel_fig = plt.figure(animation_duration=1000, title='Gaussian Kernel')\n",
    "kernel_fig.layout.width = '300px'\n",
    "kernel_fig.layout.height = '200px'\n",
    "\n",
    "plt.scales(scales={'y': LinearScale(min=0, max=1)})\n",
    "axes_options = {'x': {'label': 'X'}, \n",
    "                'y': {'tick_format': '.1f'}}\n",
    "kernel_line = plt.plot(x_train, [], 'm', axes_options=axes_options, \n",
    "                       interpolation='basis')\n",
    "\n",
    "# widgets for hyper params\n",
    "bw_slider = FloatSlider(description='Kernel Band Width', \n",
    "                        min=.1, max=10, step=.1, value=3,\n",
    "                        continuous_update=False,\n",
    "                        readout_format='.1f',\n",
    "                        style={'description_width':'initial'},\n",
    "                        layout=Layout(width='350px'))\n",
    "\n",
    "order_slider = IntSlider(description='Polynomial Order',\n",
    "                         min=0, max=10, step=1, value=0,\n",
    "                         continuous_update=False,\n",
    "                         style={'description_width':'initial'},\n",
    "                         layout=Layout(width='350px'))\n",
    "\n",
    "reset_button = Button(description='Reset Points', button_style='success')\n",
    "reset_button.layout.margin = '0px 0px 0px 50px'\n",
    "\n",
    "band_checkbox = Checkbox(description='Display std bands?')\n",
    "band_checkbox.layout.margin = '0px 0px 0px 30px'\n",
    "\n",
    "bw_slider.layout.margin = '60px 0px 0px 40px'\n",
    "\n",
    "def update_reg_line(change):\n",
    "    global y_test, std\n",
    "    bw = bw_slider.value\n",
    "    order = order_slider.value\n",
    "    reg_fig.title = 'Kernel regression(bw={}, polynomial_order={})'.format(bw, order)\n",
    "    try:\n",
    "        y_test = kernel_regression(scatter.x,\n",
    "                                   scatter.y,\n",
    "                                   x_test,\n",
    "                                   bw=bw, \n",
    "                                   order=order)\n",
    "        std = kernel_std(scatter.x, scatter.y, \n",
    "                         x_test, y_bar=y_test, \n",
    "                         bw=bw, order=order)\n",
    "        \n",
    "        reg_line.y = y_test\n",
    "        if band_checkbox.value:\n",
    "            std_bands.y = [y_test - std, y_test + std]\n",
    "        else:\n",
    "            std_bands.y = []\n",
    "    except Exception as e:\n",
    "        print(e)\n",
    "\n",
    "def reset_points(*args):\n",
    "    with scatter.hold_trait_notifications():\n",
    "        scatter.x = x_train\n",
    "        scatter.y = y_train\n",
    "\n",
    "reset_button.on_click(lambda btn: reset_points())\n",
    "\n",
    "# event handlers for widget traits\n",
    "for w in [bw_slider, order_slider]:\n",
    "    w.observe(update_reg_line, 'value')\n",
    "\n",
    "scatter.observe(update_reg_line, names=['x', 'y'])\n",
    "\n",
    "def update_kernel_plot(*args):\n",
    "    new_bw_value = bw_slider.value\n",
    "    kernel_line.y = gaussian_kernel(x_train, np.array([0]), bw=bw_slider.value).squeeze()\n",
    "\n",
    "bw_slider.observe(update_kernel_plot, 'value')\n",
    "\n",
    "def display_std_bands(*args):\n",
    "    if band_checkbox.value:\n",
    "        std_bands.y = [y_test - std, y_test + std]\n",
    "    else:\n",
    "        std_bands.y = []\n",
    "    \n",
    "band_checkbox.observe(display_std_bands, 'value')\n",
    "\n",
    "update_reg_line(None)\n",
    "update_kernel_plot(None)\n",
    "\n",
    "overflow_layout = Layout(overflow_x='hidden', overflow_y='hidden')\n",
    "HBox([VBox([bw_slider, kernel_fig], layout=overflow_layout),\n",
    "      VBox([reg_fig, \n",
    "            HBox([order_slider, band_checkbox, reset_button], \n",
    "                 layout=Layout(margin='0px 0px 0px 50px'))],\n",
    "                 layout=overflow_layout)])"
   ]
  },
  {
   "cell_type": "code",
   "execution_count": 115,
   "metadata": {},
   "outputs": [],
   "source": [
    "import numpy as np\n",
    "\n",
    "from ipywidgets import Button, VBox, HBox, Label\n",
    "import bqplot.pyplot as plt\n",
    "from bqplot import LinearScale"
   ]
  },
  {
   "cell_type": "code",
   "execution_count": 116,
   "metadata": {},
   "outputs": [],
   "source": [
    "def linreg(x, y):\n",
    "    '''\n",
    "    computes intercept and slope for a simple\n",
    "    ols regression\n",
    "    '''\n",
    "    b = np.cov(x, y)[0, 1] / np.var(x)\n",
    "    a = np.mean(y) - b * np.mean(x)\n",
    "    return a, b"
   ]
  },
  {
   "cell_type": "code",
   "execution_count": 117,
   "metadata": {},
   "outputs": [],
   "source": [
    "x = np.linspace(-10, 10, 50)\n",
    "y = 5 * x + 7 + np.random.randn(50) * 20\n",
    "\n",
    "def update_regline(*args):\n",
    "    # update the y attribute of the reg_line with \n",
    "    # the results of running the ols regression on \n",
    "    # x and y attributes of the scatter plot\n",
    "    a, b = linreg(scatter.x, scatter.y)\n",
    "    reg_line.y = a + b * reg_line.x\n",
    "    \n",
    "    # update the equation label\n",
    "    equation_label.value = eqn_tmpl.format(a, b)\n",
    "\n",
    "# Add a scatter plot and a regression line on the same figure\n",
    "axes_options = {'x': {'label': 'X'},\n",
    "                'y': {'label': 'Y'}}\n",
    "fig = plt.figure(title='Linear Regression', animation_duration=1000)\n",
    "                 \n",
    "plt.scales(scales={'x': LinearScale(min=-30, max=30),\n",
    "                   'y': LinearScale(min=-150, max=150)})\n",
    "\n",
    "scatter = plt.scatter(x, y, colors=['orangered'], default_size=100, \n",
    "                      enable_move=True, interactions={'click': 'add'},\n",
    "                      stroke='black')\n",
    "reg_line = plt.plot(np.arange(-30, 31), [], 'g', stroke_width=8,\n",
    "                    opacities=[.5], axes_options=axes_options)\n",
    "\n",
    "fig.layout.width = '800px'\n",
    "fig.layout.height = '550px'\n",
    "\n",
    "reset_button = Button(description='Reset', button_style='success')\n",
    "reset_button.layout.margin = '0px 30px 0px 60px'\n",
    "\n",
    "eqn_tmpl = 'Regression Line: ${:.2f} + {:.2f}x$'\n",
    "equation_label = Label()\n",
    "\n",
    "def reset_points(*args):\n",
    "    '''\n",
    "    resets the scatter's x and y points \n",
    "    to the original values\n",
    "    '''\n",
    "    with scatter.hold_trait_notifications():\n",
    "        scatter.x = x\n",
    "        scatter.y = y\n",
    "\n",
    "# on button click reset the scatter points\n",
    "reset_button.on_click(lambda btn: reset_points())\n",
    "# recompute reg line when new points are added\n",
    "scatter.observe(update_regline, ['x', 'y'])\n",
    "\n",
    "# compute the reg line\n",
    "update_regline(None)"
   ]
  },
  {
   "cell_type": "code",
   "execution_count": 118,
   "metadata": {},
   "outputs": [
    {
     "data": {
      "application/vnd.jupyter.widget-view+json": {
       "model_id": "51b783f1dc4b40a6b77c0631360ea750",
       "version_major": 2,
       "version_minor": 0
      },
      "text/plain": [
       "VBox(children=(Figure(animation_duration=1000, axes=[Axis(label='X', scale=LinearScale(max=30.0, min=-30.0), s…"
      ]
     },
     "metadata": {},
     "output_type": "display_data"
    }
   ],
   "source": [
    "VBox([fig, HBox([reset_button, equation_label])])"
   ]
  },
  {
   "cell_type": "code",
   "execution_count": 119,
   "metadata": {},
   "outputs": [],
   "source": [
    "from collections import OrderedDict\n",
    "\n",
    "import numpy as np\n",
    "import pandas as pd\n",
    "import tensorflow as tf\n",
    "\n",
    "from ipywidgets import *\n",
    "from bqplot import *\n",
    "import bqplot.pyplot as plt"
   ]
  },
  {
   "cell_type": "code",
   "execution_count": 120,
   "metadata": {},
   "outputs": [
    {
     "name": "stdout",
     "output_type": "stream",
     "text": [
      "Downloading data from https://storage.googleapis.com/tensorflow/tf-keras-datasets/mnist.npz\n",
      "11493376/11490434 [==============================] - 9s 1us/step\n"
     ]
    }
   ],
   "source": [
    "mnist = tf.keras.datasets.mnist\n",
    "(X_train, y_train), (X_test, y_test) = mnist.load_data()"
   ]
  },
  {
   "cell_type": "code",
   "execution_count": 121,
   "metadata": {},
   "outputs": [],
   "source": [
    "n = 1000\n",
    "X = X_train[:n].reshape(n, 784)\n",
    "labels = y_train[:n]\n"
   ]
  },
  {
   "cell_type": "code",
   "execution_count": 122,
   "metadata": {},
   "outputs": [
    {
     "name": "stdout",
     "output_type": "stream",
     "text": [
      "PCA done\n",
      "TSNE done\n"
     ]
    }
   ],
   "source": [
    "from sklearn.decomposition import PCA\n",
    "from sklearn.manifold import MDS, TSNE\n",
    "    \n",
    "pca = PCA(n_components=2)\n",
    "X_pca = pca.fit_transform(X)\n",
    "print('PCA done')\n",
    "\n",
    "tsne = TSNE(n_components=2, perplexity=30, random_state=42, learning_rate=1000)\n",
    "X_tsne = tsne.fit_transform(X)\n",
    "print('TSNE done')"
   ]
  },
  {
   "cell_type": "code",
   "execution_count": 123,
   "metadata": {},
   "outputs": [],
   "source": [
    "data_map = OrderedDict({'PCA': X_pca,\n",
    "                        'TSNE': X_tsne})"
   ]
  },
  {
   "cell_type": "code",
   "execution_count": 124,
   "metadata": {},
   "outputs": [
    {
     "data": {
      "application/vnd.jupyter.widget-view+json": {
       "model_id": "260f533f36454231bb0a3feabe562d97",
       "version_major": 2,
       "version_minor": 0
      },
      "text/plain": [
       "VBox(children=(Dropdown(description='Embedding', options=('PCA', 'TSNE'), value='PCA'), Figure(animation_durat…"
      ]
     },
     "metadata": {},
     "output_type": "display_data"
    }
   ],
   "source": [
    "method_dropown = Dropdown(description='Embedding', options=data_map.keys())\n",
    "\n",
    "title_tmpl = '{} on MNIST Data'\n",
    "fig = plt.figure(title=title_tmpl.format(method_dropown.value),\n",
    "                 animation_duration=1000)\n",
    "fig.layout.width = '1000px'\n",
    "fig.layout.height = '700px'\n",
    "plt.scales(scales={'color': OrdinalColorScale(domain=list(np.arange(10)), colors=CATEGORY10)})\n",
    "scatter = plt.scatter([], [], color=labels, stroke='black', default_size=64)\n",
    "\n",
    "def update(*args):\n",
    "    method = method_dropown.value\n",
    "    fig.title = title_tmpl.format(method)\n",
    "    X = data_map[method]\n",
    "    with scatter.hold_sync():\n",
    "        scatter.x = X[:, 0]\n",
    "        scatter.y = X[:, 1]\n",
    "\n",
    "method_dropown.observe(update, 'value')\n",
    "update()\n",
    "VBox([method_dropown, fig])"
   ]
  },
  {
   "cell_type": "code",
   "execution_count": 125,
   "metadata": {},
   "outputs": [],
   "source": [
    "import time\n",
    "\n",
    "import numpy as np\n",
    "from sklearn.datasets import make_blobs\n",
    "\n",
    "from ipywidgets import *\n",
    "from bqplot import *\n",
    "import bqplot.pyplot as plt"
   ]
  },
  {
   "cell_type": "code",
   "execution_count": 126,
   "metadata": {},
   "outputs": [],
   "source": [
    "def padded_val(x, eps=1e-3):\n",
    "    return np.ceil(x + eps) if x > 0 else np.floor(x - eps)"
   ]
  },
  {
   "cell_type": "code",
   "execution_count": 127,
   "metadata": {},
   "outputs": [
    {
     "data": {
      "application/vnd.jupyter.widget-view+json": {
       "model_id": "0fe753dd68bc45e78648ed86a9f420bf",
       "version_major": 2,
       "version_minor": 0
      },
      "text/plain": [
       "HBox(children=(Figure(animation_duration=1500, axes=[ColorAxis(scale=OrdinalColorScale(colors=['#f3172d', 'lim…"
      ]
     },
     "metadata": {},
     "output_type": "display_data"
    }
   ],
   "source": [
    "# data setup\n",
    "# create two classes separable by a line\n",
    "N = 100\n",
    "X, Y = make_blobs(n_samples=N, centers=2, random_state=0, cluster_std=.6)\n",
    "Y[Y == 0] = -1\n",
    "Y = -Y\n",
    "\n",
    "x0, y0 = np.min(X, axis=0)\n",
    "x1, y1 = np.max(X, axis=0)\n",
    "    \n",
    "xmin, xmax, ymin, ymax = [padded_val(x) for x in (x0, x1, y0, y1)]\n",
    "\n",
    "beta = np.random.rand(3)\n",
    "xmin, xmax = np.min(X[:, 0]), np.max(X[:, 0])\n",
    "x = np.linspace(xmin, xmax, 50)\n",
    "y = [0] * len(x)\n",
    "\n",
    "fig = plt.figure(title='Perceptron Animation',\n",
    "                 preserve_aspect=True,\n",
    "                 animation_duration=1500,\n",
    "                 layout=Layout(height='800px', width='1000px'))\n",
    "plt.scales(scales={'color': OrdinalColorScale(colors=['#f3172d', 'limegreen'], \n",
    "                                              domain=[-1, 1]),\n",
    "                   'x': LinearScale(min=xmin, max=xmax),\n",
    "                   'y': LinearScale(min=ymin, max=ymax)\n",
    "                  })\n",
    "axes_options  = {'x': {'label': 'X', 'tick_format': '.1f'},\n",
    "                 'y': {'label': 'Y', 'tick_format': '.1f'},\n",
    "                 'color': {'visible': False}}\n",
    "\n",
    "scatt = plt.scatter(X[:, 0], X[:, 1], color=Y,\n",
    "                    stroke='black', default_size=100, \n",
    "                    unselected_style={'opacity': 0.2},\n",
    "                    axes_options=axes_options,\n",
    "                    selected=None)\n",
    "\n",
    "sep_line = plt.plot(x, y, colors=['dodgerblue'], stroke_width=4)\n",
    "\n",
    "btn_layout = Layout(width='75px')\n",
    "go_btn = Button(description='GO', button_style='success', layout=btn_layout)\n",
    "reset_btn = Button(description='Reset', button_style='warning', layout=btn_layout)\n",
    "btns = VBox([go_btn, reset_btn])\n",
    "btns.layout.margin = '80px 0px 0px 0px'\n",
    "\n",
    "def start_animation():\n",
    "    global beta, Y\n",
    "    # stochastic gradient descent\n",
    "    learning_rate = 1\n",
    "    misclassified_pts = np.where(Y * (beta[0] * X[:, 0] + beta[1] * X[:, 1] + beta[2]) < 0)[0]\n",
    "\n",
    "    while len(misclassified_pts) > 0:\n",
    "        # pick a random misclassified pt\n",
    "        i = np.random.choice(misclassified_pts, 1)[0]\n",
    "        time.sleep(1.5)\n",
    "        scatt.selected = [i]\n",
    "\n",
    "        # update beta using gradient descent\n",
    "        beta += learning_rate * np.append(Y[i] * X[i], Y[i])\n",
    "        sep_line.y = (-beta[2] - beta[0] * sep_line.x) / beta[1]\n",
    "\n",
    "        # update misclassified pts since the line has changed\n",
    "        misclassified_pts = np.where(Y * (beta[0] * X[:, 0] + beta[1] * X[:, 1] + beta[2]) < 0)[0]\n",
    "\n",
    "    scatt.selected = None\n",
    "\n",
    "def reset():\n",
    "    sep_line.y = [0] * len(sep_line.x)\n",
    "    \n",
    "go_btn.on_click(lambda btn: start_animation())\n",
    "reset_btn.on_click(lambda btn: reset())\n",
    "    \n",
    "HBox([fig, btns])"
   ]
  },
  {
   "cell_type": "code",
   "execution_count": 128,
   "metadata": {},
   "outputs": [],
   "source": [
    "import numpy as np\n",
    "\n",
    "import ipywidgets as w\n",
    "\n",
    "import bqplot.pyplot as plt\n",
    "from bqplot import *"
   ]
  },
  {
   "cell_type": "code",
   "execution_count": 129,
   "metadata": {},
   "outputs": [
    {
     "data": {
      "application/vnd.jupyter.widget-view+json": {
       "model_id": "f1306ad211c34c21b55e5857c0a93607",
       "version_major": 2,
       "version_minor": 0
      },
      "text/plain": [
       "VBox(children=(HBox(children=(IntSlider(value=2000, description='Points', layout=Layout(width='400px'), max=50…"
      ]
     },
     "metadata": {},
     "output_type": "display_data"
    }
   ],
   "source": [
    "n_slider = w.IntSlider(description='Points', min=1000, value=2000, max=5000, step=500)\n",
    "n_slider.layout.width = '400px'\n",
    "\n",
    "do_sqrt_check_box = widgets.Checkbox(description='Sqrt Transform')\n",
    "\n",
    "go_btn = w.Button(description='GO', button_style='success')\n",
    "\n",
    "pi_label_tmpl = '<div style=\"font-size: 20px; font-weight: bold;\">pi = {pi:.4f} for n = {n}</div>'\n",
    "pi_label = w.HTML(pi_label_tmpl.format(pi=0, n=0))\n",
    "\n",
    "xs, ys = LinearScale(min=-1, max=1), LinearScale(min=-1, max=1)\n",
    "\n",
    "# points inside arc\n",
    "dots = ScatterGL(x=[], \n",
    "                 y=[],\n",
    "                 colors=['limegreen'],\n",
    "                 scales={'x': xs, 'y': ys},\n",
    "                 stroke='black',\n",
    "                 default_size=20)\n",
    "\n",
    "xax = Axis(scale=xs, grid_lines='none', num_ticks=0)\n",
    "yax = Axis(scale=ys, orientation='vertical', grid_lines='none', num_ticks=0)\n",
    "yax.offset = dict(value=0, scale=xs)\n",
    "xax.offset = dict(value=0, scale=ys)\n",
    "\n",
    "# circle\n",
    "x = np.linspace(-1, 1, 500)\n",
    "y = np.sqrt(1 - x ** 2)\n",
    "circle = plt.plot(x, [y, -y], 'm', stroke_width=2)\n",
    "\n",
    "fig = Figure(marks=[dots, circle], axes=[xax, yax], title='Points In A Disc')\n",
    "fig.layout.width = '500px'\n",
    "fig.layout.height = '500px'\n",
    "\n",
    "def animate(*args):\n",
    "    N = n_slider.value\n",
    "\n",
    "    # simulate r, theta from two independent uniforms\n",
    "    do_sqrt = do_sqrt_check_box.value\n",
    "    u1, u2 = np.random.rand(2, N)\n",
    "    r = np.sqrt(u1) if do_sqrt else u1\n",
    "    theta = 2 * np.pi * u2\n",
    "    \n",
    "    x_points, y_points = [], []\n",
    "    \n",
    "    for i in range(N):\n",
    "        xi = r[i] * np.cos(theta[i])\n",
    "        yi = r[i] * np.sin(theta[i])\n",
    "        \n",
    "        x_points.append(xi)\n",
    "        y_points.append(yi)\n",
    "        \n",
    "        with dots.hold_sync():\n",
    "            dots.x, dots.y = x_points, y_points\n",
    "\n",
    "go_btn.on_click(animate)\n",
    "\n",
    "w.VBox([w.HBox([n_slider, do_sqrt_check_box, go_btn]), fig])"
   ]
  },
  {
   "cell_type": "code",
   "execution_count": null,
   "metadata": {},
   "outputs": [],
   "source": []
  }
 ],
 "metadata": {
  "kernelspec": {
   "display_name": "Python 3",
   "language": "python",
   "name": "python3"
  },
  "language_info": {
   "codemirror_mode": {
    "name": "ipython",
    "version": 3
   },
   "file_extension": ".py",
   "mimetype": "text/x-python",
   "name": "python",
   "nbconvert_exporter": "python",
   "pygments_lexer": "ipython3",
   "version": "3.7.4"
  }
 },
 "nbformat": 4,
 "nbformat_minor": 4
}
