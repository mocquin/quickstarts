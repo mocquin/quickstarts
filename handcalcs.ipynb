{
 "cells": [
  {
   "cell_type": "markdown",
   "metadata": {},
   "source": [
    "# Instalation\n",
    "`pip install handcalcs`\n",
    "\n",
    "# Usage\n",
    " - As jupyter magic cell : `import handcalcs.render` then use the magic cell `%%render` : \n",
    "  - `%%render params` : display only results, horizontaly (no intermediate computation)\n",
    "  - `%%render [tag] 8` : change precision to 8 decimals\n",
    "  - `%%render long` : render computation vertically\n",
    "  - `%%render short` : render computations on one line\n",
    "  - `%%render symbolic` : only render the analytic formulae\n",
    "  \n",
    "Render supports : \n",
    " - underscore to add 'indices'\n",
    " - greek letters\n",
    " - support adding a python comment at the end of the line\n",
    " - one-line conditional statement\n",
    " - substition-skipping using parenthesis\n",
    " - integration symbol when `quad` or `integrate`\n",
    " - \"prime\" notation when including prime in variable's name\n",
    "\n",
    "# Examples \n",
    "https://github.com/connorferster/handcalcs/wiki/Handcalcs-on--Streamlit\n",
    "\n",
    "# About latex rendering\n",
    "Ipython supports natively the magic cell `%%latex` as to render latex in a code cell.\n",
    "See also : https://stackoverflow.com/questions/13208286/how-to-write-latex-in-ipython-notebook/13222501#13222501\n"
   ]
  },
  {
   "cell_type": "markdown",
   "metadata": {},
   "source": [
    "# Full magic cell example"
   ]
  },
  {
   "cell_type": "code",
   "execution_count": 53,
   "metadata": {},
   "outputs": [],
   "source": [
    "import handcalcs.render\n",
    "from math import sqrt, sin, pi\n",
    "from scipy.integrate import quad\n",
    "def f(x): \n",
    "    return 2*x + 3"
   ]
  },
  {
   "cell_type": "code",
   "execution_count": 60,
   "metadata": {},
   "outputs": [
    {
     "data": {
      "text/latex": [
       "\\[\n",
       "\\begin{aligned}\n",
       "\\alpha_{init} &= 5 \\; \\;\\textrm{(Greek letter)}\n",
       "\\\\[10pt]\n",
       "\\beta' &= \\left( \\alpha_{init} \\right) ^{ 2 } + 45  = \\left( 5 \\right) ^{ 2 } + 45 &= 70 \\; \\;\\textrm{(analytical->numerical->result)}\n",
       "\\\\[10pt]\n",
       "\\Gamma_{i} &= 24010000 \\; \\;\\textrm{(only results with paren)}\n",
       "\\\\[10pt]\n",
       "b &= \\sin \\left( 30 \\right)  = \\sin \\left( 30 \\right) &= 10  \n",
       "\\\\[10pt]\n",
       "a &= \\sqrt { \\left( b \\right) ^{ 2 } + \\frac{ \\pi }{ \\sqrt { \\frac{ 2 }{ 100 } } } }  = \\sqrt { \\left( 10 \\right) ^{ 2 } + \\frac{ 3.142 }{ \\sqrt { \\frac{ 2 }{ 100 } } } } &= 1  \n",
       "\\\\[10pt]\n",
       "c &= \\Sigma \\left( 1 ,\\  2 ,\\  3 ,\\  4 \\right)  = \\Sigma \\left( 1 ,\\  2 ,\\  3 ,\\  4 \\right) &= 10  \n",
       "\\\\[10pt]\n",
       "d &= \\operatorname{f} \\left( 4 \\right)  = \\operatorname{f} \\left( 4 \\right) &= 11  \n",
       "\\\\[10pt]\n",
       "&\\text{Since, } \\Gamma_{i} \\gt 0 \\rightarrow \\left( 24010000 \\gt 0 \\right) :   \\end{aligned}\n",
       "\\]\n",
       "\\[\n",
       "\\begin{aligned}\n",
       "\\mathrm{toto} &= 1 \\; \n",
       "\\\\[10pt]\n",
       "a &= 1 \\; \n",
       "\\\\[10pt]\n",
       "b &= 10 \\; \n",
       "\\\\[10pt]\n",
       "\\mathrm{res} &= \\int_{ a } ^ { b } 2 \\cdot x + 3 \\; dx  = \\int_{ 1 } ^ { 10 } 2 \\cdot x + 3 \\; dx &= [126.0,\\ 0.0]  \n",
       "\\end{aligned}\n",
       "\\]"
      ],
      "text/plain": [
       "<IPython.core.display.Latex object>"
      ]
     },
     "metadata": {},
     "output_type": "display_data"
    }
   ],
   "source": [
    "%%render\n",
    "alpha_init = 5 # Greek letter\n",
    "beta_prime = alpha_init**2 + 45 # analytical->numerical->result\n",
    "Gamma_i = (beta_prime*beta_prime*beta_prime*beta_prime) # only results with paren\n",
    "\n",
    "b = sin(30)\n",
    "a = sqrt(b**2+pi/sqrt(2/100))\n",
    "c = sum((1, 2, 3, 4))\n",
    "d = f(4)\n",
    "\n",
    "if Gamma_i > 0: toto=1\n",
    "else: toto=0\n",
    "\n",
    "a = 1\n",
    "b = 10\n",
    "res = quad(f, a, b)"
   ]
  },
  {
   "cell_type": "code",
   "execution_count": 62,
   "metadata": {},
   "outputs": [
    {
     "data": {
      "text/latex": [
       "\\[\n",
       "\\begin{aligned}\n",
       "a &= 1 \\; \\;\\textrm{(horizontal alignment)}\n",
       " &b &= 2 \\; \n",
       " &v &= 1000 \\; \n",
       "\\\\[10pt]\\end{aligned}\n",
       "\\]"
      ],
      "text/plain": [
       "<IPython.core.display.Latex object>"
      ]
     },
     "metadata": {},
     "output_type": "display_data"
    }
   ],
   "source": [
    "%%render params\n",
    "a = 1 # horizontal alignment\n",
    "b=2\n",
    "v = 1000"
   ]
  },
  {
   "cell_type": "code",
   "execution_count": null,
   "metadata": {},
   "outputs": [],
   "source": []
  }
 ],
 "metadata": {
  "kernelspec": {
   "display_name": "Python 3",
   "language": "python",
   "name": "python3"
  },
  "language_info": {
   "codemirror_mode": {
    "name": "ipython",
    "version": 3
   },
   "file_extension": ".py",
   "mimetype": "text/x-python",
   "name": "python",
   "nbconvert_exporter": "python",
   "pygments_lexer": "ipython3",
   "version": "3.7.4"
  }
 },
 "nbformat": 4,
 "nbformat_minor": 4
}
