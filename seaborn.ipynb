{
 "cells": [
  {
   "cell_type": "markdown",
   "metadata": {},
   "source": [
    " \n",
    " - https://www.kaggle.com/themlphdstudent/cheat-sheet-seaborn-charts\n",
    " - https://seaborn.pydata.org/introduction.html\n",
    " - https://seaborn.pydata.org/tutorial.html\n",
    " - https://jakevdp.github.io/PythonDataScienceHandbook/04.14-visualization-with-seaborn.html\n",
    " - https://medium.com/@neuralnets/statistical-data-visualization-series-with-python-and-seaborn-for-data-science-5a73b128851d\n",
    " - https://medium.com/@ppeng08/interactive-visualization-for-exploratory-data-analysis-in-jupyter-notebook-adc826e1e76a\n",
    " - https://gist.github.com/noklam/ddd503085c5aa0c27ddb0eceb4a2f07b\n",
    " - https://s3.amazonaws.com/assets.datacamp.com/blog_assets/Python_Seaborn_Cheat_Sheet.pdf\n",
    " - https://python.quantecon.org/index_toc.html\n",
    " - http://seaborn.pydata.org/tutorial/axis_grids.html\n",
    " - http://seaborn.pydata.org/tutorial/axis_grids.html#conditional-small-multiples\n",
    " - https://www.youtube.com/watch?v=KvZ2KSxlWBY "
   ]
  },
  {
   "cell_type": "code",
   "execution_count": 1,
   "metadata": {},
   "outputs": [],
   "source": [
    "%matplotlib ipympl\n",
    "import seaborn as sns\n",
    "import pandas as pd\n",
    "import ipywidgets\n",
    "import matplotlib.pyplot as plt"
   ]
  },
  {
   "cell_type": "markdown",
   "metadata": {},
   "source": [
    "# Common datasets"
   ]
  },
  {
   "cell_type": "code",
   "execution_count": 2,
   "metadata": {},
   "outputs": [
    {
     "name": "stdout",
     "output_type": "stream",
     "text": [
      "['anagrams', 'anscombe', 'attention', 'brain_networks', 'car_crashes', 'diamonds', 'dots', 'exercise', 'flights', 'fmri', 'gammas', 'geyser', 'iris', 'mpg', 'penguins', 'planets', 'tips', 'titanic']\n"
     ]
    }
   ],
   "source": [
    "print(sns.get_dataset_names())"
   ]
  },
  {
   "cell_type": "code",
   "execution_count": 3,
   "metadata": {},
   "outputs": [
    {
     "name": "stdout",
     "output_type": "stream",
     "text": [
      "   sepal_length  sepal_width  petal_length  petal_width species\n",
      "0           5.1          3.5           1.4          0.2  setosa\n",
      "1           4.9          3.0           1.4          0.2  setosa\n",
      "2           4.7          3.2           1.3          0.2  setosa\n",
      "3           4.6          3.1           1.5          0.2  setosa\n",
      "4           5.0          3.6           1.4          0.2  setosa\n"
     ]
    }
   ],
   "source": [
    "iris_df = sns.load_dataset(\"iris\")\n",
    "print(iris_df.head())"
   ]
  },
  {
   "cell_type": "code",
   "execution_count": 4,
   "metadata": {},
   "outputs": [
    {
     "name": "stdout",
     "output_type": "stream",
     "text": [
      "   survived  pclass     sex   age  sibsp  parch     fare embarked  class  \\\n",
      "0         0       3    male  22.0      1      0   7.2500        S  Third   \n",
      "1         1       1  female  38.0      1      0  71.2833        C  First   \n",
      "2         1       3  female  26.0      0      0   7.9250        S  Third   \n",
      "3         1       1  female  35.0      1      0  53.1000        S  First   \n",
      "4         0       3    male  35.0      0      0   8.0500        S  Third   \n",
      "\n",
      "     who  adult_male deck  embark_town alive  alone  \n",
      "0    man        True  NaN  Southampton    no  False  \n",
      "1  woman       False    C    Cherbourg   yes  False  \n",
      "2  woman       False  NaN  Southampton   yes   True  \n",
      "3  woman       False    C  Southampton   yes  False  \n",
      "4    man        True  NaN  Southampton    no   True  \n"
     ]
    }
   ],
   "source": [
    "titanic_df = sns.load_dataset(\"titanic\")\n",
    "print(titanic_df.head())"
   ]
  },
  {
   "cell_type": "code",
   "execution_count": 5,
   "metadata": {},
   "outputs": [
    {
     "name": "stdout",
     "output_type": "stream",
     "text": [
      "   total_bill   tip     sex smoker  day    time  size\n",
      "0       16.99  1.01  Female     No  Sun  Dinner     2\n",
      "1       10.34  1.66    Male     No  Sun  Dinner     3\n",
      "2       21.01  3.50    Male     No  Sun  Dinner     3\n",
      "3       23.68  3.31    Male     No  Sun  Dinner     2\n",
      "4       24.59  3.61  Female     No  Sun  Dinner     4\n"
     ]
    }
   ],
   "source": [
    "tips_df = sns.load_dataset(\"tips\")\n",
    "print(tips_df.head())"
   ]
  },
  {
   "cell_type": "markdown",
   "metadata": {},
   "source": [
    "# Style and theme\n",
    "\n",
    "To activate default theme of seaborn : sns.set_theme()\n",
    "\n",
    "To activate style : \n",
    "```python\n",
    "sns.set_style(\"darkgrid\")\n",
    "sns.set_style(\"whitegrid\")\n",
    "sns.set_style(\"dark\")\n",
    "sns.set_style(\"white\")\n",
    "sns.set_style(\"ticks\")\n",
    "```\n",
    "\n",
    "To set context : \n",
    "```python\n",
    "sns.set_context(\"paper\")\n",
    "sns.set_context(\"notebook\")\n",
    "sns.set_context(\"talk\")\n",
    "sns.set_context(\"poster\")\n",
    "```"
   ]
  },
  {
   "cell_type": "code",
   "execution_count": 6,
   "metadata": {},
   "outputs": [],
   "source": [
    "sns.set_theme()\n",
    "sns.set_style(\"darkgrid\")"
   ]
  },
  {
   "cell_type": "markdown",
   "metadata": {},
   "source": [
    "To remove top and right axes spines : sns.despine()\n",
    "```python\n",
    "sns.despine(offset=10, trim=True);\n",
    "sns.despine(left=True)\n",
    "```"
   ]
  },
  {
   "cell_type": "markdown",
   "metadata": {},
   "source": [
    "Style can be used in context : \n",
    "```python\n",
    "with sns.axes_style(\"whitegrid\"):\n",
    "    ax = f.add_subplot(gs[1, 1])\n",
    "    sinplot()\n",
    "```"
   ]
  },
  {
   "cell_type": "markdown",
   "metadata": {},
   "source": [
    "Palettes :\n",
    "\n",
    " - pastel\n",
    " - magma\n",
    " - ch:.25\n",
    " - ch:0.95\n",
    " - Set2"
   ]
  },
  {
   "cell_type": "code",
   "execution_count": 7,
   "metadata": {},
   "outputs": [
    {
     "data": {
      "application/vnd.jupyter.widget-view+json": {
       "model_id": "9ff362bb96194c8cb5d352195aee5dc4",
       "version_major": 2,
       "version_minor": 0
      },
      "text/plain": [
       "Canvas(toolbar=Toolbar(toolitems=[('Home', 'Reset original view', 'home', 'home'), ('Back', 'Back to previous …"
      ]
     },
     "metadata": {},
     "output_type": "display_data"
    }
   ],
   "source": [
    "sns.set_style('ticks', {'axes.grid': True, 'xtick.direction': 'in'})\n",
    "sns.despine(left = True, bottom= False)"
   ]
  },
  {
   "cell_type": "code",
   "execution_count": 8,
   "metadata": {},
   "outputs": [],
   "source": [
    "sns.set(rc={'figure.figsize':(12,10)})"
   ]
  },
  {
   "cell_type": "markdown",
   "metadata": {},
   "source": [
    "# Quick plots"
   ]
  },
  {
   "cell_type": "markdown",
   "metadata": {},
   "source": [
    "High level categorical plot : `catplot()`\n",
    " - scatter\n",
    "\n",
    "\n",
    "Categorical scatter \n",
    " - `stripplot` : `catplot(kind=\"strip\")`\n",
    " - `swarmplot` : `catplot(kind=\"swarm\")`\n",
    " \n",
    "Categorical distribution plots:\n",
    " - `boxplot()` : `kind=\"box`\n",
    " - `violinplot()` : `kind=\"violin\"`\n",
    " - `boxenplot()` :  `kind=\"boxen\"`\n",
    " \n",
    "Categorical estimate plots:\n",
    " - `pointplot()` : `kind=\"point\"`\n",
    " - `barplot()` : `kind=\"bar\"`\n",
    " - `countplot()` : `kind=\"count\"`"
   ]
  },
  {
   "cell_type": "markdown",
   "metadata": {},
   "source": [
    "# Plots"
   ]
  },
  {
   "cell_type": "markdown",
   "metadata": {},
   "source": [
    "## sns.barplot"
   ]
  },
  {
   "cell_type": "code",
   "execution_count": 9,
   "metadata": {},
   "outputs": [
    {
     "data": {
      "application/vnd.jupyter.widget-view+json": {
       "model_id": "d9db148fa90647f7a953fdcde5ed00a3",
       "version_major": 2,
       "version_minor": 0
      },
      "text/plain": [
       "Canvas(toolbar=Toolbar(toolitems=[('Home', 'Reset original view', 'home', 'home'), ('Back', 'Back to previous …"
      ]
     },
     "metadata": {},
     "output_type": "display_data"
    },
    {
     "data": {
      "text/plain": [
       "<AxesSubplot:xlabel='species', ylabel='sepal_length'>"
      ]
     },
     "execution_count": 9,
     "metadata": {},
     "output_type": "execute_result"
    }
   ],
   "source": [
    "fig, ax = plt.subplots()\n",
    "sns.barplot(data=iris_df, \n",
    "            x='species', \n",
    "            y='sepal_length', \n",
    "            hue=\"species\",\n",
    "            ci=95,\n",
    "            dodge=False,\n",
    "            #palette='magma',\n",
    "            #orient='h'\n",
    "            color=\"#1CB3B1\", # main color, exclusive with palette\n",
    "           )\n"
   ]
  },
  {
   "cell_type": "markdown",
   "metadata": {},
   "source": [
    "## sns.catplot(kind=\"strip\")"
   ]
  },
  {
   "cell_type": "code",
   "execution_count": 10,
   "metadata": {},
   "outputs": [
    {
     "data": {
      "application/vnd.jupyter.widget-view+json": {
       "model_id": "e382a33b38fb4da2abc80dd472c3411a",
       "version_major": 2,
       "version_minor": 0
      },
      "text/plain": [
       "Canvas(toolbar=Toolbar(toolitems=[('Home', 'Reset original view', 'home', 'home'), ('Back', 'Back to previous …"
      ]
     },
     "metadata": {},
     "output_type": "display_data"
    },
    {
     "name": "stderr",
     "output_type": "stream",
     "text": [
      "/opt/anaconda3/lib/python3.7/site-packages/seaborn/categorical.py:2792: UserWarning: The `split` parameter has been renamed to `dodge`.\n",
      "  warnings.warn(msg, UserWarning)\n"
     ]
    },
    {
     "data": {
      "text/plain": [
       "<seaborn.axisgrid.FacetGrid at 0x11dc39590>"
      ]
     },
     "execution_count": 10,
     "metadata": {},
     "output_type": "execute_result"
    }
   ],
   "source": [
    "sns.catplot(kind=\"strip\", data=iris_df,\n",
    "            x=\"species\",\n",
    "            y=\"petal_width\",\n",
    "            hue=\"species\",\n",
    "            jitter=True,\n",
    "            split=False)"
   ]
  },
  {
   "cell_type": "markdown",
   "metadata": {},
   "source": [
    "## sns.catplot(kind=\"swarm\")"
   ]
  },
  {
   "cell_type": "code",
   "execution_count": 11,
   "metadata": {},
   "outputs": [
    {
     "data": {
      "application/vnd.jupyter.widget-view+json": {
       "model_id": "31c9e7440a7941e2ab72992ab2381538",
       "version_major": 2,
       "version_minor": 0
      },
      "text/plain": [
       "Canvas(toolbar=Toolbar(toolitems=[('Home', 'Reset original view', 'home', 'home'), ('Back', 'Back to previous …"
      ]
     },
     "metadata": {},
     "output_type": "display_data"
    },
    {
     "name": "stderr",
     "output_type": "stream",
     "text": [
      "/opt/anaconda3/lib/python3.7/site-packages/seaborn/categorical.py:1296: UserWarning: 28.0% of the points cannot be placed; you may want to decrease the size of the markers or use stripplot.\n",
      "  warnings.warn(msg, UserWarning)\n"
     ]
    },
    {
     "data": {
      "text/plain": [
       "<seaborn.axisgrid.FacetGrid at 0x12005eb90>"
      ]
     },
     "execution_count": 11,
     "metadata": {},
     "output_type": "execute_result"
    }
   ],
   "source": [
    "sns.catplot(kind=\"swarm\", data=iris_df,\n",
    "            x=\"species\", \n",
    "            y=\"petal_width\",\n",
    "            hue=\"species\")\n"
   ]
  },
  {
   "cell_type": "markdown",
   "metadata": {},
   "source": [
    "## sns.catplot(kind=\"box\")"
   ]
  },
  {
   "cell_type": "code",
   "execution_count": 12,
   "metadata": {},
   "outputs": [
    {
     "data": {
      "application/vnd.jupyter.widget-view+json": {
       "model_id": "d93e078f68de45ce997fa8302415f5e2",
       "version_major": 2,
       "version_minor": 0
      },
      "text/plain": [
       "Canvas(toolbar=Toolbar(toolitems=[('Home', 'Reset original view', 'home', 'home'), ('Back', 'Back to previous …"
      ]
     },
     "metadata": {},
     "output_type": "display_data"
    },
    {
     "data": {
      "text/plain": [
       "<seaborn.axisgrid.FacetGrid at 0x120426050>"
      ]
     },
     "execution_count": 12,
     "metadata": {},
     "output_type": "execute_result"
    }
   ],
   "source": [
    "sns.catplot(kind=\"box\", data=iris_df,\n",
    "            x=\"species\",\n",
    "            y=\"petal_width\", \n",
    "            hue=\"species\",\n",
    "            color = '#EE67CF' # main color\n",
    "           )"
   ]
  },
  {
   "cell_type": "markdown",
   "metadata": {},
   "source": [
    "## sns.catplot(kind=\"violin\")"
   ]
  },
  {
   "cell_type": "code",
   "execution_count": 13,
   "metadata": {},
   "outputs": [
    {
     "data": {
      "application/vnd.jupyter.widget-view+json": {
       "model_id": "491924fa1d494e2bbb7ea11ae10d1935",
       "version_major": 2,
       "version_minor": 0
      },
      "text/plain": [
       "Canvas(toolbar=Toolbar(toolitems=[('Home', 'Reset original view', 'home', 'home'), ('Back', 'Back to previous …"
      ]
     },
     "metadata": {},
     "output_type": "display_data"
    },
    {
     "data": {
      "text/plain": [
       "<seaborn.axisgrid.FacetGrid at 0x1206e4dd0>"
      ]
     },
     "execution_count": 13,
     "metadata": {},
     "output_type": "execute_result"
    }
   ],
   "source": [
    "sns.catplot(kind=\"violin\", data=iris_df,\n",
    "            x=\"species\", \n",
    "            y=\"petal_width\",\n",
    "            hue=\"species\",\n",
    "            inner=\"stick\",\n",
    "            split=False,\n",
    "            palette=\"pastel\")\n"
   ]
  },
  {
   "cell_type": "markdown",
   "metadata": {},
   "source": [
    "## sns.catplot(kind=\"boxen\")"
   ]
  },
  {
   "cell_type": "code",
   "execution_count": 14,
   "metadata": {},
   "outputs": [
    {
     "data": {
      "application/vnd.jupyter.widget-view+json": {
       "model_id": "a72ac9e900ba4423a77832f040dec54d",
       "version_major": 2,
       "version_minor": 0
      },
      "text/plain": [
       "Canvas(toolbar=Toolbar(toolitems=[('Home', 'Reset original view', 'home', 'home'), ('Back', 'Back to previous …"
      ]
     },
     "metadata": {},
     "output_type": "display_data"
    },
    {
     "data": {
      "text/plain": [
       "<seaborn.axisgrid.FacetGrid at 0x1206eb1d0>"
      ]
     },
     "execution_count": 14,
     "metadata": {},
     "output_type": "execute_result"
    }
   ],
   "source": [
    "sns.catplot(kind=\"boxen\", data=iris_df,\n",
    "            x=\"species\",\n",
    "            y=\"sepal_width\")"
   ]
  },
  {
   "cell_type": "markdown",
   "metadata": {},
   "source": [
    "## sns.catplot(kind=\"bar\")"
   ]
  },
  {
   "cell_type": "code",
   "execution_count": 15,
   "metadata": {},
   "outputs": [
    {
     "data": {
      "application/vnd.jupyter.widget-view+json": {
       "model_id": "db2aa2d67e5f42daa4c32e48774d60a3",
       "version_major": 2,
       "version_minor": 0
      },
      "text/plain": [
       "Canvas(toolbar=Toolbar(toolitems=[('Home', 'Reset original view', 'home', 'home'), ('Back', 'Back to previous …"
      ]
     },
     "metadata": {},
     "output_type": "display_data"
    },
    {
     "data": {
      "text/plain": [
       "<seaborn.axisgrid.FacetGrid at 0x12068bc90>"
      ]
     },
     "execution_count": 15,
     "metadata": {},
     "output_type": "execute_result"
    }
   ],
   "source": [
    "sns.catplot(kind=\"bar\", data=iris_df,\n",
    "            x=\"species\", \n",
    "            y=\"petal_width\",\n",
    "            hue=\"species\")\n"
   ]
  },
  {
   "cell_type": "markdown",
   "metadata": {},
   "source": [
    "## sns.catplot(kind=\"count\")"
   ]
  },
  {
   "cell_type": "code",
   "execution_count": 20,
   "metadata": {},
   "outputs": [
    {
     "data": {
      "application/vnd.jupyter.widget-view+json": {
       "model_id": "1f581767a8804352ac793431236f0795",
       "version_major": 2,
       "version_minor": 0
      },
      "text/plain": [
       "Canvas(toolbar=Toolbar(toolitems=[('Home', 'Reset original view', 'home', 'home'), ('Back', 'Back to previous …"
      ]
     },
     "metadata": {},
     "output_type": "display_data"
    },
    {
     "data": {
      "text/plain": [
       "<seaborn.axisgrid.FacetGrid at 0x122d9ac50>"
      ]
     },
     "execution_count": 20,
     "metadata": {},
     "output_type": "execute_result"
    }
   ],
   "source": [
    "sns.catplot(kind=\"count\", data=iris_df, \n",
    "                x=\"sepal_length\",\n",
    "               )"
   ]
  },
  {
   "cell_type": "markdown",
   "metadata": {},
   "source": [
    "## sns.catplot(kind=\"point\")"
   ]
  },
  {
   "cell_type": "code",
   "execution_count": 21,
   "metadata": {},
   "outputs": [
    {
     "data": {
      "application/vnd.jupyter.widget-view+json": {
       "model_id": "1cbe648de3614ba5aa41a7440de248bf",
       "version_major": 2,
       "version_minor": 0
      },
      "text/plain": [
       "Canvas(toolbar=Toolbar(toolitems=[('Home', 'Reset original view', 'home', 'home'), ('Back', 'Back to previous …"
      ]
     },
     "metadata": {},
     "output_type": "display_data"
    },
    {
     "data": {
      "text/plain": [
       "<seaborn.axisgrid.FacetGrid at 0x123de7410>"
      ]
     },
     "execution_count": 21,
     "metadata": {},
     "output_type": "execute_result"
    }
   ],
   "source": [
    "sns.catplot(kind=\"point\", data=iris_df, \n",
    "            x=\"petal_width\", \n",
    "            y=\"sepal_width\",\n",
    "            hue=\"species\")"
   ]
  },
  {
   "cell_type": "markdown",
   "metadata": {},
   "source": [
    "## sns.displot"
   ]
  },
  {
   "cell_type": "code",
   "execution_count": 22,
   "metadata": {},
   "outputs": [
    {
     "data": {
      "application/vnd.jupyter.widget-view+json": {
       "model_id": "65d33472938347ce8b21639609c128a7",
       "version_major": 2,
       "version_minor": 0
      },
      "text/plain": [
       "Canvas(toolbar=Toolbar(toolitems=[('Home', 'Reset original view', 'home', 'home'), ('Back', 'Back to previous …"
      ]
     },
     "metadata": {},
     "output_type": "display_data"
    },
    {
     "data": {
      "text/plain": [
       "<seaborn.axisgrid.FacetGrid at 0x123de7a90>"
      ]
     },
     "execution_count": 22,
     "metadata": {},
     "output_type": "execute_result"
    }
   ],
   "source": [
    "sns.displot(iris_df, \n",
    "            x=\"petal_length\",\n",
    "            hue=\"species\",\n",
    "            #col=\"sex\",                   # add additional plots col-wise\n",
    "            #stat=\"density\",              # normalize hist area\n",
    "            stat=\"probability\",           # normalise hist values\n",
    "            common_norm=False,            # normalise each sub-hist independantly\n",
    "            #bins=20,                     # set bin number\n",
    "            #bins=[1, 2, 3, 4, 5, 6, 7]), # set bins\n",
    "            binwidth=0.5,                 # set bin size\n",
    "            #discrete=True,               # if data values are discrete\n",
    "            #shrink=.8,                   # shrink bins width-display\n",
    "            #element=\"step\",              #\n",
    "            #multiple=\"stack\",            # dodge\n",
    "            rug=True,                     # add rug\n",
    "            #color=\"blue\",              # main color\n",
    "           )\n",
    "\n",
    "#sns.distplot(data_df['sepal_width'])"
   ]
  },
  {
   "cell_type": "code",
   "execution_count": 23,
   "metadata": {},
   "outputs": [
    {
     "data": {
      "application/vnd.jupyter.widget-view+json": {
       "model_id": "4ea5dc06a1a744468c83449e4fd77d51",
       "version_major": 2,
       "version_minor": 0
      },
      "text/plain": [
       "Canvas(toolbar=Toolbar(toolitems=[('Home', 'Reset original view', 'home', 'home'), ('Back', 'Back to previous …"
      ]
     },
     "metadata": {},
     "output_type": "display_data"
    },
    {
     "data": {
      "application/vnd.jupyter.widget-view+json": {
       "model_id": "e18017de063e4b668ce8484639f1333c",
       "version_major": 2,
       "version_minor": 0
      },
      "text/plain": [
       "Canvas(toolbar=Toolbar(toolitems=[('Home', 'Reset original view', 'home', 'home'), ('Back', 'Back to previous …"
      ]
     },
     "metadata": {},
     "output_type": "display_data"
    },
    {
     "data": {
      "text/plain": [
       "<seaborn.axisgrid.FacetGrid at 0x1241666d0>"
      ]
     },
     "execution_count": 23,
     "metadata": {},
     "output_type": "execute_result"
    }
   ],
   "source": [
    "sns.displot(iris_df, \n",
    "            x=\"petal_length\", y=\"petal_width\")\n",
    "\n",
    "sns.displot(iris_df, hue=\"species\",\n",
    "            x=\"petal_length\", y=\"petal_width\",\n",
    "           binwidth=(2, .5),\n",
    "           cbar=True,\n",
    "           )\n"
   ]
  },
  {
   "cell_type": "markdown",
   "metadata": {},
   "source": [
    "## sns.displot(kind=\"kde\")"
   ]
  },
  {
   "cell_type": "code",
   "execution_count": 24,
   "metadata": {},
   "outputs": [
    {
     "data": {
      "application/vnd.jupyter.widget-view+json": {
       "model_id": "b6a90b06ccf74898a8dad92f1b4713b1",
       "version_major": 2,
       "version_minor": 0
      },
      "text/plain": [
       "Canvas(toolbar=Toolbar(toolitems=[('Home', 'Reset original view', 'home', 'home'), ('Back', 'Back to previous …"
      ]
     },
     "metadata": {},
     "output_type": "display_data"
    },
    {
     "data": {
      "text/plain": [
       "<seaborn.axisgrid.FacetGrid at 0x1252e1090>"
      ]
     },
     "execution_count": 24,
     "metadata": {},
     "output_type": "execute_result"
    }
   ],
   "source": [
    "sns.displot(iris_df, kind=\"kde\",\n",
    "            hue=\"species\",\n",
    "            #multiple=\"stack\", \n",
    "            fill=True, \n",
    "            bw_adjust=.5,      # adjust bandwidth\n",
    "            #cut=0,            # clip kde plot curve\n",
    "            x=\"petal_length\",\n",
    "            y=\"petal_width\",\n",
    "            #thresh=.2, \n",
    "            #levels=0.2,        # levels=[.01, .05, .1, .8]\n",
    "            rug=True,\n",
    "           )"
   ]
  },
  {
   "cell_type": "code",
   "execution_count": 25,
   "metadata": {},
   "outputs": [
    {
     "data": {
      "application/vnd.jupyter.widget-view+json": {
       "model_id": "9aa8b01a16854824a72a241abda47c29",
       "version_major": 2,
       "version_minor": 0
      },
      "text/plain": [
       "Canvas(toolbar=Toolbar(toolitems=[('Home', 'Reset original view', 'home', 'home'), ('Back', 'Back to previous …"
      ]
     },
     "metadata": {},
     "output_type": "display_data"
    },
    {
     "data": {
      "text/plain": [
       "<seaborn.axisgrid.FacetGrid at 0x125ee9650>"
      ]
     },
     "execution_count": 25,
     "metadata": {},
     "output_type": "execute_result"
    }
   ],
   "source": [
    "sns.displot(iris_df, kind=\"kde\",\n",
    "            x=\"petal_length\",\n",
    "            y=\"petal_width\")"
   ]
  },
  {
   "cell_type": "code",
   "execution_count": 26,
   "metadata": {},
   "outputs": [
    {
     "data": {
      "application/vnd.jupyter.widget-view+json": {
       "model_id": "7dca1d0e813d4f3eb733a434dceda863",
       "version_major": 2,
       "version_minor": 0
      },
      "text/plain": [
       "Canvas(toolbar=Toolbar(toolitems=[('Home', 'Reset original view', 'home', 'home'), ('Back', 'Back to previous …"
      ]
     },
     "metadata": {},
     "output_type": "display_data"
    },
    {
     "data": {
      "text/plain": [
       "<seaborn.axisgrid.FacetGrid at 0x1255cea10>"
      ]
     },
     "execution_count": 26,
     "metadata": {},
     "output_type": "execute_result"
    }
   ],
   "source": [
    "sns.displot(iris_df, kind=\"kde\", \n",
    "            x=\"sepal_length\",\n",
    "            y=\"petal_length\", \n",
    "            hue=\"species\")"
   ]
  },
  {
   "cell_type": "markdown",
   "metadata": {},
   "source": [
    "## sns.displot(kind=\"ecdf\")"
   ]
  },
  {
   "cell_type": "code",
   "execution_count": 27,
   "metadata": {},
   "outputs": [
    {
     "data": {
      "application/vnd.jupyter.widget-view+json": {
       "model_id": "20dbf47780d4427eb482c814e8295367",
       "version_major": 2,
       "version_minor": 0
      },
      "text/plain": [
       "Canvas(toolbar=Toolbar(toolitems=[('Home', 'Reset original view', 'home', 'home'), ('Back', 'Back to previous …"
      ]
     },
     "metadata": {},
     "output_type": "display_data"
    },
    {
     "data": {
      "text/plain": [
       "<seaborn.axisgrid.FacetGrid at 0x125e0f350>"
      ]
     },
     "execution_count": 27,
     "metadata": {},
     "output_type": "execute_result"
    }
   ],
   "source": [
    "sns.displot(iris_df, kind=\"ecdf\", \n",
    "            x=\"petal_length\", \n",
    "           hue=\"species\",\n",
    "           rug=True)\n"
   ]
  },
  {
   "cell_type": "markdown",
   "metadata": {},
   "source": [
    "## sns.heatmap"
   ]
  },
  {
   "cell_type": "code",
   "execution_count": 28,
   "metadata": {},
   "outputs": [
    {
     "data": {
      "application/vnd.jupyter.widget-view+json": {
       "model_id": "5091c279a2ff49e8b04da4a05a0b0ad5",
       "version_major": 2,
       "version_minor": 0
      },
      "text/plain": [
       "Canvas(toolbar=Toolbar(toolitems=[('Home', 'Reset original view', 'home', 'home'), ('Back', 'Back to previous …"
      ]
     },
     "metadata": {},
     "output_type": "display_data"
    },
    {
     "data": {
      "text/plain": [
       "<AxesSubplot:>"
      ]
     },
     "execution_count": 28,
     "metadata": {},
     "output_type": "execute_result"
    }
   ],
   "source": [
    "plt.figure()\n",
    "sns.heatmap(iris_df.corr(),\n",
    "            vmin=-1,\n",
    "            vmax=1,        \n",
    "            annot=True,             # add cell values on cell\n",
    "            linewidth=0.5,          # linewidth separating cells\n",
    "            linecolor=\"k\",          # color of lines separating cells\n",
    "            cbar=True,              # add a colorbar\n",
    "            square=True,            # enforce square cells\n",
    "            #yticklabels=cols,      # list of names for col labels\n",
    "            #xticklabels=cols,      # list of names for col labels\n",
    "            annot_kws={'size': 20},\n",
    "            cmap=\"BuPu\",            # YlGnBu/ Blues / BuPu / Greens\n",
    "           )   \n",
    "\n"
   ]
  },
  {
   "cell_type": "code",
   "execution_count": 11,
   "metadata": {},
   "outputs": [
    {
     "data": {
      "application/vnd.jupyter.widget-view+json": {
       "model_id": "2ece090cd438439798fe27fe417af9a5",
       "version_major": 2,
       "version_minor": 0
      },
      "text/plain": [
       "Canvas(toolbar=Toolbar(toolitems=[('Home', 'Reset original view', 'home', 'home'), ('Back', 'Back to previous …"
      ]
     },
     "metadata": {},
     "output_type": "display_data"
    }
   ],
   "source": [
    "plt.figure(figsize=(4, 5))\n",
    "\n",
    "dependent_variable = \"petal_length\"\n",
    "\n",
    "g = sns.heatmap(iris_df.corr()[[dependent_variable]].sort_values(by=dependent_variable),\n",
    "                    annot=True,\n",
    "                    cmap='coolwarm',\n",
    "                    vmin=-1,\n",
    "                    vmax=1)\n",
    "\n",
    " "
   ]
  },
  {
   "cell_type": "markdown",
   "metadata": {},
   "source": [
    "## sns.histplot"
   ]
  },
  {
   "cell_type": "code",
   "execution_count": 29,
   "metadata": {},
   "outputs": [
    {
     "data": {
      "application/vnd.jupyter.widget-view+json": {
       "model_id": "c5fcdaa0547a44388e77bb9f0894e15f",
       "version_major": 2,
       "version_minor": 0
      },
      "text/plain": [
       "Canvas(toolbar=Toolbar(toolitems=[('Home', 'Reset original view', 'home', 'home'), ('Back', 'Back to previous …"
      ]
     },
     "metadata": {},
     "output_type": "display_data"
    },
    {
     "data": {
      "text/plain": [
       "<AxesSubplot:xlabel='sepal_length', ylabel='Count'>"
      ]
     },
     "execution_count": 29,
     "metadata": {},
     "output_type": "execute_result"
    }
   ],
   "source": [
    "fig, ax = plt.subplots()\n",
    "sns.histplot(data=iris_df,\n",
    "             x=\"sepal_length\",\n",
    "             hue=\"species\",\n",
    "             multiple=\"stack\")"
   ]
  },
  {
   "cell_type": "markdown",
   "metadata": {},
   "source": [
    "## sns.lineplot"
   ]
  },
  {
   "cell_type": "code",
   "execution_count": 30,
   "metadata": {},
   "outputs": [
    {
     "data": {
      "application/vnd.jupyter.widget-view+json": {
       "model_id": "ec67d91883c049a6b26d82b355dc05e8",
       "version_major": 2,
       "version_minor": 0
      },
      "text/plain": [
       "Canvas(toolbar=Toolbar(toolitems=[('Home', 'Reset original view', 'home', 'home'), ('Back', 'Back to previous …"
      ]
     },
     "metadata": {},
     "output_type": "display_data"
    },
    {
     "data": {
      "text/plain": [
       "<AxesSubplot:xlabel='petal_length', ylabel='petal_width'>"
      ]
     },
     "execution_count": 30,
     "metadata": {},
     "output_type": "execute_result"
    }
   ],
   "source": [
    "plt.figure()\n",
    "sns.lineplot(data=iris_df,\n",
    "             x='petal_length',\n",
    "             y='petal_width',\n",
    "             hue=\"species\",\n",
    "             style=\"species\",\n",
    "             markers=True,\n",
    "    )"
   ]
  },
  {
   "cell_type": "markdown",
   "metadata": {},
   "source": [
    "## sns.lmplot"
   ]
  },
  {
   "cell_type": "code",
   "execution_count": 44,
   "metadata": {},
   "outputs": [
    {
     "data": {
      "application/vnd.jupyter.widget-view+json": {
       "model_id": "e67fc7b23f124798ab92ac72e4adbe1e",
       "version_major": 2,
       "version_minor": 0
      },
      "text/plain": [
       "Canvas(toolbar=Toolbar(toolitems=[('Home', 'Reset original view', 'home', 'home'), ('Back', 'Back to previous …"
      ]
     },
     "metadata": {},
     "output_type": "display_data"
    }
   ],
   "source": [
    "sns.lmplot(data=iris_df,\n",
    "           x=\"petal_length\", y=\"petal_width\", \n",
    "           hue=\"species\",\n",
    "           col=\"species\",           # add other plots column-wise\n",
    "           #col_wrap=2,              # wrap plots \n",
    "           #row=\"sepal_length\",      # add other plots row-wise\n",
    "           #x_estimator=np.mean,     # choose aggregation\n",
    "           x_jitter=.05,\n",
    "           #order=2,                 # change the order of regression\n",
    "           #ci=None,                 # enable confidence interval\n",
    "           #robust=True,             # exclude outliers from regression\n",
    "           #logistic=True,           # use logistic curve (usefull for binary data)\n",
    "           #markers=[\"o\", \"x\", \"*\"], # use different markers for hue\n",
    "           #palette=\"Set1\",          # change color palet\n",
    "           #markers=[\"o\", \"x\", \"+\"],\n",
    "           scatter_kws={\"s\": 80,       # scatter kwargs\n",
    "                       # \"color\":\"red\"\n",
    "                       },\n",
    "          #line_kws={'color': 'red'}   # line kwargs\n",
    "          ); #"
   ]
  },
  {
   "cell_type": "markdown",
   "metadata": {},
   "source": [
    "## sns.jointplot"
   ]
  },
  {
   "cell_type": "code",
   "execution_count": 32,
   "metadata": {},
   "outputs": [
    {
     "data": {
      "application/vnd.jupyter.widget-view+json": {
       "model_id": "0c3eb11b3a874d6f973662611e843df4",
       "version_major": 2,
       "version_minor": 0
      },
      "text/plain": [
       "Canvas(toolbar=Toolbar(toolitems=[('Home', 'Reset original view', 'home', 'home'), ('Back', 'Back to previous …"
      ]
     },
     "metadata": {},
     "output_type": "display_data"
    },
    {
     "data": {
      "text/plain": [
       "<seaborn.axisgrid.JointGrid at 0x12530b390>"
      ]
     },
     "execution_count": 32,
     "metadata": {},
     "output_type": "execute_result"
    }
   ],
   "source": [
    "sns.jointplot(data=iris_df,\n",
    "              x=\"petal_length\",\n",
    "              y=\"sepal_length\",\n",
    "              hue=\"species\")"
   ]
  },
  {
   "cell_type": "markdown",
   "metadata": {},
   "source": [
    "## sns.jointplot(kind=\"kde\")"
   ]
  },
  {
   "cell_type": "code",
   "execution_count": 33,
   "metadata": {},
   "outputs": [
    {
     "data": {
      "application/vnd.jupyter.widget-view+json": {
       "model_id": "36027b1591734671b835d17599a2f160",
       "version_major": 2,
       "version_minor": 0
      },
      "text/plain": [
       "Canvas(toolbar=Toolbar(toolitems=[('Home', 'Reset original view', 'home', 'home'), ('Back', 'Back to previous …"
      ]
     },
     "metadata": {},
     "output_type": "display_data"
    },
    {
     "data": {
      "text/plain": [
       "<seaborn.axisgrid.JointGrid at 0x11ddee890>"
      ]
     },
     "execution_count": 33,
     "metadata": {},
     "output_type": "execute_result"
    }
   ],
   "source": [
    "sns.jointplot(data=iris_df, kind=\"kde\",\n",
    "              x=\"petal_length\", \n",
    "              y=\"petal_width\",\n",
    "              hue=\"species\"\n",
    "    )"
   ]
  },
  {
   "cell_type": "markdown",
   "metadata": {},
   "source": [
    "## sns.pairplot"
   ]
  },
  {
   "cell_type": "code",
   "execution_count": 34,
   "metadata": {},
   "outputs": [
    {
     "data": {
      "application/vnd.jupyter.widget-view+json": {
       "model_id": "c1bb56e95f2e47409a54c30705c6b530",
       "version_major": 2,
       "version_minor": 0
      },
      "text/plain": [
       "Canvas(toolbar=Toolbar(toolitems=[('Home', 'Reset original view', 'home', 'home'), ('Back', 'Back to previous …"
      ]
     },
     "metadata": {},
     "output_type": "display_data"
    },
    {
     "data": {
      "text/plain": [
       "<seaborn.axisgrid.PairGrid at 0x12973c290>"
      ]
     },
     "execution_count": 34,
     "metadata": {},
     "output_type": "execute_result"
    }
   ],
   "source": [
    "\n",
    "sns.pairplot(data=iris_df, \n",
    "             kind=\"reg\",             # plot-kind in cross cells : {‘scatter’, ‘kde’, ‘hist’, ‘reg’}\n",
    "             #vars=,\n",
    "             #x_vars=[\"sepal_length\", \"sepal_width\", \"petal_width\"], # restrict variables on xaxis\n",
    "             #y_vars=[\"sepal_length\", \"sepal_width\", \"sepal_width\"], # restrict variables on yaxis\n",
    "             hue=\"species\",\n",
    "             diag_kind=\"kde\",            # plot-kind on diagonal cells : \"auto\", \"hist\", \"kde\", None\n",
    "             height=1.5,                 # height of cell\n",
    "             aspect=1,                   # width wrt heigth\n",
    "             palette=\"Set2\",\n",
    "             corner=True,              # low-left-triangle plots only\n",
    "             #plot_kws={'color':'green'}\n",
    "            )#.map_upper(sns.kdeplot, cmap=\"Blues_d\")"
   ]
  },
  {
   "cell_type": "markdown",
   "metadata": {},
   "source": [
    "## sns.regplot"
   ]
  },
  {
   "cell_type": "code",
   "execution_count": 35,
   "metadata": {},
   "outputs": [
    {
     "data": {
      "application/vnd.jupyter.widget-view+json": {
       "model_id": "89a5af5e994c4727846348c66ed65224",
       "version_major": 2,
       "version_minor": 0
      },
      "text/plain": [
       "Canvas(toolbar=Toolbar(toolitems=[('Home', 'Reset original view', 'home', 'home'), ('Back', 'Back to previous …"
      ]
     },
     "metadata": {},
     "output_type": "display_data"
    },
    {
     "ename": "NameError",
     "evalue": "name 'np' is not defined",
     "output_type": "error",
     "traceback": [
      "\u001b[0;31m---------------------------------------------------------------------------\u001b[0m",
      "\u001b[0;31mNameError\u001b[0m                                 Traceback (most recent call last)",
      "\u001b[0;32m<ipython-input-35-7142435a1872>\u001b[0m in \u001b[0;36m<module>\u001b[0;34m\u001b[0m\n\u001b[1;32m      9\u001b[0m             \u001b[0;31m#robust=True,   # exclude outliers from regression\u001b[0m\u001b[0;34m\u001b[0m\u001b[0;34m\u001b[0m\u001b[0;34m\u001b[0m\u001b[0m\n\u001b[1;32m     10\u001b[0m             \u001b[0;31m#x_jitter=.1   # jitter when x is discrete\u001b[0m\u001b[0;34m\u001b[0m\u001b[0;34m\u001b[0m\u001b[0;34m\u001b[0m\u001b[0m\n\u001b[0;32m---> 11\u001b[0;31m             \u001b[0mx_estimator\u001b[0m\u001b[0;34m=\u001b[0m\u001b[0mnp\u001b[0m\u001b[0;34m.\u001b[0m\u001b[0mmean\u001b[0m\u001b[0;34m,\u001b[0m \u001b[0;31m# add mean estimator\u001b[0m\u001b[0;34m\u001b[0m\u001b[0;34m\u001b[0m\u001b[0m\n\u001b[0m\u001b[1;32m     12\u001b[0m             \u001b[0;31m#logx=True,     # use log regression, exclusive with order/logistic/robust/logx\u001b[0m\u001b[0;34m\u001b[0m\u001b[0;34m\u001b[0m\u001b[0;34m\u001b[0m\u001b[0m\n\u001b[1;32m     13\u001b[0m             \u001b[0;31m#logistic=False, # use logistic regression (for binary data), exclusive use with order/logistic/robust/logx\u001b[0m\u001b[0;34m\u001b[0m\u001b[0;34m\u001b[0m\u001b[0;34m\u001b[0m\u001b[0m\n",
      "\u001b[0;31mNameError\u001b[0m: name 'np' is not defined"
     ]
    }
   ],
   "source": [
    "plt.figure()\n",
    "sns.regplot(data=iris_df, \n",
    "            x=\"sepal_width\",\n",
    "            y=\"sepal_length\",\n",
    "            order=1,      # change the order of regression, exclusive with order/logistic/robust/logx\n",
    "            scatter=True, # plot scatter \n",
    "            fit_reg=True,  # plot regression line\n",
    "            ci=100,        # confidence interval : None to hide\n",
    "            #robust=True,   # exclude outliers from regression\n",
    "            #x_jitter=.1   # jitter when x is discrete\n",
    "            x_estimator=np.mean, # add mean estimator\n",
    "            #logx=True,     # use log regression, exclusive with order/logistic/robust/logx\n",
    "            #logistic=False, # use logistic regression (for binary data), exclusive use with order/logistic/robust/logx\n",
    "           )"
   ]
  },
  {
   "cell_type": "markdown",
   "metadata": {},
   "source": [
    "## sns.relplot"
   ]
  },
  {
   "cell_type": "code",
   "execution_count": null,
   "metadata": {},
   "outputs": [],
   "source": [
    "\n",
    "sns.relplot(\n",
    "    data=tips_df, \n",
    "    #kind=\"line\", # None for scatter, line\n",
    "    x=\"total_bill\",\n",
    "    y=\"tip\",\n",
    "    col=\"time\",\n",
    "    row=\"sex\",\n",
    "    hue=\"day\",\n",
    "    size=\"size\", \n",
    "    height=3,\n",
    "    aspect=1,\n",
    "    #style=\"species\",\n",
    "    #col_wrap=2, \n",
    "    facet_kws=dict(sharex=False),\n",
    ")\n"
   ]
  },
  {
   "cell_type": "markdown",
   "metadata": {},
   "source": [
    "## sns.residplot"
   ]
  },
  {
   "cell_type": "code",
   "execution_count": null,
   "metadata": {},
   "outputs": [],
   "source": [
    "plt.figure()\n",
    "# compute regression and plot residuals\n",
    "sns.residplot(data=iris_df, \n",
    "              x=\"sepal_length\",\n",
    "              y=\"sepal_width\",\n",
    "              scatter_kws={\"s\": 80})\n",
    " "
   ]
  },
  {
   "cell_type": "markdown",
   "metadata": {},
   "source": [
    "## sns.scatterplot"
   ]
  },
  {
   "cell_type": "code",
   "execution_count": null,
   "metadata": {},
   "outputs": [],
   "source": [
    "plt.figure()\n",
    "sns.scatterplot(data=iris_df,\n",
    "                x='sepal_length',\n",
    "                y='sepal_width',\n",
    "                hue=\"species\",\n",
    "                style=\"species\",\n",
    "                size=\"petal_width\",  # size of markers\n",
    "                sizes=(10,300),      # min and max markers sizes\n",
    "               )\n"
   ]
  },
  {
   "cell_type": "markdown",
   "metadata": {},
   "source": [
    "# Interactive iris : start here !"
   ]
  },
  {
   "cell_type": "code",
   "execution_count": 37,
   "metadata": {},
   "outputs": [],
   "source": [
    "%matplotlib ipympl\n",
    "import seaborn as sns\n",
    "import pandas as pd\n",
    "import ipywidgets\n",
    "import matplotlib.pyplot as plt\n",
    "\n",
    "iris_df = sns.load_dataset(\"iris\")\n",
    "\n",
    "# all cols\n",
    "iris_cols = list(iris_df.columns)\n",
    "# all cols w None\n",
    "iris_cols_ext = list(iris_cols)\n",
    "iris_cols_ext.append(None)\n",
    "# numerical features\n",
    "iris_num_cols = list(iris_cols)\n",
    "iris_num_cols.remove(\"species\")\n",
    "# numerical features w None\n",
    "iris_num_cols_ext = list(iris_num_cols)\n",
    "iris_num_cols_ext.append(None)"
   ]
  },
  {
   "cell_type": "markdown",
   "metadata": {},
   "source": [
    "## sns.catplot(kind=\"count\")"
   ]
  },
  {
   "cell_type": "code",
   "execution_count": null,
   "metadata": {},
   "outputs": [],
   "source": [
    "@ipywidgets.interact\n",
    "def plot(ys=iris_cols):         \n",
    "    sns.catplot(kind=\"count\", data=iris_df,\n",
    "                y=ys)"
   ]
  },
  {
   "cell_type": "markdown",
   "metadata": {},
   "source": [
    "## sns.catplot(kind=\"boxplot\")"
   ]
  },
  {
   "cell_type": "code",
   "execution_count": null,
   "metadata": {},
   "outputs": [],
   "source": [
    "# stripplot plot : univariate counts\n",
    "@ipywidgets.interact\n",
    "def plot(x=iris_cols, y=iris_cols, hue=iris_cols):   \n",
    "    sns.catplot(kind=\"box\", data=iris_df,\n",
    "                x=x,\n",
    "                y=y,\n",
    "                hue=hue)"
   ]
  },
  {
   "cell_type": "markdown",
   "metadata": {},
   "source": [
    "## sns.caplot(kind=\"boxen\")"
   ]
  },
  {
   "cell_type": "code",
   "execution_count": null,
   "metadata": {},
   "outputs": [],
   "source": [
    "# stripplot plot : univariate counts\n",
    "@ipywidgets.interact\n",
    "def plot(x=iris_cols, y=iris_cols, hue=iris_cols):   \n",
    "    sns.catplot(kind=\"boxen\", data=iris_df,\n",
    "                x=x, \n",
    "                y=y, hue=hue)"
   ]
  },
  {
   "cell_type": "markdown",
   "metadata": {},
   "source": [
    "## sns.caplot(kind=\"point\")"
   ]
  },
  {
   "cell_type": "code",
   "execution_count": null,
   "metadata": {},
   "outputs": [],
   "source": [
    "@ipywidgets.interact\n",
    "def plot(x=iris_cols, y=iris_cols, hue=iris_cols):\n",
    "    sns.catplot(kind=\"point\", data=iris_df, \n",
    "                x=x,\n",
    "                y=y, \n",
    "                hue=hue)"
   ]
  },
  {
   "cell_type": "markdown",
   "metadata": {},
   "source": [
    "## sns.caplot(kind=\"violin\")"
   ]
  },
  {
   "cell_type": "code",
   "execution_count": null,
   "metadata": {},
   "outputs": [],
   "source": [
    "@ipywidgets.interact\n",
    "def plot(x=iris_cols, y=iris_cols, hue=iris_cols, col=iris_cols_ext):   \n",
    "    sns.catplot(kind=\"violin\", data=iris_df,\n",
    "                x=x,\n",
    "                y=y,\n",
    "                hue=hue,\n",
    "                col=col,\n",
    "                inner=\"stick\", \n",
    "                split=False,      # hue level only\n",
    "                palette=\"pastel\")"
   ]
  },
  {
   "cell_type": "markdown",
   "metadata": {},
   "source": [
    "## sns.catplot(kind=\"strip\")"
   ]
  },
  {
   "cell_type": "code",
   "execution_count": null,
   "metadata": {},
   "outputs": [],
   "source": [
    "@ipywidgets.interact\n",
    "def plot(x=iris_cols, y=iris_cols, hue=iris_cols):          \n",
    "        sns.catplot(kind=\"strip\", data=iris_df,\n",
    "                    x=x,\n",
    "                    y=y,\n",
    "                    hue=hue,\n",
    "                    #jitter=True,\n",
    "                    dodge=True  # formerly \"split\"\n",
    "                   )\n",
    "\n"
   ]
  },
  {
   "cell_type": "markdown",
   "metadata": {},
   "source": [
    "## sns.catplot(kind=\"swarm\")"
   ]
  },
  {
   "cell_type": "code",
   "execution_count": null,
   "metadata": {},
   "outputs": [],
   "source": [
    "@ipywidgets.interact\n",
    "def plot(x=iris_cols, y=iris_cols, hue=iris_cols):   \n",
    "    #plt.figure()\n",
    "    sns.catplot(kind=\"swarm\", data=iris_df,\n",
    "                x=x,\n",
    "                y=y,\n",
    "                hue=hue)"
   ]
  },
  {
   "cell_type": "markdown",
   "metadata": {},
   "source": [
    "## sns.heatmap"
   ]
  },
  {
   "cell_type": "code",
   "execution_count": null,
   "metadata": {},
   "outputs": [],
   "source": [
    "@ipywidgets.interact\n",
    "def plot(cols=ipywidgets.SelectMultiple(options=iris_cols), \n",
    "         annot=True, \n",
    "         cbar=True, \n",
    "         square=True):   \n",
    "    fig, ax = plt.subplots()\n",
    "    cols = list(cols)\n",
    "    if len(cols) == 0:\n",
    "        cols = list(iris_cols)\n",
    "    sns.heatmap(iris_df[cols].corr(),\n",
    "                vmin=-1,\n",
    "                vmax=1,\n",
    "                annot=annot,\n",
    "                linewidth=0.5, # linewidth separating cells\n",
    "                linecolor=\"k\", # color of lines separating cells\n",
    "                cbar=cbar,    # add a colorbar\n",
    "                square=square # enforce square cells\n",
    "        )\n",
    "    plt.tight_layout()\n"
   ]
  },
  {
   "cell_type": "markdown",
   "metadata": {},
   "source": [
    "## sns.histplot"
   ]
  },
  {
   "cell_type": "code",
   "execution_count": null,
   "metadata": {},
   "outputs": [],
   "source": [
    "\n",
    "numerical_cols = [\"sepal_length\", \"sepal_width\", \"petal_length\", \"petal_width\"]\n",
    "\n",
    "@ipywidgets.interact\n",
    "def plot(hue=iris_cols, \n",
    "         x=iris_cols,\n",
    "         stat=[\"count\", \"frequency\", \"density\", \"probability\"]):\n",
    "    fig, ax = plt.subplots()\n",
    "    sns.histplot(\n",
    "        data=iris_df,\n",
    "        x=x, \n",
    "        stat=stat,         # \"count\", \"frequency\", \"density\", \"probability\"\n",
    "        # y=ys,\n",
    "        hue=hue,\n",
    "        discrete=False,\n",
    "        cumulative=False,\n",
    "        fill=False,\n",
    "        kde=True,\n",
    "        multiple=\"layer\",   # {“layer”, “dodge”, “stack”, “fill”}\n",
    "        element=\"bars\",      # {\"bars\", \"step\", \"poly\"—\n",
    "        cbar=True,\n",
    "    )"
   ]
  },
  {
   "cell_type": "markdown",
   "metadata": {},
   "source": [
    "## sns.pairplot "
   ]
  },
  {
   "cell_type": "code",
   "execution_count": null,
   "metadata": {},
   "outputs": [],
   "source": [
    "\n",
    "@ipywidgets.interact\n",
    "def plot(hue=iris_cols_ext, diag_kind=[\"auto\", \"hist\", \"kde\", None], \n",
    "         kind=[\"scatter\", \"kde\", \"hist\", \"reg\"],\n",
    "        corner=False):\n",
    "    sns.pairplot(data=iris_df, \n",
    "             kind=kind,                              #plot-kind in cross cells : {‘scatter’, ‘kde’, ‘hist’, ‘reg’}\n",
    "             #vars=,\n",
    "             x_vars=iris_num_cols, # restrict variables on xaxis\n",
    "             y_vars=iris_num_cols, # restrict variables on yaxis\n",
    "             hue=hue,\n",
    "             diag_kind=diag_kind,                    # plot-kind on diagonal cells : \"auto\", \"hist\", \"kde\", None\n",
    "             height=1.5,                               # height of cell\n",
    "             aspect=1,                               # width wrt heigth\n",
    "             palette=\"Set2\",\n",
    "             corner=corner,    # low-left-triangle plots only : True/false\n",
    "            )\n"
   ]
  },
  {
   "cell_type": "markdown",
   "metadata": {},
   "source": [
    "## sns.regplot"
   ]
  },
  {
   "cell_type": "code",
   "execution_count": 39,
   "metadata": {},
   "outputs": [
    {
     "data": {
      "application/vnd.jupyter.widget-view+json": {
       "model_id": "d462b08b7906448f9efd0918386bd951",
       "version_major": 2,
       "version_minor": 0
      },
      "text/plain": [
       "interactive(children=(Dropdown(description='x', options=('sepal_length', 'sepal_width', 'petal_length', 'petal…"
      ]
     },
     "metadata": {},
     "output_type": "display_data"
    }
   ],
   "source": [
    "\n",
    "\n",
    "import numpy as np\n",
    "\n",
    "\n",
    "@ipywidgets.interact\n",
    "def plot(x=iris_num_cols, y=iris_num_cols, fit_reg=True, scatter=True, x_estimator=[None, np.mean]):\n",
    "    plt.figure()\n",
    "    sns.regplot(data=iris_df, \n",
    "            x=x, y=y,\n",
    "            order=1,      # change the order of regression, exclusive with order/logistic/robust/logx\n",
    "            scatter=scatter, # plot scatter \n",
    "            fit_reg=fit_reg,  # plot regression line\n",
    "            ci=100,        # confidence interval : None to hide\n",
    "            x_bins=None,     # number of x bins for plotting, int or None\n",
    "            #robust=True,   # exclude outliers from regression\n",
    "            #x_jitter=.1   # jitter when x is discrete\n",
    "            x_estimator=x_estimator, # add mean estimator : None or callable(vector)->scalar\n",
    "            #logx=True,     # use log regression, exclusive with order/logistic/robust/logx\n",
    "            #logistic=False, # use logistic regression (for binary data), exclusive use with order/logistic/robust/logx\n",
    "           )"
   ]
  },
  {
   "cell_type": "code",
   "execution_count": null,
   "metadata": {},
   "outputs": [],
   "source": []
  }
 ],
 "metadata": {
  "kernelspec": {
   "display_name": "Python 3",
   "language": "python",
   "name": "python3"
  },
  "language_info": {
   "codemirror_mode": {
    "name": "ipython",
    "version": 3
   },
   "file_extension": ".py",
   "mimetype": "text/x-python",
   "name": "python",
   "nbconvert_exporter": "python",
   "pygments_lexer": "ipython3",
   "version": "3.7.4"
  },
  "toc-autonumbering": true,
  "toc-showcode": false,
  "toc-showmarkdowntxt": false,
  "toc-showtags": false
 },
 "nbformat": 4,
 "nbformat_minor": 4
}
