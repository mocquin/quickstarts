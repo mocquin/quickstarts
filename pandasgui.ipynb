{
 "cells": [
  {
   "cell_type": "code",
   "execution_count": 1,
   "metadata": {},
   "outputs": [
    {
     "name": "stdout",
     "output_type": "stream",
     "text": [
      "Collecting pandasgui\n",
      "\u001b[?25l  Downloading https://files.pythonhosted.org/packages/95/ed/10b1dcfaf6b2b999be3064172b0940342b2eb63bdbc8b5fbcae4d2528286/pandasgui-0.2.7.tar.gz (6.9MB)\n",
      "\u001b[K     |████████████████████████████████| 6.9MB 612kB/s eta 0:00:01\n",
      "\u001b[?25hRequirement already satisfied: pandas in /opt/anaconda3/lib/python3.7/site-packages (from pandasgui) (1.1.3)\n",
      "Requirement already satisfied: PyQt5 in /opt/anaconda3/lib/python3.7/site-packages (from pandasgui) (5.12.3)\n",
      "Requirement already satisfied: PyQt5-sip in /opt/anaconda3/lib/python3.7/site-packages (from pandasgui) (12.8.1)\n",
      "Requirement already satisfied: PyQtWebEngine in /opt/anaconda3/lib/python3.7/site-packages (from pandasgui) (5.12.1)\n",
      "Requirement already satisfied: plotly in /opt/anaconda3/lib/python3.7/site-packages (from pandasgui) (4.13.0)\n",
      "Requirement already satisfied: setuptools in /opt/anaconda3/lib/python3.7/site-packages (from pandasgui) (41.4.0)\n",
      "Requirement already satisfied: appdirs in /opt/anaconda3/lib/python3.7/site-packages (from pandasgui) (1.4.4)\n",
      "Collecting dacite (from pandasgui)\n",
      "  Downloading https://files.pythonhosted.org/packages/06/9d/11a073172d889e9e0d0ad270a1b468876c82d759af7864a8095dfc73f46d/dacite-1.6.0-py3-none-any.whl\n",
      "Collecting pynput (from pandasgui)\n",
      "\u001b[?25l  Downloading https://files.pythonhosted.org/packages/89/66/0e62f409bb785db78ae5d228e6b1bf1e80d210744bcd21b9487417b049f5/pynput-1.7.1-py2.py3-none-any.whl (99kB)\n",
      "\u001b[K     |████████████████████████████████| 102kB 1.9MB/s ta 0:00:01\n",
      "\u001b[?25hRequirement already satisfied: IPython in /opt/anaconda3/lib/python3.7/site-packages (from pandasgui) (7.18.1)\n",
      "Requirement already satisfied: python-dateutil>=2.7.3 in /opt/anaconda3/lib/python3.7/site-packages (from pandas->pandasgui) (2.8.1)\n",
      "Requirement already satisfied: numpy>=1.15.4 in /opt/anaconda3/lib/python3.7/site-packages (from pandas->pandasgui) (1.18.5)\n",
      "Requirement already satisfied: pytz>=2017.2 in /opt/anaconda3/lib/python3.7/site-packages (from pandas->pandasgui) (2020.1)\n",
      "Requirement already satisfied: six in /opt/anaconda3/lib/python3.7/site-packages (from plotly->pandasgui) (1.15.0)\n",
      "Requirement already satisfied: retrying>=1.3.3 in /opt/anaconda3/lib/python3.7/site-packages (from plotly->pandasgui) (1.3.3)\n",
      "Requirement already satisfied: pyobjc-framework-Quartz>=3.0; sys_platform == \"darwin\" in /opt/anaconda3/lib/python3.7/site-packages (from pynput->pandasgui) (6.2.2)\n",
      "Requirement already satisfied: pickleshare in /opt/anaconda3/lib/python3.7/site-packages (from IPython->pandasgui) (0.7.5)\n",
      "Requirement already satisfied: pygments in /opt/anaconda3/lib/python3.7/site-packages (from IPython->pandasgui) (2.7.1)\n",
      "Requirement already satisfied: prompt-toolkit!=3.0.0,!=3.0.1,<3.1.0,>=2.0.0 in /opt/anaconda3/lib/python3.7/site-packages (from IPython->pandasgui) (3.0.7)\n",
      "Requirement already satisfied: appnope; sys_platform == \"darwin\" in /opt/anaconda3/lib/python3.7/site-packages (from IPython->pandasgui) (0.1.0)\n",
      "Requirement already satisfied: pexpect>4.3; sys_platform != \"win32\" in /opt/anaconda3/lib/python3.7/site-packages (from IPython->pandasgui) (4.8.0)\n",
      "Requirement already satisfied: decorator in /opt/anaconda3/lib/python3.7/site-packages (from IPython->pandasgui) (4.4.2)\n",
      "Requirement already satisfied: backcall in /opt/anaconda3/lib/python3.7/site-packages (from IPython->pandasgui) (0.2.0)\n",
      "Requirement already satisfied: jedi>=0.10 in /opt/anaconda3/lib/python3.7/site-packages (from IPython->pandasgui) (0.15.2)\n",
      "Requirement already satisfied: traitlets>=4.2 in /opt/anaconda3/lib/python3.7/site-packages (from IPython->pandasgui) (5.0.5)\n",
      "Requirement already satisfied: pyobjc-framework-Cocoa>=6.2.2 in /opt/anaconda3/lib/python3.7/site-packages (from pyobjc-framework-Quartz>=3.0; sys_platform == \"darwin\"->pynput->pandasgui) (6.2.2)\n",
      "Requirement already satisfied: pyobjc-core>=6.2.2 in /opt/anaconda3/lib/python3.7/site-packages (from pyobjc-framework-Quartz>=3.0; sys_platform == \"darwin\"->pynput->pandasgui) (6.2.2)\n",
      "Requirement already satisfied: wcwidth in /opt/anaconda3/lib/python3.7/site-packages (from prompt-toolkit!=3.0.0,!=3.0.1,<3.1.0,>=2.0.0->IPython->pandasgui) (0.2.5)\n",
      "Requirement already satisfied: ptyprocess>=0.5 in /opt/anaconda3/lib/python3.7/site-packages (from pexpect>4.3; sys_platform != \"win32\"->IPython->pandasgui) (0.6.0)\n",
      "Requirement already satisfied: parso>=0.5.2 in /opt/anaconda3/lib/python3.7/site-packages (from jedi>=0.10->IPython->pandasgui) (0.7.0)\n",
      "Requirement already satisfied: ipython-genutils in /opt/anaconda3/lib/python3.7/site-packages (from traitlets>=4.2->IPython->pandasgui) (0.2.0)\n",
      "Building wheels for collected packages: pandasgui\n",
      "  Building wheel for pandasgui (setup.py) ... \u001b[?25ldone\n",
      "\u001b[?25h  Created wheel for pandasgui: filename=pandasgui-0.2.7-cp37-none-any.whl size=6931293 sha256=030f9659efec7244c4e7d52b20f22298a3691c9e89c3691c2271124f97975376\n",
      "  Stored in directory: /Users/mocquin/Library/Caches/pip/wheels/9e/e1/3b/6815b7319c633381cb0128ec4ee308cab0890a749b8471d465\n",
      "Successfully built pandasgui\n",
      "Installing collected packages: dacite, pynput, pandasgui\n",
      "Successfully installed dacite-1.6.0 pandasgui-0.2.7 pynput-1.7.1\n"
     ]
    }
   ],
   "source": [
    "!pip install pandasgui"
   ]
  },
  {
   "cell_type": "code",
   "execution_count": 2,
   "metadata": {},
   "outputs": [
    {
     "data": {
      "text/plain": [
       "<pandasgui.gui.PandasGui at 0x121ed10f0>"
      ]
     },
     "execution_count": 2,
     "metadata": {},
     "output_type": "execute_result"
    }
   ],
   "source": [
    "import pandas as pd\n",
    "from pandasgui import show\n",
    "df = pd.DataFrame(([[1, 2, 3], [4, 5, 6], [7, 8, 9]]), columns=['a', 'b', 'c'])\n",
    "show(df)"
   ]
  },
  {
   "cell_type": "code",
   "execution_count": 3,
   "metadata": {},
   "outputs": [
    {
     "name": "stderr",
     "output_type": "stream",
     "text": [
      "PandasGUI INFO — pandasgui.datasets — Saved https://raw.githubusercontent.com/adamerose/datasets/master/pokemon.csv to /Users/mocquin/Library/Application Support/pandasgui/dataset_files\n",
      "PandasGUI INFO — pandasgui.datasets — Saved https://raw.githubusercontent.com/adamerose/datasets/master/car_crashes.csv to /Users/mocquin/Library/Application Support/pandasgui/dataset_files\n",
      "PandasGUI INFO — pandasgui.datasets — Saved https://raw.githubusercontent.com/adamerose/datasets/master/iris.csv to /Users/mocquin/Library/Application Support/pandasgui/dataset_files\n",
      "PandasGUI INFO — pandasgui.datasets — Saved https://raw.githubusercontent.com/adamerose/datasets/master/mpg.csv to /Users/mocquin/Library/Application Support/pandasgui/dataset_files\n",
      "PandasGUI INFO — pandasgui.datasets — Saved https://raw.githubusercontent.com/adamerose/datasets/master/penguins.csv to /Users/mocquin/Library/Application Support/pandasgui/dataset_files\n",
      "PandasGUI INFO — pandasgui.datasets — Saved https://raw.githubusercontent.com/adamerose/datasets/master/tips.csv to /Users/mocquin/Library/Application Support/pandasgui/dataset_files\n",
      "PandasGUI INFO — pandasgui.datasets — Saved https://raw.githubusercontent.com/adamerose/datasets/master/titanic.csv to /Users/mocquin/Library/Application Support/pandasgui/dataset_files\n",
      "PandasGUI INFO — pandasgui.datasets — Saved https://raw.githubusercontent.com/adamerose/datasets/master/gapminder.csv to /Users/mocquin/Library/Application Support/pandasgui/dataset_files\n",
      "PandasGUI INFO — pandasgui.datasets — Saved https://raw.githubusercontent.com/adamerose/datasets/master/stockdata.csv to /Users/mocquin/Library/Application Support/pandasgui/dataset_files\n",
      "PandasGUI INFO — pandasgui.datasets — Saved https://raw.githubusercontent.com/adamerose/datasets/master/mi_manufacturing.csv to /Users/mocquin/Library/Application Support/pandasgui/dataset_files\n"
     ]
    },
    {
     "data": {
      "text/plain": [
       "<pandasgui.gui.PandasGui at 0x113e8b9b0>"
      ]
     },
     "execution_count": 3,
     "metadata": {},
     "output_type": "execute_result"
    }
   ],
   "source": [
    "from pandasgui import show\n",
    "from pandasgui.datasets import pokemon, titanic, all_datasets\n",
    "show(**all_datasets)"
   ]
  },
  {
   "cell_type": "code",
   "execution_count": null,
   "metadata": {},
   "outputs": [],
   "source": []
  }
 ],
 "metadata": {
  "kernelspec": {
   "display_name": "Python 3",
   "language": "python",
   "name": "python3"
  },
  "language_info": {
   "codemirror_mode": {
    "name": "ipython",
    "version": 3
   },
   "file_extension": ".py",
   "mimetype": "text/x-python",
   "name": "python",
   "nbconvert_exporter": "python",
   "pygments_lexer": "ipython3",
   "version": "3.7.4"
  }
 },
 "nbformat": 4,
 "nbformat_minor": 4
}
