{
 "cells": [
  {
   "cell_type": "markdown",
   "metadata": {},
   "source": [
    "# Quaternions\n",
    "https://www.meccanismocomplesso.org/en/hamiltons-quaternions-and-3d-rotation-with-python/\n",
    " \n",
    "Equations du quaternion :\n",
    "$$i^2 = j^2 = k^2 = -1 = ijk$$\n",
    "$$ij = k = -ji$$\n",
    "$$jk = i = -kj$$\n",
    "$$ki = j = -ik$$\n",
    " \n",
    "Produit de 2 quaternion : \n",
    "$$q_1 q_2 = w_1w_2 - v_1 \\dot v_2 + w_1 v_2 + w_2 v_1 + v_1 \\times v_2$$\n",
    "Conjugé : \n",
    "$$q^{*} = w -xi -yj -zk$$\n",
    "Norme : \n",
    "$$\\abs{q} = \\sqrt{qq^{*}} = \\sqrt{w^2 + x^2 + y^2 +z^2}$$\n",
    "Inverse : \n",
    "$$q^{-1} = \\frac{q^{*}}{\\abs{q}^2} \\text{si q \\notequal 0}$$\n",
    "Partie réelle : \n",
    "$$Re(q) = w$$\n",
    "Partie imagineaire\n",
    "$$Im(q) = xi + yj + zk$$\n",
    "Propriétés\n",
    " - Conjugé du produit\n",
    "$$(q_1 q_2)^* = q_2^* q_1^*$$\n",
    " - Norme du produit\n",
    "$$\\abs{q_1 q_2} = \\abs{q_1} \\abs{q_2}$$\n",
    "$$q_2^{-1} q_1 \\diff q_1 q_2^{-1} \\text{donc éviter la notation} \\frac{q1}{q2}$$\n",
    "\n",
    " - Si q de norme 1 :\n",
    "$$\\norm{q} = q q^* = 1$$ donc\n",
    "$$q^{-1} = q^*$$\n",
    "Conjugaison par q de norme 1, alors $q^{-1} = q^*$  :\n",
    "$$S_q(p) = q p q^{-1}$$\n",
    "Cette application conserve la norme :\n",
    "$$\\abs{S_q(p)} = \\abs{q p q^{-1}} =  \\abs{q }  \\abs{p}  \\abs{q^{-1}} = \\abs{p}$$\n",
    "Pour que l'application et son application opposée s'annulent, on doit avoir :\n",
    "$$S_q(p) + (S_q(p))^* = 0$$ qui se réécrit $$S_q(p+p^*) = 0$$\n",
    "on doit donc se retreindre aux nombres complexes pour q.\n",
    "Pour que l'application soit une rotation, elle doit avoir un déterminant de 1\n",
    "Si u est un vecteur x, y, z\n",
    "la rotation d'axe u d'angle theta correspond à l'applciation S_q avec\n",
    "également noté\n",
    "$$(\\cos{\\theta}, \\vec{u}\\sin{\\theta/2})$$\n",
    " "
   ]
  },
  {
   "cell_type": "code",
   "execution_count": 1,
   "metadata": {},
   "outputs": [
    {
     "name": "stdout",
     "output_type": "stream",
     "text": [
      "Représentaiton matricielle de q1\n"
     ]
    },
    {
     "data": {
      "text/latex": [
       "$\\displaystyle \\left[\\begin{matrix}a & - b & - c & - d\\\\b & a & - d & c\\\\c & d & a & - b\\\\d & - c & b & a\\end{matrix}\\right]$"
      ],
      "text/plain": [
       "Matrix([\n",
       "[a, -b, -c, -d],\n",
       "[b,  a, -d,  c],\n",
       "[c,  d,  a, -b],\n",
       "[d, -c,  b,  a]])"
      ]
     },
     "metadata": {},
     "output_type": "display_data"
    },
    {
     "name": "stdout",
     "output_type": "stream",
     "text": [
      "Représentation vectoriel de q2\n"
     ]
    },
    {
     "data": {
      "text/latex": [
       "$\\displaystyle \\left[\\begin{matrix}a_{2}\\\\b_{2}\\\\c_{2}\\\\d_{2}\\end{matrix}\\right]$"
      ],
      "text/plain": [
       "Matrix([\n",
       "[a2],\n",
       "[b2],\n",
       "[c2],\n",
       "[d2]])"
      ]
     },
     "metadata": {},
     "output_type": "display_data"
    },
    {
     "name": "stdout",
     "output_type": "stream",
     "text": [
      "Equivalent de la multiplication q1 q2\n"
     ]
    },
    {
     "data": {
      "text/latex": [
       "$\\displaystyle \\left[\\begin{matrix}a a_{2} - b b_{2} - c c_{2} - d d_{2}\\\\a b_{2} + a_{2} b + c d_{2} - c_{2} d\\\\a c_{2} + a_{2} c - b d_{2} + b_{2} d\\\\a d_{2} + a_{2} d + b c_{2} - b_{2} c\\end{matrix}\\right]$"
      ],
      "text/plain": [
       "Matrix([\n",
       "[a*a2 - b*b2 - c*c2 - d*d2],\n",
       "[a*b2 + a2*b + c*d2 - c2*d],\n",
       "[a*c2 + a2*c - b*d2 + b2*d],\n",
       "[a*d2 + a2*d + b*c2 - b2*c]])"
      ]
     },
     "metadata": {},
     "output_type": "display_data"
    },
    {
     "name": "stdout",
     "output_type": "stream",
     "text": [
      "Matrice du quaternion unitaire\n"
     ]
    },
    {
     "data": {
      "text/latex": [
       "$\\displaystyle \\left[\\begin{matrix}1 & 0 & 0 & 0\\\\0 & 1 & 0 & 0\\\\0 & 0 & 1 & 0\\\\0 & 0 & 0 & 1\\end{matrix}\\right]$"
      ],
      "text/plain": [
       "Matrix([\n",
       "[1, 0, 0, 0],\n",
       "[0, 1, 0, 0],\n",
       "[0, 0, 1, 0],\n",
       "[0, 0, 0, 1]])"
      ]
     },
     "metadata": {},
     "output_type": "display_data"
    },
    {
     "data": {
      "text/latex": [
       "$\\displaystyle \\left[\\begin{matrix}a_{2}\\\\b_{2}\\\\c_{2}\\\\d_{2}\\end{matrix}\\right]$"
      ],
      "text/plain": [
       "Matrix([\n",
       "[a2],\n",
       "[b2],\n",
       "[c2],\n",
       "[d2]])"
      ]
     },
     "metadata": {},
     "output_type": "display_data"
    },
    {
     "name": "stdout",
     "output_type": "stream",
     "text": [
      "Matrice de i\n",
      "Matrice de i\n"
     ]
    },
    {
     "data": {
      "text/latex": [
       "$\\displaystyle \\left[\\begin{matrix}0 & -1 & 0 & 0\\\\1 & 0 & 0 & 0\\\\0 & 0 & 0 & -1\\\\0 & 0 & 1 & 0\\end{matrix}\\right]$"
      ],
      "text/plain": [
       "Matrix([\n",
       "[0, -1, 0,  0],\n",
       "[1,  0, 0,  0],\n",
       "[0,  0, 0, -1],\n",
       "[0,  0, 1,  0]])"
      ]
     },
     "metadata": {},
     "output_type": "display_data"
    },
    {
     "name": "stdout",
     "output_type": "stream",
     "text": [
      "Produit du quaternion i par q2\n"
     ]
    },
    {
     "data": {
      "text/latex": [
       "$\\displaystyle \\left[\\begin{matrix}- b_{2}\\\\a_{2}\\\\- d_{2}\\\\c_{2}\\end{matrix}\\right]$"
      ],
      "text/plain": [
       "Matrix([\n",
       "[-b2],\n",
       "[ a2],\n",
       "[-d2],\n",
       "[ c2]])"
      ]
     },
     "metadata": {},
     "output_type": "display_data"
    },
    {
     "data": {
      "text/latex": [
       "$\\displaystyle \\left[\\begin{matrix}a^{2} + b^{2} - c^{2} - d^{2} & 2 a d + 2 b c & - 2 a c + 2 b d\\\\- 2 a d + 2 b c & a^{2} - b^{2} + c^{2} - d^{2} & 2 a b + 2 c d\\\\2 a c + 2 b d & - 2 a b + 2 c d & a^{2} - b^{2} - c^{2} + d^{2}\\end{matrix}\\right]$"
      ],
      "text/plain": [
       "Matrix([\n",
       "[a**2 + b**2 - c**2 - d**2,             2*a*d + 2*b*c,            -2*a*c + 2*b*d],\n",
       "[           -2*a*d + 2*b*c, a**2 - b**2 + c**2 - d**2,             2*a*b + 2*c*d],\n",
       "[            2*a*c + 2*b*d,            -2*a*b + 2*c*d, a**2 - b**2 - c**2 + d**2]])"
      ]
     },
     "metadata": {},
     "output_type": "display_data"
    },
    {
     "data": {
      "text/plain": [
       "(i*x*sin(theta/2) + j*y*sin(theta/2) + cos(theta), k*z*sin(theta/2))"
      ]
     },
     "metadata": {},
     "output_type": "display_data"
    }
   ],
   "source": [
    "import sympy as sp\n",
    "a, b, c, d = sp.symbols(\"a, b, c, d\")\n",
    "a2, b2, c2, d2 = sp.symbols(\"a2, b2, c2, d2\")\n",
    "mat = sp.Matrix([[a, -b, -c, -d],\n",
    "               [b, a, -d, c],\n",
    "               [c, d, a, -b],\n",
    "               [d, -c, b, a]])\n",
    "q2 = sp.Matrix([a2, b2, c2, d2])\n",
    "M_1 = sp.eye(4)\n",
    "print(\"Représentaiton matricielle de q1\")\n",
    "display(mat)\n",
    "print(\"Représentation vectoriel de q2\")\n",
    "display(q2)\n",
    "print(\"Equivalent de la multiplication q1 q2\")\n",
    "display(mat * q2)\n",
    "print(\"Matrice du quaternion unitaire\")\n",
    "display(M_1)\n",
    "display(M_1 * q2)\n",
    "print(\"Matrice de i\")\n",
    "M_i = sp.Matrix([[0, -1, 0, 0],\n",
    "               [1, 0, 0, 0],\n",
    "               [0, 0, 0, -1],\n",
    "               [0, 0, 1, 0]])\n",
    "M_j = sp.Matrix([[0, 0, -1, 0],\n",
    "               [0, 0, 0, 1],\n",
    "               [1, 0, 0, 0],\n",
    "               [0, -1, 0, 0]])\n",
    "M_k = sp.Matrix([[0, 0, 0, -1],\n",
    "               [0, 0, -1, 0],\n",
    "               [0, 1, 0, 0],\n",
    "               [1, 0, 0, 0]])\n",
    "print(\"Matrice de i\")\n",
    "display(M_i)\n",
    "print(\"Produit du quaternion i par q2\")\n",
    "display(M_i * q2)\n",
    "mat_rot = sp.Matrix([[a**2+b**2 - c**2 - d**2, 2*(a*d+b*c), 2*(b*d-a*c)],\n",
    "                   [2*(b*c-a*d), a**2 -b**2 + c**2 - d**2, 2*(a*b+c*d)],\n",
    "                   [2*(a*c+b*d), 2*(c*d-a*b), a**2-b**2-c**2+d**2]])\n",
    "display(mat_rot)\n",
    "x, y, z, i, j, k, theta = sp.symbols(\"x, y, z, i, j, k, theta\")\n",
    "q= sp.cos(theta) + x*sp.sin(theta/2)*i + y*sp.sin(theta/2)*j, + z*sp.sin(theta/2)*k\n",
    "display(q)\n",
    " \n",
    "def q_conjugate(q):\n",
    "    w, x, y, z = q\n",
    "    return (w, -x, -y, -z)"
   ]
  },
  {
   "cell_type": "code",
   "execution_count": null,
   "metadata": {},
   "outputs": [],
   "source": [
    "def to_homogene(x, y, z, w=1):\n",
    "    \"\"\"Converti des coordonnées 3d en coordonnée homogène avec \n",
    "    paramètre w, par défaut 1\"\"\"\n",
    "    if w == 0:\n",
    "        return x, y, z, w\n",
    "    else:\n",
    "        return x/w, y/w, z/w, w\n",
    "\n",
    "def to_coord(x, y, z, w):\n",
    "    \"\"\"Converti des coordonée homogène en coordonnée 3D\"\"\"\n",
    "    if w != 0:\n",
    "        return x/w, y/w, z/w\n",
    "    else:\n",
    "        return x, y, z\n",
    "    \n",
    "def mat_translation_homog(tx, ty, tz):\n",
    "    \"\"\"P1 = M1to2 P2\n",
    "    ou M1to2 correspond au déplacement de 1 vers 2\"\"\"\n",
    "    return np.array([[1, 0, 0, tx],\n",
    "                    [0, 1, 0, ty],\n",
    "                    [0, 0, 1, tz],\n",
    "                    [0, 0, 0, 1]])\n",
    "\n",
    "\n",
    "def rot_u(ux, uy, uz, theta):\n",
    "    c = cos(theta)\n",
    "    s = sin(theta)\n",
    "    r1 = [ux**2+(1-ux**2)*c, ux*uy*(1-c)-uz*s, ux*uz*(1-c)+uy*s]\n",
    "    r2 = [ux*uy*(1-c)+uz*s, uy**2+(1-uy**2)*c, uy*uz*(1-c)*ux*s]\n",
    "    r3 = [ux*uz*(1-c)-uy*s, uy*uz*(1-c)+ux*s, uz**2+(1-uz**2)*c]\n",
    "    return np.array([r1, r2, r3])\n",
    "\n",
    "rot_x = lambda theta: rot_u(1, 0, 0, theta)\n",
    "rot_y = lambda theta: rot_u(0, 1, 0, theta)\n",
    "rot_z = lambda theta: rot_u(0, 0, 1, theta)\n",
    "\n",
    "def scale3d(kx, ky, kz):\n",
    "    return np.array([[kx, 0, 0],\n",
    "                     [0, ky, 0],\n",
    "                     [0, 0, kz]])\n",
    "def scaleH(kx, ky, kz):\n",
    "    return mat3d_to_matH(scale3d(kx, ky, kz))\n",
    "\n",
    "def mat3d_to_matH(mat3d):\n",
    "    \"\"\"Converti une matrice 3d en une matrice homogène\n",
    "    Ajoute une ligne et une colonne de 0 avec 1 dans le coin bas droit\n",
    "    array([[ a,  b,  c, 0.],\n",
    "           [ a,  b,  c, 0.],\n",
    "           [ a,  b,  c, 0.],\n",
    "           [0., 0., 0., 1.]])\n",
    "    \"\"\"\n",
    "    mat = np.concatenate((mat3d, np.zeros((3, 1))), axis=1)\n",
    "    return np.concatenate((mat, np.array([[0, 0, 0, 1]])))\n",
    "\n",
    "def TR(ux, uy, uz, theta, tx, ty, tz):\n",
    "    \"\"\"Tranformation rigide\n",
    "    \"\"\"\n",
    "    return mat_translation_homog(tx, ty, tz) @ rot_u(ux, uy, uz, theta)\n",
    "\n",
    "def translation_inverse(T):\n",
    "    return -T\n",
    "def rotation_inverse(R):\n",
    "    \"\"\"même axe, angle -theta\"\"\"\n",
    "    pass\n",
    "def scale_inverse(s):\n",
    "    \"\"\"1/kx, 1/ky, 1/kz\"\"\"\n",
    "    pass\n",
    "def matrice_orthonormale_inverse(m):\n",
    "    \"\"\"Si orthonormale, l'inverse est la transposée\"\"\"\n",
    "    return m.T"
   ]
  },
  {
   "cell_type": "markdown",
   "metadata": {},
   "source": [
    "Les matrices rotations et translation sont commutatives\n"
   ]
  }
 ],
 "metadata": {
  "kernelspec": {
   "display_name": "Python 3",
   "language": "python",
   "name": "python3"
  },
  "language_info": {
   "codemirror_mode": {
    "name": "ipython",
    "version": 3
   },
   "file_extension": ".py",
   "mimetype": "text/x-python",
   "name": "python",
   "nbconvert_exporter": "python",
   "pygments_lexer": "ipython3",
   "version": "3.7.4"
  }
 },
 "nbformat": 4,
 "nbformat_minor": 4
}
