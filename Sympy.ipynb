{
 "cells": [
  {
   "cell_type": "markdown",
   "metadata": {},
   "source": [
    "# Ressource\n",
    " - https://github.com/pydy/pydy-tutorial-human-standing\n",
    " - https://www.sympy.org/scipy-2017-codegen-tutorial/\n",
    " - https://www.youtube.com/watch?v=tsOzJ-Co938\n",
    " - https://www.youtube.com/channel/UCW2fXzW_yUXugrWC9PpA3eA/videos\n",
    " - https://github.com/AndrewChap/symdim\n"
   ]
  },
  {
   "cell_type": "markdown",
   "metadata": {},
   "source": [
    "# Derivatives"
   ]
  },
  {
   "cell_type": "code",
   "execution_count": 1,
   "metadata": {},
   "outputs": [
    {
     "data": {
      "text/latex": [
       "$\\displaystyle x \\sin{\\left(x^{2} \\right)} + 1$"
      ],
      "text/plain": [
       "x*sin(x**2) + 1"
      ]
     },
     "execution_count": 1,
     "metadata": {},
     "output_type": "execute_result"
    }
   ],
   "source": [
    "from sympy import diff, sin, exp \n",
    "from sympy.abc import x,y \n",
    "expr = x*sin(x*x)+1\n",
    "expr"
   ]
  },
  {
   "cell_type": "code",
   "execution_count": 2,
   "metadata": {},
   "outputs": [
    {
     "data": {
      "text/latex": [
       "$\\displaystyle 2 x^{2} \\cos{\\left(x^{2} \\right)} + \\sin{\\left(x^{2} \\right)}$"
      ],
      "text/plain": [
       "2*x**2*cos(x**2) + sin(x**2)"
      ]
     },
     "execution_count": 2,
     "metadata": {},
     "output_type": "execute_result"
    }
   ],
   "source": [
    "diff(expr,x)"
   ]
  },
  {
   "cell_type": "code",
   "execution_count": 3,
   "metadata": {},
   "outputs": [
    {
     "data": {
      "text/latex": [
       "$\\displaystyle 2 x e^{x^{2}}$"
      ],
      "text/plain": [
       "2*x*exp(x**2)"
      ]
     },
     "execution_count": 3,
     "metadata": {},
     "output_type": "execute_result"
    }
   ],
   "source": [
    "diff(exp(x**2),x)"
   ]
  },
  {
   "cell_type": "code",
   "execution_count": 4,
   "metadata": {},
   "outputs": [
    {
     "data": {
      "text/latex": [
       "$\\displaystyle 24 x$"
      ],
      "text/plain": [
       "24*x"
      ]
     },
     "execution_count": 4,
     "metadata": {},
     "output_type": "execute_result"
    }
   ],
   "source": [
    "diff(x**4,x,3)"
   ]
  },
  {
   "cell_type": "code",
   "execution_count": 5,
   "metadata": {},
   "outputs": [
    {
     "name": "stdout",
     "output_type": "stream",
     "text": [
      "4*x**3\n",
      "12*x**2\n",
      "24*x\n"
     ]
    }
   ],
   "source": [
    "for i in range(1,4): print (diff(x**4,x,i))"
   ]
  },
  {
   "cell_type": "code",
   "execution_count": 6,
   "metadata": {},
   "outputs": [
    {
     "data": {
      "text/latex": [
       "$\\displaystyle \\frac{d}{d x} \\left(x \\sin{\\left(x^{2} \\right)} + 1\\right)$"
      ],
      "text/plain": [
       "Derivative(x*sin(x**2) + 1, x)"
      ]
     },
     "execution_count": 6,
     "metadata": {},
     "output_type": "execute_result"
    }
   ],
   "source": [
    "from sympy import Derivative \n",
    "d=Derivative(expr) \n",
    "d"
   ]
  },
  {
   "cell_type": "code",
   "execution_count": 7,
   "metadata": {},
   "outputs": [
    {
     "data": {
      "text/latex": [
       "$\\displaystyle 2 x^{2} \\cos{\\left(x^{2} \\right)} + \\sin{\\left(x^{2} \\right)}$"
      ],
      "text/plain": [
       "2*x**2*cos(x**2) + sin(x**2)"
      ]
     },
     "execution_count": 7,
     "metadata": {},
     "output_type": "execute_result"
    }
   ],
   "source": [
    "d.doit()"
   ]
  },
  {
   "cell_type": "code",
   "execution_count": 8,
   "metadata": {},
   "outputs": [
    {
     "data": {
      "text/latex": [
       "$\\displaystyle \\frac{\\partial^{n}}{\\partial x^{n}} \\left(a x + b\\right)^{m}$"
      ],
      "text/plain": [
       "Derivative((a*x + b)**m, (x, n))"
      ]
     },
     "execution_count": 8,
     "metadata": {},
     "output_type": "execute_result"
    }
   ],
   "source": [
    "import sympy as sp\n",
    "m, n, a, b = sp.symbols('m n a b')\n",
    "\n",
    "expr = (a*x + b)**m\n",
    "\n",
    "expr.diff((x, n))"
   ]
  },
  {
   "cell_type": "code",
   "execution_count": 47,
   "metadata": {},
   "outputs": [],
   "source": [
    "hp, c, lmbda, T, kB = sp.symbols(\"h_p c lambda T k_B\")"
   ]
  },
  {
   "cell_type": "code",
   "execution_count": 48,
   "metadata": {},
   "outputs": [
    {
     "data": {
      "text/latex": [
       "$\\displaystyle T c h_{p} k_{B} \\lambda$"
      ],
      "text/plain": [
       "T*c*h_p*k_B*lambda"
      ]
     },
     "execution_count": 48,
     "metadata": {},
     "output_type": "execute_result"
    }
   ],
   "source": [
    "hp*c*lmbda*T*kB"
   ]
  },
  {
   "cell_type": "markdown",
   "metadata": {},
   "source": [
    "Luminance CN"
   ]
  },
  {
   "cell_type": "code",
   "execution_count": 44,
   "metadata": {},
   "outputs": [],
   "source": [
    "def sp_LCN(lmbda, T):\n",
    "    return 2*hp*c/lmbda**5 * 1/(sp.exp(hp*c/(lmbda*kB*T))-1)"
   ]
  },
  {
   "cell_type": "code",
   "execution_count": 49,
   "metadata": {},
   "outputs": [],
   "source": [
    "LCN = sp_LCN(sp.Symbol(\"lambda\"), sp.Symbol(\"T\"))"
   ]
  },
  {
   "cell_type": "code",
   "execution_count": 50,
   "metadata": {},
   "outputs": [
    {
     "data": {
      "text/latex": [
       "$\\displaystyle \\frac{2 c h_{p}}{\\lambda^{5} \\left(e^{\\frac{c h_{p}}{T k_{B} \\lambda}} - 1\\right)}$"
      ],
      "text/plain": [
       "2*c*h_p/(lambda**5*(exp(c*h_p/(T*k_B*lambda)) - 1))"
      ]
     },
     "execution_count": 50,
     "metadata": {},
     "output_type": "execute_result"
    }
   ],
   "source": [
    "LCN"
   ]
  },
  {
   "cell_type": "code",
   "execution_count": 14,
   "metadata": {},
   "outputs": [],
   "source": [
    "Eph = hp*c/lmbda"
   ]
  },
  {
   "cell_type": "code",
   "execution_count": 15,
   "metadata": {},
   "outputs": [
    {
     "data": {
      "text/latex": [
       "$\\displaystyle \\frac{c h_{p}}{\\lambda}$"
      ],
      "text/plain": [
       "c*h_p/lambda"
      ]
     },
     "execution_count": 15,
     "metadata": {},
     "output_type": "execute_result"
    }
   ],
   "source": [
    "Eph"
   ]
  },
  {
   "cell_type": "code",
   "execution_count": 39,
   "metadata": {},
   "outputs": [
    {
     "ename": "ExecutableNotFound",
     "evalue": "failed to execute ['dot', '-Kdot', '-Tpdf', '-O', 'output.gv'], make sure the Graphviz executables are on your systems' PATH",
     "output_type": "error",
     "traceback": [
      "\u001b[0;31m---------------------------------------------------------------------------\u001b[0m",
      "\u001b[0;31mFileNotFoundError\u001b[0m                         Traceback (most recent call last)",
      "\u001b[0;32m/opt/anaconda3/lib/python3.7/site-packages/graphviz/backend.py\u001b[0m in \u001b[0;36mrun\u001b[0;34m(cmd, input, capture_output, check, encoding, quiet, **kwargs)\u001b[0m\n\u001b[1;32m    163\u001b[0m     \u001b[0;32mtry\u001b[0m\u001b[0;34m:\u001b[0m\u001b[0;34m\u001b[0m\u001b[0;34m\u001b[0m\u001b[0m\n\u001b[0;32m--> 164\u001b[0;31m         \u001b[0mproc\u001b[0m \u001b[0;34m=\u001b[0m \u001b[0msubprocess\u001b[0m\u001b[0;34m.\u001b[0m\u001b[0mPopen\u001b[0m\u001b[0;34m(\u001b[0m\u001b[0mcmd\u001b[0m\u001b[0;34m,\u001b[0m \u001b[0mstartupinfo\u001b[0m\u001b[0;34m=\u001b[0m\u001b[0mget_startupinfo\u001b[0m\u001b[0;34m(\u001b[0m\u001b[0;34m)\u001b[0m\u001b[0;34m,\u001b[0m \u001b[0;34m**\u001b[0m\u001b[0mkwargs\u001b[0m\u001b[0;34m)\u001b[0m\u001b[0;34m\u001b[0m\u001b[0;34m\u001b[0m\u001b[0m\n\u001b[0m\u001b[1;32m    165\u001b[0m     \u001b[0;32mexcept\u001b[0m \u001b[0mOSError\u001b[0m \u001b[0;32mas\u001b[0m \u001b[0me\u001b[0m\u001b[0;34m:\u001b[0m\u001b[0;34m\u001b[0m\u001b[0;34m\u001b[0m\u001b[0m\n",
      "\u001b[0;32m/opt/anaconda3/lib/python3.7/subprocess.py\u001b[0m in \u001b[0;36m__init__\u001b[0;34m(self, args, bufsize, executable, stdin, stdout, stderr, preexec_fn, close_fds, shell, cwd, env, universal_newlines, startupinfo, creationflags, restore_signals, start_new_session, pass_fds, encoding, errors, text)\u001b[0m\n\u001b[1;32m    774\u001b[0m                                 \u001b[0merrread\u001b[0m\u001b[0;34m,\u001b[0m \u001b[0merrwrite\u001b[0m\u001b[0;34m,\u001b[0m\u001b[0;34m\u001b[0m\u001b[0;34m\u001b[0m\u001b[0m\n\u001b[0;32m--> 775\u001b[0;31m                                 restore_signals, start_new_session)\n\u001b[0m\u001b[1;32m    776\u001b[0m         \u001b[0;32mexcept\u001b[0m\u001b[0;34m:\u001b[0m\u001b[0;34m\u001b[0m\u001b[0;34m\u001b[0m\u001b[0m\n",
      "\u001b[0;32m/opt/anaconda3/lib/python3.7/subprocess.py\u001b[0m in \u001b[0;36m_execute_child\u001b[0;34m(self, args, executable, preexec_fn, close_fds, pass_fds, cwd, env, startupinfo, creationflags, shell, p2cread, p2cwrite, c2pread, c2pwrite, errread, errwrite, restore_signals, start_new_session)\u001b[0m\n\u001b[1;32m   1521\u001b[0m                             \u001b[0merr_msg\u001b[0m \u001b[0;34m+=\u001b[0m \u001b[0;34m': '\u001b[0m \u001b[0;34m+\u001b[0m \u001b[0mrepr\u001b[0m\u001b[0;34m(\u001b[0m\u001b[0merr_filename\u001b[0m\u001b[0;34m)\u001b[0m\u001b[0;34m\u001b[0m\u001b[0;34m\u001b[0m\u001b[0m\n\u001b[0;32m-> 1522\u001b[0;31m                     \u001b[0;32mraise\u001b[0m \u001b[0mchild_exception_type\u001b[0m\u001b[0;34m(\u001b[0m\u001b[0merrno_num\u001b[0m\u001b[0;34m,\u001b[0m \u001b[0merr_msg\u001b[0m\u001b[0;34m,\u001b[0m \u001b[0merr_filename\u001b[0m\u001b[0;34m)\u001b[0m\u001b[0;34m\u001b[0m\u001b[0;34m\u001b[0m\u001b[0m\n\u001b[0m\u001b[1;32m   1523\u001b[0m                 \u001b[0;32mraise\u001b[0m \u001b[0mchild_exception_type\u001b[0m\u001b[0;34m(\u001b[0m\u001b[0merr_msg\u001b[0m\u001b[0;34m)\u001b[0m\u001b[0;34m\u001b[0m\u001b[0;34m\u001b[0m\u001b[0m\n",
      "\u001b[0;31mFileNotFoundError\u001b[0m: [Errno 2] No such file or directory: 'dot': 'dot'",
      "\nDuring handling of the above exception, another exception occurred:\n",
      "\u001b[0;31mExecutableNotFound\u001b[0m                        Traceback (most recent call last)",
      "\u001b[0;32m<ipython-input-39-2fbcba3fa6ff>\u001b[0m in \u001b[0;36m<module>\u001b[0;34m\u001b[0m\n\u001b[1;32m      4\u001b[0m \u001b[0msrc\u001b[0m \u001b[0;34m=\u001b[0m \u001b[0mSource\u001b[0m\u001b[0;34m(\u001b[0m\u001b[0mdotprint\u001b[0m\u001b[0;34m(\u001b[0m\u001b[0mEph\u001b[0m\u001b[0;34m)\u001b[0m\u001b[0;34m)\u001b[0m\u001b[0;34m\u001b[0m\u001b[0;34m\u001b[0m\u001b[0m\n\u001b[1;32m      5\u001b[0m \u001b[0;34m\u001b[0m\u001b[0m\n\u001b[0;32m----> 6\u001b[0;31m \u001b[0msrc\u001b[0m\u001b[0;34m.\u001b[0m\u001b[0mrender\u001b[0m\u001b[0;34m(\u001b[0m\u001b[0;34m'output.gv'\u001b[0m\u001b[0;34m,\u001b[0m \u001b[0mview\u001b[0m\u001b[0;34m=\u001b[0m\u001b[0;32mTrue\u001b[0m\u001b[0;34m)\u001b[0m\u001b[0;34m\u001b[0m\u001b[0;34m\u001b[0m\u001b[0m\n\u001b[0m",
      "\u001b[0;32m/opt/anaconda3/lib/python3.7/site-packages/graphviz/files.py\u001b[0m in \u001b[0;36mrender\u001b[0;34m(self, filename, directory, view, cleanup, format, renderer, formatter, quiet, quiet_view)\u001b[0m\n\u001b[1;32m    243\u001b[0m         rendered = backend.render(self._engine, format, filepath,\n\u001b[1;32m    244\u001b[0m                                   \u001b[0mrenderer\u001b[0m\u001b[0;34m=\u001b[0m\u001b[0mrenderer\u001b[0m\u001b[0;34m,\u001b[0m \u001b[0mformatter\u001b[0m\u001b[0;34m=\u001b[0m\u001b[0mformatter\u001b[0m\u001b[0;34m,\u001b[0m\u001b[0;34m\u001b[0m\u001b[0;34m\u001b[0m\u001b[0m\n\u001b[0;32m--> 245\u001b[0;31m                                   quiet=quiet)\n\u001b[0m\u001b[1;32m    246\u001b[0m \u001b[0;34m\u001b[0m\u001b[0m\n\u001b[1;32m    247\u001b[0m         \u001b[0;32mif\u001b[0m \u001b[0mcleanup\u001b[0m\u001b[0;34m:\u001b[0m\u001b[0;34m\u001b[0m\u001b[0;34m\u001b[0m\u001b[0m\n",
      "\u001b[0;32m/opt/anaconda3/lib/python3.7/site-packages/graphviz/backend.py\u001b[0m in \u001b[0;36mrender\u001b[0;34m(***failed resolving arguments***)\u001b[0m\n\u001b[1;32m    221\u001b[0m         \u001b[0mcwd\u001b[0m \u001b[0;34m=\u001b[0m \u001b[0;32mNone\u001b[0m\u001b[0;34m\u001b[0m\u001b[0;34m\u001b[0m\u001b[0m\n\u001b[1;32m    222\u001b[0m \u001b[0;34m\u001b[0m\u001b[0m\n\u001b[0;32m--> 223\u001b[0;31m     \u001b[0mrun\u001b[0m\u001b[0;34m(\u001b[0m\u001b[0mcmd\u001b[0m\u001b[0;34m,\u001b[0m \u001b[0mcapture_output\u001b[0m\u001b[0;34m=\u001b[0m\u001b[0;32mTrue\u001b[0m\u001b[0;34m,\u001b[0m \u001b[0mcwd\u001b[0m\u001b[0;34m=\u001b[0m\u001b[0mcwd\u001b[0m\u001b[0;34m,\u001b[0m \u001b[0mcheck\u001b[0m\u001b[0;34m=\u001b[0m\u001b[0;32mTrue\u001b[0m\u001b[0;34m,\u001b[0m \u001b[0mquiet\u001b[0m\u001b[0;34m=\u001b[0m\u001b[0mquiet\u001b[0m\u001b[0;34m)\u001b[0m\u001b[0;34m\u001b[0m\u001b[0;34m\u001b[0m\u001b[0m\n\u001b[0m\u001b[1;32m    224\u001b[0m     \u001b[0;32mreturn\u001b[0m \u001b[0mrendered\u001b[0m\u001b[0;34m\u001b[0m\u001b[0;34m\u001b[0m\u001b[0m\n\u001b[1;32m    225\u001b[0m \u001b[0;34m\u001b[0m\u001b[0m\n",
      "\u001b[0;32m/opt/anaconda3/lib/python3.7/site-packages/graphviz/backend.py\u001b[0m in \u001b[0;36mrun\u001b[0;34m(cmd, input, capture_output, check, encoding, quiet, **kwargs)\u001b[0m\n\u001b[1;32m    165\u001b[0m     \u001b[0;32mexcept\u001b[0m \u001b[0mOSError\u001b[0m \u001b[0;32mas\u001b[0m \u001b[0me\u001b[0m\u001b[0;34m:\u001b[0m\u001b[0;34m\u001b[0m\u001b[0;34m\u001b[0m\u001b[0m\n\u001b[1;32m    166\u001b[0m         \u001b[0;32mif\u001b[0m \u001b[0me\u001b[0m\u001b[0;34m.\u001b[0m\u001b[0merrno\u001b[0m \u001b[0;34m==\u001b[0m \u001b[0merrno\u001b[0m\u001b[0;34m.\u001b[0m\u001b[0mENOENT\u001b[0m\u001b[0;34m:\u001b[0m\u001b[0;34m\u001b[0m\u001b[0;34m\u001b[0m\u001b[0m\n\u001b[0;32m--> 167\u001b[0;31m             \u001b[0;32mraise\u001b[0m \u001b[0mExecutableNotFound\u001b[0m\u001b[0;34m(\u001b[0m\u001b[0mcmd\u001b[0m\u001b[0;34m)\u001b[0m\u001b[0;34m\u001b[0m\u001b[0;34m\u001b[0m\u001b[0m\n\u001b[0m\u001b[1;32m    168\u001b[0m         \u001b[0;32melse\u001b[0m\u001b[0;34m:\u001b[0m\u001b[0;34m\u001b[0m\u001b[0;34m\u001b[0m\u001b[0m\n\u001b[1;32m    169\u001b[0m             \u001b[0;32mraise\u001b[0m\u001b[0;34m\u001b[0m\u001b[0;34m\u001b[0m\u001b[0m\n",
      "\u001b[0;31mExecutableNotFound\u001b[0m: failed to execute ['dot', '-Kdot', '-Tpdf', '-O', 'output.gv'], make sure the Graphviz executables are on your systems' PATH"
     ]
    }
   ],
   "source": [
    "from sympy import symbols, cos, dotprint\n",
    "from graphviz import Source\n",
    "\n",
    "src = Source(dotprint(Eph))\n",
    "\n",
    "src.render('output.gv', view=True)\n"
   ]
  },
  {
   "cell_type": "code",
   "execution_count": 29,
   "metadata": {},
   "outputs": [],
   "source": [
    "import graphviz"
   ]
  },
  {
   "cell_type": "code",
   "execution_count": 31,
   "metadata": {},
   "outputs": [],
   "source": [
    "\n",
    "dot = graphviz.Digraph()"
   ]
  },
  {
   "cell_type": "code",
   "execution_count": 35,
   "metadata": {},
   "outputs": [
    {
     "data": {
      "text/plain": [
       "\u001b[0;31mSignature:\u001b[0m \u001b[0mdot\u001b[0m\u001b[0;34m.\u001b[0m\u001b[0mattr\u001b[0m\u001b[0;34m(\u001b[0m\u001b[0mkw\u001b[0m\u001b[0;34m=\u001b[0m\u001b[0;32mNone\u001b[0m\u001b[0;34m,\u001b[0m \u001b[0m_attributes\u001b[0m\u001b[0;34m=\u001b[0m\u001b[0;32mNone\u001b[0m\u001b[0;34m,\u001b[0m \u001b[0;34m**\u001b[0m\u001b[0mattrs\u001b[0m\u001b[0;34m)\u001b[0m\u001b[0;34m\u001b[0m\u001b[0;34m\u001b[0m\u001b[0m\n",
       "\u001b[0;31mDocstring:\u001b[0m\n",
       "Add a general or graph/node/edge attribute statement.\n",
       "\n",
       "Args:\n",
       "    kw: Attributes target (``None`` or ``'graph'``, ``'node'``, ``'edge'``).\n",
       "    attrs: Attributes to be set (must be strings, may be empty).\n",
       "\n",
       "See the :ref:`usage examples in the User Guide <attributes>`.\n",
       "\u001b[0;31mFile:\u001b[0m      /opt/anaconda3/lib/python3.7/site-packages/graphviz/dot.py\n",
       "\u001b[0;31mType:\u001b[0m      method\n"
      ]
     },
     "metadata": {},
     "output_type": "display_data"
    }
   ],
   "source": [
    "dot.attr?"
   ]
  },
  {
   "cell_type": "code",
   "execution_count": 25,
   "metadata": {},
   "outputs": [],
   "source": [
    "from sympy.printing.dot import dotprint"
   ]
  },
  {
   "cell_type": "code",
   "execution_count": 26,
   "metadata": {},
   "outputs": [
    {
     "data": {
      "text/plain": [
       "'digraph{\\n\\n# Graph style\\n\"ordering\"=\"out\"\\n\"rankdir\"=\"TD\"\\n\\n#########\\n# Nodes #\\n#########\\n\\n\"Mul(Symbol(\\'c\\'), Symbol(\\'h_p\\'), Pow(Symbol(\\'lambda\\'), Integer(-1)))_()\" [\"color\"=\"black\", \"label\"=\"Mul\", \"shape\"=\"ellipse\"];\\n\"Symbol(\\'c\\')_(0,)\" [\"color\"=\"black\", \"label\"=\"c\", \"shape\"=\"ellipse\"];\\n\"Symbol(\\'h_p\\')_(1,)\" [\"color\"=\"black\", \"label\"=\"h_p\", \"shape\"=\"ellipse\"];\\n\"Pow(Symbol(\\'lambda\\'), Integer(-1))_(2,)\" [\"color\"=\"black\", \"label\"=\"Pow\", \"shape\"=\"ellipse\"];\\n\"Symbol(\\'lambda\\')_(2, 0)\" [\"color\"=\"black\", \"label\"=\"lambda\", \"shape\"=\"ellipse\"];\\n\"Integer(-1)_(2, 1)\" [\"color\"=\"black\", \"label\"=\"-1\", \"shape\"=\"ellipse\"];\\n\\n#########\\n# Edges #\\n#########\\n\\n\"Mul(Symbol(\\'c\\'), Symbol(\\'h_p\\'), Pow(Symbol(\\'lambda\\'), Integer(-1)))_()\" -> \"Symbol(\\'c\\')_(0,)\";\\n\"Mul(Symbol(\\'c\\'), Symbol(\\'h_p\\'), Pow(Symbol(\\'lambda\\'), Integer(-1)))_()\" -> \"Symbol(\\'h_p\\')_(1,)\";\\n\"Mul(Symbol(\\'c\\'), Symbol(\\'h_p\\'), Pow(Symbol(\\'lambda\\'), Integer(-1)))_()\" -> \"Pow(Symbol(\\'lambda\\'), Integer(-1))_(2,)\";\\n\"Pow(Symbol(\\'lambda\\'), Integer(-1))_(2,)\" -> \"Symbol(\\'lambda\\')_(2, 0)\";\\n\"Pow(Symbol(\\'lambda\\'), Integer(-1))_(2,)\" -> \"Integer(-1)_(2, 1)\";\\n}'"
      ]
     },
     "execution_count": 26,
     "metadata": {},
     "output_type": "execute_result"
    }
   ],
   "source": [
    "dotprint(Eph)"
   ]
  },
  {
   "cell_type": "code",
   "execution_count": 24,
   "metadata": {},
   "outputs": [
    {
     "data": {
      "text/plain": [
       "\"Mul(Symbol('c'), Symbol('h_p'), Pow(Symbol('lambda'), Integer(-1)))\""
      ]
     },
     "execution_count": 24,
     "metadata": {},
     "output_type": "execute_result"
    }
   ],
   "source": [
    "sp.srepr(Eph)"
   ]
  },
  {
   "cell_type": "code",
   "execution_count": null,
   "metadata": {},
   "outputs": [],
   "source": []
  },
  {
   "cell_type": "code",
   "execution_count": 16,
   "metadata": {},
   "outputs": [],
   "source": [
    "LCN_en = LCN\n",
    "LCN_ph = LCN/Eph"
   ]
  },
  {
   "cell_type": "code",
   "execution_count": 17,
   "metadata": {},
   "outputs": [],
   "source": [
    "dLCN_en_dT = sp.diff(LCN_en, T)\n",
    "dLCN_ph_dT = sp.diff(LCN_ph, T)"
   ]
  },
  {
   "cell_type": "code",
   "execution_count": 18,
   "metadata": {},
   "outputs": [
    {
     "data": {
      "text/latex": [
       "$\\displaystyle \\frac{2 c h_{p} e^{\\frac{c h_{p}}{T k_{B} \\lambda}}}{T^{2} k_{B} \\lambda^{5} \\left(e^{\\frac{c h_{p}}{T k_{B} \\lambda}} - 1\\right)^{2}}$"
      ],
      "text/plain": [
       "2*c*h_p*exp(c*h_p/(T*k_B*lambda))/(T**2*k_B*lambda**5*(exp(c*h_p/(T*k_B*lambda)) - 1)**2)"
      ]
     },
     "execution_count": 18,
     "metadata": {},
     "output_type": "execute_result"
    }
   ],
   "source": [
    "dLCN_ph_dT"
   ]
  },
  {
   "cell_type": "code",
   "execution_count": 19,
   "metadata": {},
   "outputs": [],
   "source": [
    "from scipy.constants import constants"
   ]
  },
  {
   "cell_type": "code",
   "execution_count": 20,
   "metadata": {},
   "outputs": [],
   "source": [
    "hp_v = constants.h\n",
    "c_v = constants.c\n",
    "kB_v = constants.k"
   ]
  },
  {
   "cell_type": "code",
   "execution_count": 21,
   "metadata": {},
   "outputs": [
    {
     "data": {
      "text/plain": [
       "6.62607015e-34"
      ]
     },
     "execution_count": 21,
     "metadata": {},
     "output_type": "execute_result"
    }
   ],
   "source": [
    "hp_v"
   ]
  },
  {
   "cell_type": "code",
   "execution_count": 22,
   "metadata": {},
   "outputs": [
    {
     "data": {
      "text/latex": [
       "$\\displaystyle \\frac{0.0287755375500787 e^{\\frac{0.0143877687750393}{T \\lambda}}}{T^{2} \\lambda^{5} \\left(e^{\\frac{0.0143877687750393}{T \\lambda}} - 1\\right)^{2}}$"
      ],
      "text/plain": [
       "0.0287755375500787*exp(0.0143877687750393/(T*lambda))/(T**2*lambda**5*(exp(0.0143877687750393/(T*lambda)) - 1)**2)"
      ]
     },
     "execution_count": 22,
     "metadata": {},
     "output_type": "execute_result"
    }
   ],
   "source": [
    "dLCN_ph_dT_v = dLCN_ph_dT.subs([(hp, hp_v), (c, c_v), (kB, kB_v)])\n",
    "dLCN_ph_dT_v"
   ]
  },
  {
   "cell_type": "code",
   "execution_count": 23,
   "metadata": {},
   "outputs": [
    {
     "ename": "ImportError",
     "evalue": "cannot import name 'k' from 'sympy.physics.units' (/opt/anaconda3/lib/python3.7/site-packages/sympy/physics/units/__init__.py)",
     "output_type": "error",
     "traceback": [
      "\u001b[0;31m---------------------------------------------------------------------------\u001b[0m",
      "\u001b[0;31mImportError\u001b[0m                               Traceback (most recent call last)",
      "\u001b[0;32m<ipython-input-23-ce7ed67187a9>\u001b[0m in \u001b[0;36m<module>\u001b[0;34m\u001b[0m\n\u001b[0;32m----> 1\u001b[0;31m \u001b[0;32mfrom\u001b[0m \u001b[0msympy\u001b[0m\u001b[0;34m.\u001b[0m\u001b[0mphysics\u001b[0m\u001b[0;34m.\u001b[0m\u001b[0munits\u001b[0m \u001b[0;32mimport\u001b[0m \u001b[0mspeed_of_light\u001b[0m\u001b[0;34m,\u001b[0m \u001b[0mmeter\u001b[0m\u001b[0;34m,\u001b[0m \u001b[0msecond\u001b[0m\u001b[0;34m,\u001b[0m \u001b[0mh\u001b[0m\u001b[0;34m,\u001b[0m \u001b[0mk\u001b[0m\u001b[0;34m\u001b[0m\u001b[0;34m\u001b[0m\u001b[0m\n\u001b[0m\u001b[1;32m      2\u001b[0m \u001b[0mdLCN_ph_dT_vsp\u001b[0m \u001b[0;34m=\u001b[0m \u001b[0mdLCN_ph_dT\u001b[0m\u001b[0;34m.\u001b[0m\u001b[0msubs\u001b[0m\u001b[0;34m(\u001b[0m\u001b[0;34m[\u001b[0m\u001b[0;34m(\u001b[0m\u001b[0mhp\u001b[0m\u001b[0;34m,\u001b[0m \u001b[0mh\u001b[0m\u001b[0;34m)\u001b[0m\u001b[0;34m,\u001b[0m \u001b[0;34m(\u001b[0m\u001b[0mc\u001b[0m\u001b[0;34m,\u001b[0m \u001b[0mspeed_of_light\u001b[0m\u001b[0;34m)\u001b[0m\u001b[0;34m,\u001b[0m \u001b[0;34m(\u001b[0m\u001b[0mkB\u001b[0m\u001b[0;34m,\u001b[0m \u001b[0mk\u001b[0m\u001b[0;34m)\u001b[0m\u001b[0;34m]\u001b[0m\u001b[0;34m)\u001b[0m\u001b[0;34m\u001b[0m\u001b[0;34m\u001b[0m\u001b[0m\n",
      "\u001b[0;31mImportError\u001b[0m: cannot import name 'k' from 'sympy.physics.units' (/opt/anaconda3/lib/python3.7/site-packages/sympy/physics/units/__init__.py)"
     ]
    }
   ],
   "source": [
    "from sympy.physics.units import speed_of_light, meter, second, h, k\n",
    "dLCN_ph_dT_vsp = dLCN_ph_dT.subs([(hp, h), (c, speed_of_light), (kB, k)])\n"
   ]
  },
  {
   "cell_type": "markdown",
   "metadata": {},
   "source": [
    "# Integrals"
   ]
  },
  {
   "cell_type": "code",
   "execution_count": 64,
   "metadata": {},
   "outputs": [
    {
     "data": {
      "text/latex": [
       "$\\displaystyle \\sin{\\left(x \\right)}$"
      ],
      "text/plain": [
       "sin(x)"
      ]
     },
     "metadata": {},
     "output_type": "display_data"
    },
    {
     "data": {
      "text/latex": [
       "$\\displaystyle 1$"
      ],
      "text/plain": [
       "1"
      ]
     },
     "metadata": {},
     "output_type": "display_data"
    },
    {
     "data": {
      "text/latex": [
       "$\\displaystyle \\pi$"
      ],
      "text/plain": [
       "pi"
      ]
     },
     "metadata": {},
     "output_type": "display_data"
    },
    {
     "data": {
      "text/latex": [
       "$\\displaystyle \\int x^{x}\\, dx$"
      ],
      "text/plain": [
       "Integral(x**x, x)"
      ]
     },
     "metadata": {},
     "output_type": "display_data"
    },
    {
     "data": {
      "text/latex": [
       "$\\displaystyle \\int \\log{\\left(x \\right)}^{2}\\, dx$"
      ],
      "text/plain": [
       "Integral(log(x)**2, x)"
      ]
     },
     "metadata": {},
     "output_type": "display_data"
    },
    {
     "data": {
      "text/latex": [
       "$\\displaystyle x \\log{\\left(x \\right)}^{2} - 2 x \\log{\\left(x \\right)} + 2 x$"
      ],
      "text/plain": [
       "x*log(x)**2 - 2*x*log(x) + 2*x"
      ]
     },
     "execution_count": 64,
     "metadata": {},
     "output_type": "execute_result"
    }
   ],
   "source": [
    "import sympy as sp\n",
    " \n",
    "a, b, c = sp.symbols(\"a b c\")\n",
    "x, y = sp.symbols(\"x y\")\n",
    " \n",
    "display(sp.integrate(sp.cos(x), x))\n",
    "display(sp.integrate(sp.exp(-x), (x, 0, sp.oo)))\n",
    "display(sp.integrate(sp.exp(-x**2 - y**2), (x, -sp.oo, sp.oo), (y, -sp.oo, sp.oo)))\n",
    "\n",
    "expr = sp.integrate(x**x, x)\n",
    "expr\n",
    "display(expr)\n",
    " \n",
    "expr = sp.Integral(sp.log(x)**2, x)\n",
    "expr\n",
    "display(expr)\n",
    " \n",
    "expr.doit()"
   ]
  },
  {
   "cell_type": "code",
   "execution_count": 62,
   "metadata": {},
   "outputs": [
    {
     "data": {
      "text/plain": [
       "[]"
      ]
     },
     "execution_count": 62,
     "metadata": {},
     "output_type": "execute_result"
    }
   ],
   "source": [
    " \n",
    "from sympy.abc import x,y,z\n",
    "x,y,z=sp.symbols(\"x,y,z\")\n",
    "x=sp.Symbol('x')\n",
    "a0, a1, a2, a3, a4 = sp.symbols('a:5')\n",
    "a0\n",
    "a0 = 1\n",
    "a0\n",
    "# substitution :\n",
    "#note : expression are immutable, new expression is returned by subs\n",
    "# multiple substitution\n",
    "expr.subs([(x, 2), (y, 4), (z, 0)])\n",
    "# substitue value\n",
    "expr.subs(x, 0)\n",
    "# subsitute expression\n",
    "expr.subs(x, y)\n",
    "\n",
    "expr.evalf(subs={x: 2.4})\n",
    "\n",
    "# simpify : convert string to expression\n",
    "evluate=False\n",
    "# lambdify : convert expr to numpy function\n",
    "f = sp.lambdify(x, expr, \"numpy\")\n",
    "f = sp.lambdify([a,b],expr)\n",
    "\n",
    "LCN = 2*a*b**2/c**5 * 1/(sp.exp(a*b/10)-1)\n",
    "LCN\n",
    "\n",
    "LCN.as_ordered_factors()\n",
    "\n",
    "LCN.as_ordered_terms()\n",
    "\n",
    "LCN.as_terms()\n",
    "\n",
    "sp.solve(LCN, a)"
   ]
  },
  {
   "cell_type": "markdown",
   "metadata": {},
   "source": [
    "# Solving equations"
   ]
  },
  {
   "cell_type": "code",
   "execution_count": 60,
   "metadata": {},
   "outputs": [
    {
     "data": {
      "text/latex": [
       "$\\displaystyle \\left\\{-2, 2\\right\\}$"
      ],
      "text/plain": [
       "FiniteSet(-2, 2)"
      ]
     },
     "metadata": {},
     "output_type": "display_data"
    },
    {
     "data": {
      "text/latex": [
       "$\\displaystyle \\left\\{- 2 i, 2 i\\right\\}$"
      ],
      "text/plain": [
       "FiniteSet(-2*I, 2*I)"
      ]
     },
     "metadata": {},
     "output_type": "display_data"
    },
    {
     "data": {
      "text/latex": [
       "$\\displaystyle \\emptyset$"
      ],
      "text/plain": [
       "EmptySet"
      ]
     },
     "metadata": {},
     "output_type": "display_data"
    },
    {
     "data": {
      "text/latex": [
       "$\\displaystyle \\left\\{2 n \\pi\\; |\\; n \\in \\mathbb{Z}\\right\\} \\cup \\left\\{2 n \\pi + \\pi\\; |\\; n \\in \\mathbb{Z}\\right\\}$"
      ],
      "text/plain": [
       "Union(ImageSet(Lambda(_n, 2*_n*pi + pi), Integers), ImageSet(Lambda(_n, 2*_n*pi), Integers))"
      ]
     },
     "metadata": {},
     "output_type": "display_data"
    },
    {
     "data": {
      "text/latex": [
       "$\\displaystyle \\left\\{x \\mid x \\in \\mathbb{R} \\wedge e^{x} + \\cos{\\left(x \\right)} + 1 = 0 \\right\\}$"
      ],
      "text/plain": [
       "ConditionSet(x, Eq(exp(x) + cos(x) + 1, 0), Reals)"
      ]
     },
     "metadata": {},
     "output_type": "display_data"
    },
    {
     "data": {
      "text/latex": [
       "$\\displaystyle \\left\\{\\frac{z}{x}\\right\\}$"
      ],
      "text/plain": [
       "FiniteSet(z/x)"
      ]
     },
     "metadata": {},
     "output_type": "display_data"
    },
    {
     "data": {
      "text/latex": [
       "$\\displaystyle \\left\\{\\frac{\\sqrt[3]{6} \\sqrt[3]{V}}{2 \\sqrt[3]{\\pi}}\\right\\}$"
      ],
      "text/plain": [
       "FiniteSet(6**(1/3)*V**(1/3)/(2*pi**(1/3)))"
      ]
     },
     "metadata": {},
     "output_type": "display_data"
    },
    {
     "data": {
      "text/latex": [
       "$\\displaystyle \\frac{64 \\pi^{3} r^{6}}{9}$"
      ],
      "text/plain": [
       "64*pi**3*r**6/9"
      ]
     },
     "metadata": {},
     "output_type": "display_data"
    },
    {
     "data": {
      "text/latex": [
       "$\\displaystyle 6^{\\frac{2}{3}} \\sqrt[3]{\\pi} V^{\\frac{2}{3}}$"
      ],
      "text/plain": [
       "6**(2/3)*pi**(1/3)*V**(2/3)"
      ]
     },
     "metadata": {},
     "output_type": "display_data"
    },
    {
     "data": {
      "text/latex": [
       "$\\displaystyle \\left\\{- \\frac{b}{2 a} - \\frac{\\sqrt{- 4 a c + b^{2}}}{2 a}, - \\frac{b}{2 a} + \\frac{\\sqrt{- 4 a c + b^{2}}}{2 a}\\right\\}$"
      ],
      "text/plain": [
       "FiniteSet(-b/(2*a) - sqrt(-4*a*c + b**2)/(2*a), -b/(2*a) + sqrt(-4*a*c + b**2)/(2*a))"
      ]
     },
     "metadata": {},
     "output_type": "display_data"
    },
    {
     "data": {
      "text/latex": [
       "$\\displaystyle x^{2} = a$"
      ],
      "text/plain": [
       "Eq(x**2, a)"
      ]
     },
     "metadata": {},
     "output_type": "display_data"
    },
    {
     "data": {
      "text/latex": [
       "$\\displaystyle x^{2}$"
      ],
      "text/plain": [
       "x**2"
      ]
     },
     "metadata": {},
     "output_type": "display_data"
    },
    {
     "data": {
      "text/latex": [
       "$\\displaystyle a$"
      ],
      "text/plain": [
       "a"
      ]
     },
     "metadata": {},
     "output_type": "display_data"
    },
    {
     "data": {
      "text/latex": [
       "$\\displaystyle \\left\\{- \\sqrt{a}, \\sqrt{a}\\right\\}$"
      ],
      "text/plain": [
       "FiniteSet(sqrt(a), -sqrt(a))"
      ]
     },
     "metadata": {},
     "output_type": "display_data"
    },
    {
     "data": {
      "text/latex": [
       "$\\displaystyle \\frac{- \\frac{2 a^{3}}{3} + \\frac{2 b^{3}}{3}}{- a + b}$"
      ],
      "text/plain": [
       "(-2*a**3/3 + 2*b**3/3)/(-a + b)"
      ]
     },
     "metadata": {},
     "output_type": "display_data"
    },
    {
     "data": {
      "text/latex": [
       "$\\displaystyle \\frac{2}{3}$"
      ],
      "text/plain": [
       "2/3"
      ]
     },
     "metadata": {},
     "output_type": "display_data"
    }
   ],
   "source": [
    "import sympy\n",
    "from sympy import solveset\n",
    "x, y, z = sympy.symbols(\"x, y, z\")\n",
    "\n",
    "# get solution as set\n",
    "display(solveset(x**2 -4, x))\n",
    "display(solveset(x**2 +4, x))\n",
    "display(solveset(x**2+4, x, domain=sp.S.Reals)) # solve of real domain with singleton Reals\n",
    "display(solveset(sp.sin(x), x))\n",
    "# no solution found returns a condition set\n",
    "display(solveset(sp.exp(x) + sp.cos(x) + 1, x, domain=sp.S.Reals))\n",
    "# solve for symbol expression\n",
    "display(solveset(x*y-z, y))\n",
    "# solve for radius based on volume of sphere\n",
    "r, V = symbols(\"r, V\", positive=True)\n",
    "display(solveset(V - sp.S(4)/3*sp.pi*r**3, r, domain=sp.S.Reals)) # use sp.S(4) to prevent numerical simplification\n",
    "display((4*sp.pi*r**2).subs({r:sp.S(4)/3*sp.pi*r**3}))\n",
    "V_r = list(solveset(V - sp.S(4)/3*sp.pi*r**3, r, domain=sp.S.Reals))[0]\n",
    "display(((4*sp.pi*r**2).subs({r:V_r}))) # get the surface in terms of Volume\n",
    "a, b, c, x = sp.symbols(\"a, b, c, x\")\n",
    "display(sp.solveset(a*x**2+b*x+c, x))\n",
    "eq = sp.Eq(x**2, a)\n",
    "display(eq)\n",
    "display(eq.lhs)\n",
    "display(eq.rhs)\n",
    "display(solveset(eq, x))\n",
    "x, y, z, n = symbols(\"x, y, z, n\")\n",
    "sp.integrate(x**n, (x, y, z))\n",
    "# average value over a-b\n",
    "x, a, b = symbols(\"x, a, b\")\n",
    "exp = 2*x**2\n",
    "display(sp.integrate(exp, (x, a, b))/(b-a))\n",
    "display((sp.integrate(exp, (x, a, b))/(b-a)).subs({a:0, b:1}))"
   ]
  },
  {
   "cell_type": "markdown",
   "metadata": {},
   "source": [
    "# Plotting"
   ]
  },
  {
   "cell_type": "code",
   "execution_count": 61,
   "metadata": {},
   "outputs": [
    {
     "name": "stdout",
     "output_type": "stream",
     "text": [
      "6**(2/3)*pi**(1/3)*V**(2/3)\n"
     ]
    },
    {
     "data": {
      "image/png": "[encoded data removed]",
      "text/plain": [
       "<Figure size 432x288 with 1 Axes>"
      ]
     },
     "metadata": {
      "needs_background": "light"
     },
     "output_type": "display_data"
    },
    {
     "data": {
      "image/png": "[encoded data removed]",
      "text/plain": [
       "<Figure size 432x288 with 1 Axes>"
      ]
     },
     "metadata": {
      "needs_background": "light"
     },
     "output_type": "display_data"
    },
    {
     "data": {
      "text/plain": [
       "<sympy.plotting.plot.Plot at 0x127d615d0>"
      ]
     },
     "execution_count": 61,
     "metadata": {},
     "output_type": "execute_result"
    }
   ],
   "source": [
    "# plotting\n",
    "surface_by_v = (4*sp.pi*r**2).subs({r:V_r})\n",
    "print(surface_by_v)\n",
    "sp.plot(surface_by_v)\n",
    "sp.plot((6**(sp.S(2)/3)*sp.pi**(sp.S(1)/3)*V**(sp.S(2)/3)))"
   ]
  },
  {
   "cell_type": "markdown",
   "metadata": {},
   "source": [
    "# Solve"
   ]
  },
  {
   "cell_type": "code",
   "execution_count": null,
   "metadata": {},
   "outputs": [],
   "source": [
    "# solving linear equation\n",
    "from sympy import symbols, Eq, Matrix, solve_linear_system\n",
    "\n",
    "x, y = symbols(\"x y\")\n",
    "eq1 = Eq( 2 * x +-1 * y, -4)\n",
    "eq2 = Eq( 3 * x +-1 * y, -2)\n",
    "\n",
    "display(eq1)\n",
    "display(eq2)\n",
    "\n",
    "eq1_row = [2, -1, -4]\n",
    "eq2_row = [3, -1, -2]\n",
    "sys = Matrix([eq1_row, eq2_row])\n",
    "display(sys)\n",
    "display(solve_linear_system(sys, x, y))\n",
    " \n",
    "t, c = sp.symbols(\"t c\")\n",
    "u = sp.Function('u')\n",
    " \n",
    "display(Eq(sp.diff(u(x, t), t, 2),\n",
    "  c**2 * sp.diff(u(x,t), x, 2)))\n",
    " \n",
    "row_1 = [1, 2, x]\n",
    "row_2 = [4, 5, 2*y]\n",
    "# 2D matrix with list of rows\n",
    "display(Matrix([row_1, row_2]))\n",
    "# col-vector with list\n",
    "display(Matrix(row_1))\n",
    " "
   ]
  },
  {
   "cell_type": "markdown",
   "metadata": {},
   "source": [
    "# Matrices"
   ]
  },
  {
   "cell_type": "code",
   "execution_count": 55,
   "metadata": {},
   "outputs": [
    {
     "data": {
      "text/latex": [
       "$\\displaystyle \\left[\\begin{matrix}r \\cos{\\left(\\theta \\right)} & - r \\sin{\\left(\\theta \\right)}\\\\r \\sin{\\left(\\theta \\right)} & r \\cos{\\left(\\theta \\right)}\\end{matrix}\\right]$"
      ],
      "text/plain": [
       "Matrix([\n",
       "[r*cos(theta), -r*sin(theta)],\n",
       "[r*sin(theta),  r*cos(theta)]])"
      ]
     },
     "metadata": {},
     "output_type": "display_data"
    },
    {
     "data": {
      "text/latex": [
       "$\\displaystyle r^{2} \\sin^{2}{\\left(\\theta \\right)} + r^{2} \\cos^{2}{\\left(\\theta \\right)}$"
      ],
      "text/plain": [
       "r**2*sin(theta)**2 + r**2*cos(theta)**2"
      ]
     },
     "metadata": {},
     "output_type": "display_data"
    },
    {
     "data": {
      "text/latex": [
       "$\\displaystyle \\left[\\begin{matrix}\\frac{\\cos{\\left(\\theta \\right)}}{r \\sin^{2}{\\left(\\theta \\right)} + r \\cos^{2}{\\left(\\theta \\right)}} & \\frac{\\sin{\\left(\\theta \\right)}}{r \\sin^{2}{\\left(\\theta \\right)} + r \\cos^{2}{\\left(\\theta \\right)}}\\\\- \\frac{\\sin{\\left(\\theta \\right)}}{r \\sin^{2}{\\left(\\theta \\right)} + r \\cos^{2}{\\left(\\theta \\right)}} & \\frac{\\cos{\\left(\\theta \\right)}}{r \\sin^{2}{\\left(\\theta \\right)} + r \\cos^{2}{\\left(\\theta \\right)}}\\end{matrix}\\right]$"
      ],
      "text/plain": [
       "Matrix([\n",
       "[ cos(theta)/(r*sin(theta)**2 + r*cos(theta)**2), sin(theta)/(r*sin(theta)**2 + r*cos(theta)**2)],\n",
       "[-sin(theta)/(r*sin(theta)**2 + r*cos(theta)**2), cos(theta)/(r*sin(theta)**2 + r*cos(theta)**2)]])"
      ]
     },
     "metadata": {},
     "output_type": "display_data"
    },
    {
     "data": {
      "text/plain": [
       "[sqrt(r*sqrt(cos(theta - conjugate(theta))**2 - 1)*conjugate(r) + r*cos(theta - conjugate(theta))*conjugate(r)),\n",
       " sqrt(-r*sqrt(cos(theta - conjugate(theta))**2 - 1)*conjugate(r) + r*cos(theta - conjugate(theta))*conjugate(r))]"
      ]
     },
     "metadata": {},
     "output_type": "display_data"
    },
    {
     "data": {
      "text/latex": [
       "$\\displaystyle \\left[\\begin{matrix}2 r \\cos{\\left(\\theta \\right)} & - 2 r \\sin{\\left(\\theta \\right)}\\\\2 r \\sin{\\left(\\theta \\right)} & 2 r \\cos{\\left(\\theta \\right)}\\end{matrix}\\right]$"
      ],
      "text/plain": [
       "Matrix([\n",
       "[2*r*cos(theta), -2*r*sin(theta)],\n",
       "[2*r*sin(theta),  2*r*cos(theta)]])"
      ]
     },
     "metadata": {},
     "output_type": "display_data"
    },
    {
     "data": {
      "text/latex": [
       "$\\displaystyle \\left[\\begin{matrix}- r^{2} \\sin^{2}{\\left(\\theta \\right)} + r^{2} \\cos^{2}{\\left(\\theta \\right)} & - 2 r^{2} \\sin{\\left(\\theta \\right)} \\cos{\\left(\\theta \\right)}\\\\2 r^{2} \\sin{\\left(\\theta \\right)} \\cos{\\left(\\theta \\right)} & - r^{2} \\sin^{2}{\\left(\\theta \\right)} + r^{2} \\cos^{2}{\\left(\\theta \\right)}\\end{matrix}\\right]$"
      ],
      "text/plain": [
       "Matrix([\n",
       "[-r**2*sin(theta)**2 + r**2*cos(theta)**2,            -2*r**2*sin(theta)*cos(theta)],\n",
       "[            2*r**2*sin(theta)*cos(theta), -r**2*sin(theta)**2 + r**2*cos(theta)**2]])"
      ]
     },
     "metadata": {},
     "output_type": "display_data"
    },
    {
     "data": {
      "text/latex": [
       "$\\displaystyle \\left[\\begin{matrix}\\frac{r \\sin^{2}{\\left(\\theta \\right)}}{r \\sin^{2}{\\left(\\theta \\right)} + r \\cos^{2}{\\left(\\theta \\right)}} + \\frac{r \\cos^{2}{\\left(\\theta \\right)}}{r \\sin^{2}{\\left(\\theta \\right)} + r \\cos^{2}{\\left(\\theta \\right)}} & 0\\\\0 & \\frac{r \\sin^{2}{\\left(\\theta \\right)}}{r \\sin^{2}{\\left(\\theta \\right)} + r \\cos^{2}{\\left(\\theta \\right)}} + \\frac{r \\cos^{2}{\\left(\\theta \\right)}}{r \\sin^{2}{\\left(\\theta \\right)} + r \\cos^{2}{\\left(\\theta \\right)}}\\end{matrix}\\right]$"
      ],
      "text/plain": [
       "Matrix([\n",
       "[r*sin(theta)**2/(r*sin(theta)**2 + r*cos(theta)**2) + r*cos(theta)**2/(r*sin(theta)**2 + r*cos(theta)**2),                                                                                                         0],\n",
       "[                                                                                                        0, r*sin(theta)**2/(r*sin(theta)**2 + r*cos(theta)**2) + r*cos(theta)**2/(r*sin(theta)**2 + r*cos(theta)**2)]])"
      ]
     },
     "metadata": {},
     "output_type": "display_data"
    },
    {
     "data": {
      "text/latex": [
       "$\\displaystyle \\left[\\begin{matrix}1 & 0\\\\0 & 1\\end{matrix}\\right]$"
      ],
      "text/plain": [
       "Matrix([\n",
       "[1, 0],\n",
       "[0, 1]])"
      ]
     },
     "metadata": {},
     "output_type": "display_data"
    },
    {
     "data": {
      "text/plain": [
       "[(r*(-sqrt((cos(theta) - 1)*(cos(theta) + 1)) + cos(theta)),\n",
       "  1,\n",
       "  [Matrix([\n",
       "   [sin(theta)/sqrt(cos(theta)**2 - 1)],\n",
       "   [                                 1]])]),\n",
       " (r*(sqrt((cos(theta) - 1)*(cos(theta) + 1)) + cos(theta)),\n",
       "  1,\n",
       "  [Matrix([\n",
       "   [-sin(theta)/sqrt(cos(theta)**2 - 1)],\n",
       "   [                                  1]])])]"
      ]
     },
     "metadata": {},
     "output_type": "display_data"
    },
    {
     "data": {
      "text/plain": [
       "{r*(-sqrt((cos(theta) - 1)*(cos(theta) + 1)) + cos(theta)): 1,\n",
       " r*(sqrt((cos(theta) - 1)*(cos(theta) + 1)) + cos(theta)): 1}"
      ]
     },
     "metadata": {},
     "output_type": "display_data"
    },
    {
     "data": {
      "text/latex": [
       "$\\displaystyle \\left[\\begin{matrix}r \\sin{\\left(\\theta \\right)} & r \\cos{\\left(\\theta \\right)}\\end{matrix}\\right]$"
      ],
      "text/plain": [
       "Matrix([[r*sin(theta), r*cos(theta)]])"
      ]
     },
     "metadata": {},
     "output_type": "display_data"
    }
   ],
   "source": [
    "r, theta = symbols(\"r, theta\")\n",
    "rot = sp.Matrix([[r*sp.cos(theta), -r*sp.sin(theta)],\n",
    "               [r*sp.sin(theta), r*sp.cos(theta)],\n",
    "                ])\n",
    "# matrix\n",
    "display(rot)\n",
    "# determinant\n",
    "display(rot.det())\n",
    "# inverse\n",
    "display(rot.inv())\n",
    "# singular value\n",
    "display(rot.singular_values())\n",
    "# multiply matrix by scalar\n",
    "display(2*rot)\n",
    "# matrix multiplication\n",
    "display(rot**2)\n",
    "display(rot.inv()*rot)\n",
    "display(sp.simplify(rot.inv()*rot))\n",
    "# eigen vectors\n",
    "display(rot.eigenvects())\n",
    "# eigen values\n",
    "display(rot.eigenvals())\n",
    "# indexing matrix\n",
    "display(rot[1, :])"
   ]
  },
  {
   "cell_type": "markdown",
   "metadata": {},
   "source": [
    "# Matrix symbol"
   ]
  },
  {
   "cell_type": "code",
   "execution_count": 51,
   "metadata": {},
   "outputs": [
    {
     "data": {
      "text/latex": [
       "$\\displaystyle M b$"
      ],
      "text/plain": [
       "M*b"
      ]
     },
     "metadata": {},
     "output_type": "display_data"
    },
    {
     "data": {
      "text/latex": [
       "$\\displaystyle \\left(M b\\right)^{T}$"
      ],
      "text/plain": [
       "(M*b).T"
      ]
     },
     "metadata": {},
     "output_type": "display_data"
    },
    {
     "data": {
      "text/latex": [
       "$\\displaystyle b^{T} M^{T}$"
      ],
      "text/plain": [
       "b.T*M.T"
      ]
     },
     "metadata": {},
     "output_type": "display_data"
    }
   ],
   "source": [
    "n, m = symbols(\"n m\", integer=True)\n",
    "M = sp.MatrixSymbol(\"M\", n, m)\n",
    "b = sp.MatrixSymbol(\"b\", m, 1)\n",
    "display(M*b)\n",
    "display(sp.Transpose(M*b))\n",
    "display(sp.Transpose(M*b).doit())"
   ]
  },
  {
   "cell_type": "markdown",
   "metadata": {},
   "source": [
    "# Interactive sympy"
   ]
  },
  {
   "cell_type": "code",
   "execution_count": 65,
   "metadata": {},
   "outputs": [
    {
     "data": {
      "image/png": "[encoded data removed]",
      "text/latex": [
       "$\\displaystyle K t - K \\tau + K \\tau e^{- \\frac{t}{\\tau}}$"
      ],
      "text/plain": [
       "                 -t \n",
       "                 ───\n",
       "                  τ \n",
       "K⋅t - K⋅τ + K⋅τ⋅ℯ   "
      ]
     },
     "execution_count": 65,
     "metadata": {},
     "output_type": "execute_result"
    }
   ],
   "source": [
    "import sympy\n",
    "import matplotlib.pyplot as plt\n",
    "import numpy\n",
    "sympy.init_printing()\n",
    "%matplotlib inline\n",
    "t, K, tau = sympy.symbols('t, K, tau',real=True, positive=True)\n",
    "s = sympy.Symbol('s')\n",
    "u = sympy.Heaviside(t)\n",
    "def L(f):\n",
    "    return sympy.laplace_transform(f, t, s, noconds=True)\n",
    "def invL(F):\n",
    "    return sympy.inverse_laplace_transform(F, s, t)\n",
    "U = L(u)\n",
    "U\n",
    " \n",
    "G = K/(tau*s + 1)\n",
    "G\n",
    "impulseresponse = invL(G)\n",
    "impulseresponse\n",
    "u = 1/s\n",
    "stepresponse = invL(G*u)\n",
    "u = 1/s**2\n",
    "rampresponse = invL(G*u)\n",
    "rampresponse"
   ]
  },
  {
   "cell_type": "code",
   "execution_count": 66,
   "metadata": {},
   "outputs": [],
   "source": [
    " \n",
    "from ipywidgets import interact\n",
    "evalfimpulse = sympy.lambdify((K, tau, t), impulseresponse, 'numpy')\n",
    "evalfstep = sympy.lambdify((K, tau, t), stepresponse, 'numpy')\n",
    "evalframp = sympy.lambdify((K, tau, t), rampresponse, 'numpy')\n",
    " "
   ]
  },
  {
   "cell_type": "code",
   "execution_count": 67,
   "metadata": {},
   "outputs": [
    {
     "data": {
      "image/png": "[encoded data removed]",
      "text/plain": [
       "<Figure size 864x432 with 3 Axes>"
      ]
     },
     "metadata": {
      "needs_background": "light"
     },
     "output_type": "display_data"
    }
   ],
   "source": [
    "ts = numpy.linspace(0, 10)\n",
    " \n",
    "def firstorder(tau_in, K_in):\n",
    "    plt.figure(figsize=(12, 6))\n",
    "    ax_impulse = plt.subplot2grid((2, 2), (0, 0))\n",
    "    ax_step = plt.subplot2grid((2, 2), (1, 0))\n",
    "    ax_complex = plt.subplot2grid((2, 2), (0, 1), rowspan=2)\n",
    " \n",
    "    ax_impulse.plot(ts, evalfimpulse(K_in, tau_in, ts))\n",
    "    ax_impulse.set_title('Impulse response')\n",
    "    ax_impulse.set_ylim(0, 10)\n",
    " \n",
    "    tau_height = 1 - numpy.exp(-1)\n",
    "    ax_step.set_title('Step response')\n",
    "    ax_step.plot(ts, evalfstep(K_in, tau_in, ts))\n",
    "    ax_step.axhline(K_in)\n",
    "    ax_step.plot([0, tau_in, tau_in], [K_in*tau_height]*2 + [0], alpha=0.4)\n",
    "    ax_step.text(0, K_in, '$K=${}'.format(K_in))\n",
    "    ax_step.text(0, K_in*tau_height, '{:.3}$K$'.format(tau_height))\n",
    "    ax_step.text(tau_in, 0, r'$\\tau={:.3}$'.format(tau_in))\n",
    "    ax_step.set_ylim(0, 10)\n",
    " \n",
    "    ax_complex.set_title('Poles plot')\n",
    "    ax_complex.scatter(-1/tau_in, 0, marker='x', s=30)\n",
    "    ax_complex.axhline(0, color='black')\n",
    "    ax_complex.axvline(0, color='black')\n",
    "    ax_complex.axis([-10, 10, -10, 10])\n",
    "\n",
    "firstorder(1., 10.)"
   ]
  },
  {
   "cell_type": "code",
   "execution_count": 68,
   "metadata": {},
   "outputs": [
    {
     "data": {
      "application/vnd.jupyter.widget-view+json": {
       "model_id": "2ab5493e46ac4d71a63c1fcbdb150e7b",
       "version_major": 2,
       "version_minor": 0
      },
      "text/plain": [
       "interactive(children=(FloatSlider(value=5.05, description='tau_in', max=10.0, min=0.1), FloatSlider(value=5.05…"
      ]
     },
     "metadata": {},
     "output_type": "display_data"
    }
   ],
   "source": [
    " \n",
    "interact(firstorder, tau_in=(0.1, 10.), K_in=(0.1, 10.));\n",
    " "
   ]
  },
  {
   "cell_type": "code",
   "execution_count": null,
   "metadata": {},
   "outputs": [],
   "source": []
  }
 ],
 "metadata": {
  "kernelspec": {
   "display_name": "Python 3",
   "language": "python",
   "name": "python3"
  },
  "language_info": {
   "codemirror_mode": {
    "name": "ipython",
    "version": 3
   },
   "file_extension": ".py",
   "mimetype": "text/x-python",
   "name": "python",
   "nbconvert_exporter": "python",
   "pygments_lexer": "ipython3",
   "version": "3.7.4"
  }
 },
 "nbformat": 4,
 "nbformat_minor": 4
}
