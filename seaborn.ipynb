{
 "cells": [
  {
   "cell_type": "markdown",
   "metadata": {},
   "source": [
    " \n",
    " - https://www.kaggle.com/themlphdstudent/cheat-sheet-seaborn-charts\n",
    " - https://seaborn.pydata.org/introduction.html\n",
    " - https://seaborn.pydata.org/tutorial.html\n",
    " - https://jakevdp.github.io/PythonDataScienceHandbook/04.14-visualization-with-seaborn.html\n",
    " - https://medium.com/@neuralnets/statistical-data-visualization-series-with-python-and-seaborn-for-data-science-5a73b128851d\n",
    " - https://medium.com/@ppeng08/interactive-visualization-for-exploratory-data-analysis-in-jupyter-notebook-adc826e1e76a\n",
    " - https://gist.github.com/noklam/ddd503085c5aa0c27ddb0eceb4a2f07b\n",
    " - https://s3.amazonaws.com/assets.datacamp.com/blog_assets/Python_Seaborn_Cheat_Sheet.pdf\n",
    " - https://python.quantecon.org/index_toc.html\n",
    " - http://seaborn.pydata.org/tutorial/axis_grids.html\n",
    " - http://seaborn.pydata.org/tutorial/axis_grids.html#conditional-small-multiples\n",
    " - https://www.youtube.com/watch?v=KvZ2KSxlWBY \n",
    " - https://github.com/micgonzalez/Data-Visualization-of-Pokemon-Data-with-Python-and-Seaborn_side_project\n",
    " - https://github.com/pseudoPixels/iSeaborn\n",
    " - https://github.com/chmduquesne/quickviz\n",
    " - https://www.tutorialspoint.com/seaborn/index.htm\n"
   ]
  },
  {
   "cell_type": "code",
   "execution_count": null,
   "metadata": {},
   "outputs": [],
   "source": []
  },
  {
   "cell_type": "code",
   "execution_count": null,
   "metadata": {},
   "outputs": [],
   "source": []
  },
  {
   "cell_type": "markdown",
   "metadata": {},
   "source": [
    "# Plot list"
   ]
  },
  {
   "cell_type": "markdown",
   "metadata": {},
   "source": [
    "Figure level plots : create their own figure, accept `col` to create facet, `kind`, return a `FacetGrid` instance : \n",
    "- `displot` : defaults to scatterplot with `FacetGrid\n",
    "- `relplot` : defaults to histplot with `FacetGrid\n",
    "- `catplot` : defaults to stripplot with `FacetGrid\n",
    "- `jointplot` : return a JointGrid\n",
    "- `pairplot` : return a PairGrid\n",
    "- `lmplot` : combine `regplot` and `FacetGrid`\n",
    "\n",
    "Axes-level plots : act like drop-in replacements for matplotlib function, call matplotlib.pyplot.gca() internally, additionally accept an ax= argument\n",
    "\n",
    "Objects : \n",
    " - `FacetGrid`\n",
    " - `PairGrid`\n",
    " \n",
    "Axes-level plots : \n",
    "High level categorical plot : `catplot()`\n",
    " - scatter\n",
    "\n",
    "Categorical scatter \n",
    " - `stripplot` : `catplot(kind=\"strip\")`\n",
    " - `swarmplot` : `catplot(kind=\"swarm\")`\n",
    " \n",
    "Categorical distribution plots:\n",
    " - `boxplot()` : `kind=\"box`\n",
    " - `violinplot()` : `kind=\"violin\"`\n",
    " - `boxenplot()` :  `kind=\"boxen\"`\n",
    " \n",
    "Categorical estimate plots:\n",
    " - `pointplot()` : `kind=\"point\"`\n",
    " - `barplot()` : `kind=\"bar\"`\n",
    " - `countplot()` : `kind=\"count\"`"
   ]
  },
  {
   "cell_type": "code",
   "execution_count": 1,
   "metadata": {},
   "outputs": [],
   "source": [
    "%matplotlib ipympl\n",
    "import seaborn as sns\n",
    "import pandas as pd\n",
    "import ipywidgets\n",
    "import matplotlib.pyplot as plt"
   ]
  },
  {
   "cell_type": "code",
   "execution_count": null,
   "metadata": {},
   "outputs": [],
   "source": []
  },
  {
   "cell_type": "markdown",
   "metadata": {},
   "source": [
    "# Common datasets"
   ]
  },
  {
   "cell_type": "code",
   "execution_count": 2,
   "metadata": {},
   "outputs": [
    {
     "name": "stdout",
     "output_type": "stream",
     "text": [
      "['anagrams', 'anscombe', 'attention', 'brain_networks', 'car_crashes', 'diamonds', 'dots', 'exercise', 'flights', 'fmri', 'gammas', 'geyser', 'iris', 'mpg', 'penguins', 'planets', 'tips', 'titanic']\n"
     ]
    }
   ],
   "source": [
    "print(sns.get_dataset_names())"
   ]
  },
  {
   "cell_type": "code",
   "execution_count": 3,
   "metadata": {},
   "outputs": [
    {
     "name": "stdout",
     "output_type": "stream",
     "text": [
      "   sepal_length  sepal_width  petal_length  petal_width species\n",
      "0           5.1          3.5           1.4          0.2  setosa\n",
      "1           4.9          3.0           1.4          0.2  setosa\n",
      "2           4.7          3.2           1.3          0.2  setosa\n",
      "3           4.6          3.1           1.5          0.2  setosa\n",
      "4           5.0          3.6           1.4          0.2  setosa\n"
     ]
    }
   ],
   "source": [
    "iris_df = sns.load_dataset(\"iris\")\n",
    "print(iris_df.head())"
   ]
  },
  {
   "cell_type": "code",
   "execution_count": 4,
   "metadata": {},
   "outputs": [
    {
     "name": "stdout",
     "output_type": "stream",
     "text": [
      "   survived  pclass     sex   age  sibsp  parch     fare embarked  class  \\\n",
      "0         0       3    male  22.0      1      0   7.2500        S  Third   \n",
      "1         1       1  female  38.0      1      0  71.2833        C  First   \n",
      "2         1       3  female  26.0      0      0   7.9250        S  Third   \n",
      "3         1       1  female  35.0      1      0  53.1000        S  First   \n",
      "4         0       3    male  35.0      0      0   8.0500        S  Third   \n",
      "\n",
      "     who  adult_male deck  embark_town alive  alone  \n",
      "0    man        True  NaN  Southampton    no  False  \n",
      "1  woman       False    C    Cherbourg   yes  False  \n",
      "2  woman       False  NaN  Southampton   yes   True  \n",
      "3  woman       False    C  Southampton   yes  False  \n",
      "4    man        True  NaN  Southampton    no   True  \n"
     ]
    }
   ],
   "source": [
    "titanic_df = sns.load_dataset(\"titanic\")\n",
    "print(titanic_df.head())"
   ]
  },
  {
   "cell_type": "code",
   "execution_count": 5,
   "metadata": {},
   "outputs": [
    {
     "name": "stdout",
     "output_type": "stream",
     "text": [
      "   total_bill   tip     sex smoker  day    time  size\n",
      "0       16.99  1.01  Female     No  Sun  Dinner     2\n",
      "1       10.34  1.66    Male     No  Sun  Dinner     3\n",
      "2       21.01  3.50    Male     No  Sun  Dinner     3\n",
      "3       23.68  3.31    Male     No  Sun  Dinner     2\n",
      "4       24.59  3.61  Female     No  Sun  Dinner     4\n"
     ]
    }
   ],
   "source": [
    "tips_df = sns.load_dataset(\"tips\")\n",
    "print(tips_df.head())"
   ]
  },
  {
   "cell_type": "markdown",
   "metadata": {},
   "source": [
    "# Style and theme\n",
    "\n",
    "To activate default theme of seaborn : sns.set_theme()\n",
    "\n",
    "To activate style : \n",
    "```python\n",
    "sns.set_style(\"darkgrid\")\n",
    "sns.set_style(\"whitegrid\")\n",
    "sns.set_style(\"dark\")\n",
    "sns.set_style(\"white\")\n",
    "sns.set_style(\"ticks\")\n",
    "```\n",
    "\n",
    "To set context : \n",
    "```python\n",
    "sns.set_context(\"paper\")\n",
    "sns.set_context(\"notebook\")\n",
    "sns.set_context(\"talk\")\n",
    "sns.set_context(\"poster\")\n",
    "```"
   ]
  },
  {
   "cell_type": "code",
   "execution_count": 6,
   "metadata": {},
   "outputs": [],
   "source": [
    "sns.set_theme()\n",
    "sns.set_style(\"darkgrid\")"
   ]
  },
  {
   "cell_type": "markdown",
   "metadata": {},
   "source": [
    "To remove top and right axes spines : sns.despine()\n",
    "```python\n",
    "sns.despine(offset=10, trim=True);\n",
    "sns.despine(left=True)\n",
    "```"
   ]
  },
  {
   "cell_type": "markdown",
   "metadata": {},
   "source": [
    "Style can be used in context : \n",
    "```python\n",
    "with sns.axes_style(\"whitegrid\"):\n",
    "    ax = f.add_subplot(gs[1, 1])\n",
    "    sinplot()\n",
    "```"
   ]
  },
  {
   "cell_type": "markdown",
   "metadata": {},
   "source": [
    "Palettes :\n",
    "\n",
    " - pastel\n",
    " - magma\n",
    " - ch:.25\n",
    " - ch:0.95\n",
    " - Set2"
   ]
  },
  {
   "cell_type": "code",
   "execution_count": 7,
   "metadata": {},
   "outputs": [
    {
     "data": {
      "application/vnd.jupyter.widget-view+json": {
       "model_id": "3b67f9965c6c485cbc67bc08183fd819",
       "version_major": 2,
       "version_minor": 0
      },
      "text/plain": [
       "Canvas(toolbar=Toolbar(toolitems=[('Home', 'Reset original view', 'home', 'home'), ('Back', 'Back to previous …"
      ]
     },
     "metadata": {},
     "output_type": "display_data"
    }
   ],
   "source": [
    "sns.set_style('ticks', {'axes.grid': True, 'xtick.direction': 'in'})\n",
    "sns.despine(left = True, bottom= False)"
   ]
  },
  {
   "cell_type": "code",
   "execution_count": 8,
   "metadata": {},
   "outputs": [],
   "source": [
    "sns.set(rc={'figure.figsize':(12,10)})"
   ]
  },
  {
   "cell_type": "markdown",
   "metadata": {},
   "source": [
    "# Plots"
   ]
  },
  {
   "cell_type": "markdown",
   "metadata": {},
   "source": [
    "## sns.barplot"
   ]
  },
  {
   "cell_type": "code",
   "execution_count": 9,
   "metadata": {},
   "outputs": [
    {
     "data": {
      "application/vnd.jupyter.widget-view+json": {
       "model_id": "a3ebed05b8ca4803b9b1cf40449e9b66",
       "version_major": 2,
       "version_minor": 0
      },
      "text/plain": [
       "Canvas(toolbar=Toolbar(toolitems=[('Home', 'Reset original view', 'home', 'home'), ('Back', 'Back to previous …"
      ]
     },
     "metadata": {},
     "output_type": "display_data"
    },
    {
     "data": {
      "text/plain": [
       "<AxesSubplot:xlabel='species', ylabel='sepal_length'>"
      ]
     },
     "execution_count": 9,
     "metadata": {},
     "output_type": "execute_result"
    }
   ],
   "source": [
    "fig, ax = plt.subplots()\n",
    "sns.barplot(data=iris_df, \n",
    "            x='species', \n",
    "            y='sepal_length', \n",
    "            hue=\"species\",\n",
    "            estimator=np.mean, # callable that maps vector -> scalar, optional : Statistical function to estimate within each categorical bin.\n",
    "            ci=95,             # float or “sd” or None,\n",
    "            orient=\"v\"         # “v” | “h”,\n",
    "            color=\"#1CB3B1\", # main color, exclusive with palette color matplotlib color, optional\n",
    "            palette='magma',\n",
    "            saturation=0.75, \n",
    "            # errcolor= # matplotlib color\n",
    "            # errwidth= # float\n",
    "            # capsize= # float\n",
    "            dodge=True,\n",
    "           )\n"
   ]
  },
  {
   "cell_type": "markdown",
   "metadata": {},
   "source": [
    "## sns.catplot(kind=\"strip\")"
   ]
  },
  {
   "cell_type": "code",
   "execution_count": null,
   "metadata": {},
   "outputs": [],
   "source": [
    "sns.catplot(kind=\"strip\", data=iris_df,\n",
    "            x=\"species\",\n",
    "            y=\"petal_width\",\n",
    "            hue=\"species\",\n",
    "            jitter=True,\n",
    "            split=False)"
   ]
  },
  {
   "cell_type": "markdown",
   "metadata": {},
   "source": [
    "## sns.catplot(kind=\"swarm\")"
   ]
  },
  {
   "cell_type": "code",
   "execution_count": null,
   "metadata": {},
   "outputs": [],
   "source": [
    "sns.catplot(kind=\"swarm\", data=iris_df,\n",
    "            x=\"species\", \n",
    "            y=\"petal_width\",\n",
    "            hue=\"species\")\n"
   ]
  },
  {
   "cell_type": "markdown",
   "metadata": {},
   "source": [
    "## sns.catplot(kind=\"box\")"
   ]
  },
  {
   "cell_type": "code",
   "execution_count": null,
   "metadata": {},
   "outputs": [],
   "source": [
    "sns.catplot(kind=\"box\", data=iris_df,\n",
    "            x=\"species\",\n",
    "            y=\"petal_width\", \n",
    "            hue=\"species\",\n",
    "            color = '#EE67CF' # main color\n",
    "           )"
   ]
  },
  {
   "cell_type": "markdown",
   "metadata": {},
   "source": [
    "## sns.catplot(kind=\"violin\")"
   ]
  },
  {
   "cell_type": "code",
   "execution_count": null,
   "metadata": {},
   "outputs": [],
   "source": [
    "sns.catplot(kind=\"violin\", data=iris_df,\n",
    "            x=\"species\", \n",
    "            y=\"petal_width\",\n",
    "            hue=\"species\",\n",
    "            inner=\"stick\",\n",
    "            split=False,\n",
    "            palette=\"pastel\")\n"
   ]
  },
  {
   "cell_type": "markdown",
   "metadata": {},
   "source": [
    "## sns.catplot(kind=\"boxen\")"
   ]
  },
  {
   "cell_type": "code",
   "execution_count": null,
   "metadata": {},
   "outputs": [],
   "source": [
    "sns.catplot(kind=\"boxen\", data=iris_df,\n",
    "            x=\"species\",\n",
    "            y=\"sepal_width\")"
   ]
  },
  {
   "cell_type": "markdown",
   "metadata": {},
   "source": [
    "## sns.catplot(kind=\"bar\")"
   ]
  },
  {
   "cell_type": "code",
   "execution_count": null,
   "metadata": {},
   "outputs": [],
   "source": [
    "sns.catplot(kind=\"bar\", data=iris_df,\n",
    "            x=\"species\", \n",
    "            y=\"petal_width\",\n",
    "            hue=\"species\")\n"
   ]
  },
  {
   "cell_type": "markdown",
   "metadata": {},
   "source": [
    "## sns.catplot(kind=\"count\")"
   ]
  },
  {
   "cell_type": "code",
   "execution_count": null,
   "metadata": {},
   "outputs": [],
   "source": [
    "sns.catplot(kind=\"count\", data=iris_df, \n",
    "                x=\"sepal_length\",\n",
    "               )"
   ]
  },
  {
   "cell_type": "markdown",
   "metadata": {},
   "source": [
    "## sns.catplot(kind=\"point\")"
   ]
  },
  {
   "cell_type": "code",
   "execution_count": null,
   "metadata": {},
   "outputs": [],
   "source": [
    "sns.catplot(kind=\"point\", data=iris_df, \n",
    "            x=\"petal_width\", \n",
    "            y=\"sepal_width\",\n",
    "            hue=\"species\")"
   ]
  },
  {
   "cell_type": "markdown",
   "metadata": {},
   "source": [
    "## sns.displot"
   ]
  },
  {
   "cell_type": "code",
   "execution_count": null,
   "metadata": {},
   "outputs": [],
   "source": [
    "sns.displot(iris_df, \n",
    "            x=\"petal_length\",\n",
    "            hue=\"species\",\n",
    "            #col=\"sex\",                   # add additional plots col-wise\n",
    "            #stat=\"density\",              # normalize hist area\n",
    "            stat=\"probability\",           # normalise hist values\n",
    "            common_norm=False,            # normalise each sub-hist independantly\n",
    "            #bins=20,                     # set bin number\n",
    "            #bins=[1, 2, 3, 4, 5, 6, 7]), # set bins\n",
    "            binwidth=0.5,                 # set bin size\n",
    "            #discrete=True,               # if data values are discrete\n",
    "            #shrink=.8,                   # shrink bins width-display\n",
    "            #element=\"step\",              #\n",
    "            #multiple=\"stack\",            # dodge\n",
    "            rug=True,                     # add rug\n",
    "            #color=\"blue\",              # main color\n",
    "           )\n",
    "\n",
    "#sns.distplot(data_df['sepal_width'])"
   ]
  },
  {
   "cell_type": "code",
   "execution_count": null,
   "metadata": {},
   "outputs": [],
   "source": [
    "sns.displot(iris_df, \n",
    "            x=\"petal_length\", y=\"petal_width\")\n",
    "\n",
    "sns.displot(iris_df, hue=\"species\",\n",
    "            x=\"petal_length\", y=\"petal_width\",\n",
    "           binwidth=(2, .5),\n",
    "           cbar=True,\n",
    "           )\n"
   ]
  },
  {
   "cell_type": "markdown",
   "metadata": {},
   "source": [
    "## sns.displot(kind=\"kde\")"
   ]
  },
  {
   "cell_type": "code",
   "execution_count": null,
   "metadata": {},
   "outputs": [],
   "source": [
    "sns.displot(iris_df, kind=\"kde\",\n",
    "            hue=\"species\",\n",
    "            #multiple=\"stack\", \n",
    "            fill=True, \n",
    "            bw_adjust=.5,      # adjust bandwidth\n",
    "            #cut=0,            # clip kde plot curve\n",
    "            x=\"petal_length\",\n",
    "            y=\"petal_width\",\n",
    "            #thresh=.2, \n",
    "            #levels=0.2,        # levels=[.01, .05, .1, .8]\n",
    "            rug=True,\n",
    "           )"
   ]
  },
  {
   "cell_type": "code",
   "execution_count": null,
   "metadata": {},
   "outputs": [],
   "source": [
    "sns.displot(iris_df, kind=\"kde\",\n",
    "            x=\"petal_length\",\n",
    "            y=\"petal_width\")"
   ]
  },
  {
   "cell_type": "code",
   "execution_count": null,
   "metadata": {},
   "outputs": [],
   "source": [
    "sns.displot(iris_df, kind=\"kde\", \n",
    "            x=\"sepal_length\",\n",
    "            y=\"petal_length\", \n",
    "            hue=\"species\")"
   ]
  },
  {
   "cell_type": "markdown",
   "metadata": {},
   "source": [
    "## sns.displot(kind=\"ecdf\")"
   ]
  },
  {
   "cell_type": "code",
   "execution_count": null,
   "metadata": {},
   "outputs": [],
   "source": [
    "sns.displot(iris_df, kind=\"ecdf\", \n",
    "            x=\"petal_length\", \n",
    "           hue=\"species\",\n",
    "           rug=True)\n"
   ]
  },
  {
   "cell_type": "markdown",
   "metadata": {},
   "source": [
    "## sns.heatmap"
   ]
  },
  {
   "cell_type": "code",
   "execution_count": null,
   "metadata": {},
   "outputs": [],
   "source": [
    "plt.figure()\n",
    "sns.heatmap(iris_df.corr(),\n",
    "            vmin=-1,\n",
    "            vmax=1,        \n",
    "            annot=True,             # add cell values on cell\n",
    "            linewidth=0.5,          # linewidth separating cells\n",
    "            linecolor=\"k\",          # color of lines separating cells\n",
    "            cbar=True,              # add a colorbar\n",
    "            square=True,            # enforce square cells\n",
    "            #yticklabels=cols,      # list of names for col labels\n",
    "            #xticklabels=cols,      # list of names for col labels\n",
    "            annot_kws={'size': 20},\n",
    "            cmap=\"BuPu\",            # YlGnBu/ Blues / BuPu / Greens\n",
    "           )   \n",
    "\n"
   ]
  },
  {
   "cell_type": "code",
   "execution_count": null,
   "metadata": {},
   "outputs": [],
   "source": [
    "plt.figure(figsize=(4, 5))\n",
    "\n",
    "dependent_variable = \"petal_length\"\n",
    "\n",
    "g = sns.heatmap(iris_df.corr()[[dependent_variable]].sort_values(by=dependent_variable),\n",
    "                    annot=True,\n",
    "                    cmap='coolwarm',\n",
    "                    vmin=-1,\n",
    "                    vmax=1)\n",
    "\n",
    " "
   ]
  },
  {
   "cell_type": "markdown",
   "metadata": {},
   "source": [
    "## sns.histplot"
   ]
  },
  {
   "cell_type": "code",
   "execution_count": null,
   "metadata": {},
   "outputs": [],
   "source": [
    "fig, ax = plt.subplots()\n",
    "sns.histplot(data=iris_df,\n",
    "             x=\"sepal_length\",\n",
    "             hue=\"species\",\n",
    "             stat=\"count\",           # {“count”, “frequency”, “density”, “probability”}\n",
    "             #bins=\"auto\",           # str, number, vector, or a pair of such values\n",
    "             #binwidth=None,         # number or pair of numbers\n",
    "             discrete=None,          # bool\n",
    "             cumulative=False,       # bool\n",
    "             common_bins=True,       # bool\n",
    "             common_norm=True,       # bool\n",
    "             multiple=\"layer\",       # {“layer”, “dodge”, “stack”, “fill”}\n",
    "             element=\"bars\",         # {“bars”, “step”, “poly”}\n",
    "             fill=True,              # bool\n",
    "             shrink=1,               # number\n",
    "             kde=False,              # bool\n",
    "             pmax=None,              # number or None\n",
    "             cbar=False,             # bool\n",
    "             palette=None,           # \n",
    "             color=None,             # \n",
    "             legend=True,            # bool\n",
    ")\n",
    "\n",
    "\n"
   ]
  },
  {
   "cell_type": "markdown",
   "metadata": {},
   "source": [
    "## sns.lineplot"
   ]
  },
  {
   "cell_type": "code",
   "execution_count": null,
   "metadata": {},
   "outputs": [],
   "source": [
    "plt.figure()\n",
    "sns.lineplot(data=iris_df,\n",
    "             x='petal_length',\n",
    "             y='petal_width',\n",
    "             hue=\"species\",\n",
    "             style=\"species\",\n",
    "             markers=True,\n",
    "    )"
   ]
  },
  {
   "cell_type": "markdown",
   "metadata": {},
   "source": [
    "## sns.lmplot"
   ]
  },
  {
   "cell_type": "code",
   "execution_count": null,
   "metadata": {},
   "outputs": [],
   "source": [
    "sns.lmplot(data=iris_df,\n",
    "           x=\"petal_length\", y=\"petal_width\", \n",
    "           hue=\"species\",\n",
    "           col=\"species\",           # add other plots column-wise\n",
    "           #col_wrap=2,              # wrap plots \n",
    "           #row=\"sepal_length\",      # add other plots row-wise\n",
    "           #x_estimator=np.mean,     # choose aggregation\n",
    "           x_jitter=.05,\n",
    "           #order=2,                 # change the order of regression\n",
    "           #ci=None,                 # enable confidence interval\n",
    "           #robust=True,             # exclude outliers from regression\n",
    "           #logistic=True,           # use logistic curve (usefull for binary data)\n",
    "           #markers=[\"o\", \"x\", \"*\"], # use different markers for hue\n",
    "           #palette=\"Set1\",          # change color palet\n",
    "           #markers=[\"o\", \"x\", \"+\"],\n",
    "           scatter_kws={\"s\": 80,       # scatter kwargs\n",
    "                       # \"color\":\"red\"\n",
    "                       },\n",
    "          #line_kws={'color': 'red'}   # line kwargs\n",
    "          ); #"
   ]
  },
  {
   "cell_type": "markdown",
   "metadata": {},
   "source": [
    "## sns.jointplot"
   ]
  },
  {
   "cell_type": "code",
   "execution_count": null,
   "metadata": {},
   "outputs": [],
   "source": [
    "sns.jointplot(data=iris_df,\n",
    "              x=\"petal_length\",\n",
    "              y=\"sepal_length\",\n",
    "              hue=\"species\")"
   ]
  },
  {
   "cell_type": "markdown",
   "metadata": {},
   "source": [
    "## sns.jointplot(kind=\"kde\")"
   ]
  },
  {
   "cell_type": "code",
   "execution_count": null,
   "metadata": {},
   "outputs": [],
   "source": [
    "sns.jointplot(data=iris_df, kind=\"kde\",\n",
    "              x=\"petal_length\", \n",
    "              y=\"petal_width\",\n",
    "              hue=\"species\"\n",
    "    )"
   ]
  },
  {
   "cell_type": "markdown",
   "metadata": {},
   "source": [
    "## sns.pairplot"
   ]
  },
  {
   "cell_type": "code",
   "execution_count": null,
   "metadata": {},
   "outputs": [],
   "source": [
    "\n",
    "sns.pairplot(data=iris_df, \n",
    "             kind=\"reg\",             # plot-kind in cross cells : {‘scatter’, ‘kde’, ‘hist’, ‘reg’}\n",
    "             #vars=,\n",
    "             #x_vars=[\"sepal_length\", \"sepal_width\", \"petal_width\"], # restrict variables on xaxis\n",
    "             #y_vars=[\"sepal_length\", \"sepal_width\", \"sepal_width\"], # restrict variables on yaxis\n",
    "             hue=\"species\",\n",
    "             diag_kind=\"kde\",            # plot-kind on diagonal cells : \"auto\", \"hist\", \"kde\", None\n",
    "             height=1.5,                 # height of cell\n",
    "             aspect=1,                   # width wrt heigth\n",
    "             palette=\"Set2\",\n",
    "             corner=True,              # low-left-triangle plots only\n",
    "             #plot_kws={'color':'green'}\n",
    "            )#.map_upper(sns.kdeplot, cmap=\"Blues_d\")"
   ]
  },
  {
   "cell_type": "markdown",
   "metadata": {},
   "source": [
    "## sns.regplot"
   ]
  },
  {
   "cell_type": "code",
   "execution_count": null,
   "metadata": {},
   "outputs": [],
   "source": [
    "plt.figure()\n",
    "sns.regplot(data=iris_df, \n",
    "            x=\"sepal_width\",\n",
    "            y=\"sepal_length\",\n",
    "            order=1,      # change the order of regression, exclusive with order/logistic/robust/logx\n",
    "            scatter=True, # plot scatter \n",
    "            fit_reg=True,  # plot regression line\n",
    "            ci=100,        # confidence interval : None to hide\n",
    "            #robust=True,   # exclude outliers from regression\n",
    "            #x_jitter=.1   # jitter when x is discrete\n",
    "            x_estimator=np.mean, # add mean estimator\n",
    "            #logx=True,     # use log regression, exclusive with order/logistic/robust/logx\n",
    "            #logistic=False, # use logistic regression (for binary data), exclusive use with order/logistic/robust/logx\n",
    "           )"
   ]
  },
  {
   "cell_type": "markdown",
   "metadata": {},
   "source": [
    "## sns.relplot"
   ]
  },
  {
   "cell_type": "code",
   "execution_count": null,
   "metadata": {},
   "outputs": [],
   "source": [
    "\n",
    "sns.relplot(\n",
    "    data=tips_df, \n",
    "    #kind=\"line\", # None for scatter, line\n",
    "    x=\"total_bill\",\n",
    "    y=\"tip\",\n",
    "    col=\"time\",\n",
    "    row=\"sex\",\n",
    "    hue=\"day\",\n",
    "    size=\"size\", \n",
    "    height=3,\n",
    "    aspect=1,\n",
    "    #style=\"species\",\n",
    "    #col_wrap=2, \n",
    "    facet_kws=dict(sharex=False),\n",
    ")\n"
   ]
  },
  {
   "cell_type": "markdown",
   "metadata": {},
   "source": [
    "## sns.residplot"
   ]
  },
  {
   "cell_type": "code",
   "execution_count": null,
   "metadata": {},
   "outputs": [],
   "source": [
    "plt.figure()\n",
    "# compute regression and plot residuals\n",
    "sns.residplot(data=iris_df, \n",
    "              x=\"sepal_length\",\n",
    "              y=\"sepal_width\",\n",
    "              scatter_kws={\"s\": 80})\n",
    " "
   ]
  },
  {
   "cell_type": "markdown",
   "metadata": {},
   "source": [
    "## sns.scatterplot"
   ]
  },
  {
   "cell_type": "code",
   "execution_count": null,
   "metadata": {},
   "outputs": [],
   "source": [
    "plt.figure()\n",
    "sns.scatterplot(data=iris_df,\n",
    "                x='sepal_length',\n",
    "                y='sepal_width',\n",
    "                hue=\"species\",\n",
    "                style=\"species\",\n",
    "                size=\"petal_width\",  # size of markers\n",
    "                sizes=(10,300),      # min and max markers sizes\n",
    "               )\n"
   ]
  },
  {
   "cell_type": "markdown",
   "metadata": {},
   "source": [
    "# Interactive iris : start here !"
   ]
  },
  {
   "cell_type": "code",
   "execution_count": null,
   "metadata": {},
   "outputs": [],
   "source": [
    "%matplotlib ipympl\n",
    "import seaborn as sns\n",
    "import pandas as pd\n",
    "import ipywidgets\n",
    "import matplotlib.pyplot as plt\n",
    "\n",
    "iris_df = sns.load_dataset(\"iris\")\n",
    "\n",
    "# all cols\n",
    "iris_cols = list(iris_df.columns)\n",
    "# all cols w None\n",
    "iris_cols_ext = list(iris_cols)\n",
    "iris_cols_ext.append(None)\n",
    "# numerical features\n",
    "iris_num_cols = list(iris_cols)\n",
    "iris_num_cols.remove(\"species\")\n",
    "# numerical features w None\n",
    "iris_num_cols_ext = list(iris_num_cols)\n",
    "iris_num_cols_ext.append(None)"
   ]
  },
  {
   "cell_type": "markdown",
   "metadata": {},
   "source": [
    "## sns.catplot(kind=\"count\")"
   ]
  },
  {
   "cell_type": "code",
   "execution_count": null,
   "metadata": {},
   "outputs": [],
   "source": [
    "@ipywidgets.interact\n",
    "def plot(ys=iris_cols):         \n",
    "    sns.catplot(kind=\"count\", data=iris_df,\n",
    "                y=ys)"
   ]
  },
  {
   "cell_type": "markdown",
   "metadata": {},
   "source": [
    "## sns.catplot(kind=\"boxplot\")"
   ]
  },
  {
   "cell_type": "code",
   "execution_count": null,
   "metadata": {},
   "outputs": [],
   "source": [
    "# stripplot plot : univariate counts\n",
    "@ipywidgets.interact\n",
    "def plot(x=iris_cols, y=iris_cols, hue=iris_cols):   \n",
    "    sns.catplot(kind=\"box\", data=iris_df,\n",
    "                x=x,\n",
    "                y=y,\n",
    "                hue=hue)"
   ]
  },
  {
   "cell_type": "markdown",
   "metadata": {},
   "source": [
    "## sns.caplot(kind=\"boxen\")"
   ]
  },
  {
   "cell_type": "code",
   "execution_count": null,
   "metadata": {},
   "outputs": [],
   "source": [
    "# stripplot plot : univariate counts\n",
    "@ipywidgets.interact\n",
    "def plot(x=iris_cols, y=iris_cols, hue=iris_cols):   \n",
    "    sns.catplot(kind=\"boxen\", data=iris_df,\n",
    "                x=x, \n",
    "                y=y, hue=hue)"
   ]
  },
  {
   "cell_type": "markdown",
   "metadata": {},
   "source": [
    "## sns.caplot(kind=\"point\")"
   ]
  },
  {
   "cell_type": "code",
   "execution_count": null,
   "metadata": {},
   "outputs": [],
   "source": [
    "@ipywidgets.interact\n",
    "def plot(x=iris_cols, y=iris_cols, hue=iris_cols):\n",
    "    sns.catplot(kind=\"point\", data=iris_df, \n",
    "                x=x,\n",
    "                y=y, \n",
    "                hue=hue)"
   ]
  },
  {
   "cell_type": "markdown",
   "metadata": {},
   "source": [
    "## sns.caplot(kind=\"violin\")"
   ]
  },
  {
   "cell_type": "code",
   "execution_count": null,
   "metadata": {},
   "outputs": [],
   "source": [
    "@ipywidgets.interact\n",
    "def plot(x=iris_cols, y=iris_cols, hue=iris_cols, col=iris_cols_ext):   \n",
    "    sns.catplot(kind=\"violin\", data=iris_df,\n",
    "                x=x,\n",
    "                y=y,\n",
    "                hue=hue,\n",
    "                col=col,\n",
    "                inner=\"stick\", \n",
    "                split=False,      # hue level only\n",
    "                palette=\"pastel\")"
   ]
  },
  {
   "cell_type": "markdown",
   "metadata": {},
   "source": [
    "## sns.catplot(kind=\"strip\")"
   ]
  },
  {
   "cell_type": "code",
   "execution_count": null,
   "metadata": {},
   "outputs": [],
   "source": [
    "@ipywidgets.interact\n",
    "def plot(x=iris_cols, y=iris_cols, hue=iris_cols):          \n",
    "        sns.catplot(kind=\"strip\", data=iris_df,\n",
    "                    x=x,\n",
    "                    y=y,\n",
    "                    hue=hue,\n",
    "                    #jitter=True,\n",
    "                    dodge=True  # formerly \"split\"\n",
    "                   )\n",
    "\n"
   ]
  },
  {
   "cell_type": "markdown",
   "metadata": {},
   "source": [
    "## sns.catplot(kind=\"swarm\")"
   ]
  },
  {
   "cell_type": "code",
   "execution_count": null,
   "metadata": {},
   "outputs": [],
   "source": [
    "@ipywidgets.interact\n",
    "def plot(x=iris_cols, y=iris_cols, hue=iris_cols):   \n",
    "    #plt.figure()\n",
    "    sns.catplot(kind=\"swarm\", data=iris_df,\n",
    "                x=x,\n",
    "                y=y,\n",
    "                hue=hue)"
   ]
  },
  {
   "cell_type": "markdown",
   "metadata": {},
   "source": [
    "## sns.heatmap"
   ]
  },
  {
   "cell_type": "code",
   "execution_count": null,
   "metadata": {},
   "outputs": [],
   "source": [
    "@ipywidgets.interact\n",
    "def plot(cols=ipywidgets.SelectMultiple(options=iris_cols), \n",
    "         annot=True, \n",
    "         cbar=True, \n",
    "         square=True):   \n",
    "    fig, ax = plt.subplots()\n",
    "    cols = list(cols)\n",
    "    if len(cols) == 0:\n",
    "        cols = list(iris_cols)\n",
    "    sns.heatmap(iris_df[cols].corr(),\n",
    "                vmin=-1,\n",
    "                vmax=1,\n",
    "                annot=annot,\n",
    "                linewidth=0.5, # linewidth separating cells\n",
    "                linecolor=\"k\", # color of lines separating cells\n",
    "                cbar=cbar,    # add a colorbar\n",
    "                square=square # enforce square cells\n",
    "        )\n",
    "    plt.tight_layout()\n"
   ]
  },
  {
   "cell_type": "code",
   "execution_count": null,
   "metadata": {},
   "outputs": [],
   "source": [
    "def heatmap_numeric_w_dependent_variable(df, dependent_variable):\n",
    "    '''\n",
    "    Takes df, a dependant variable as str\n",
    "    Returns a heatmap of all independent variables' correlations with dependent variable\n",
    "    '''\n",
    "    plt.figure(figsize=(8, 10))\n",
    "    g = sns.heatmap(df.corr()[[dependent_variable]].sort_values(by=dependent_variable),\n",
    "                    annot=True,\n",
    "                    cmap='coolwarm',\n",
    "                    vmin=-1,\n",
    "                    vmax=1)\n",
    "    return g\n"
   ]
  },
  {
   "cell_type": "markdown",
   "metadata": {},
   "source": [
    "## sns.histplot"
   ]
  },
  {
   "cell_type": "code",
   "execution_count": null,
   "metadata": {},
   "outputs": [],
   "source": [
    "\n",
    "numerical_cols = [\"sepal_length\", \"sepal_width\", \"petal_length\", \"petal_width\"]\n",
    "\n",
    "@ipywidgets.interact\n",
    "def plot(hue=iris_cols, \n",
    "         x=iris_cols,\n",
    "         stat=[\"count\", \"frequency\", \"density\", \"probability\"]):\n",
    "    fig, ax = plt.subplots()\n",
    "    sns.histplot(\n",
    "        data=iris_df,\n",
    "        x=x, \n",
    "        stat=stat,         # \"count\", \"frequency\", \"density\", \"probability\"\n",
    "        # y=ys,\n",
    "        hue=hue,\n",
    "        discrete=False,\n",
    "        cumulative=False,\n",
    "        fill=False,\n",
    "        kde=True,\n",
    "        multiple=\"layer\",   # {“layer”, “dodge”, “stack”, “fill”}\n",
    "        element=\"bars\",      # {\"bars\", \"step\", \"poly\"—\n",
    "        cbar=True,\n",
    "    )"
   ]
  },
  {
   "cell_type": "markdown",
   "metadata": {},
   "source": [
    "## sns.pairplot "
   ]
  },
  {
   "cell_type": "code",
   "execution_count": null,
   "metadata": {},
   "outputs": [],
   "source": [
    "\n",
    "@ipywidgets.interact\n",
    "def plot(hue=iris_cols_ext, diag_kind=[\"auto\", \"hist\", \"kde\", None], \n",
    "         kind=[\"scatter\", \"kde\", \"hist\", \"reg\"],\n",
    "        corner=False):\n",
    "    sns.pairplot(data=iris_df, \n",
    "             kind=kind,                              #plot-kind in cross cells : {‘scatter’, ‘kde’, ‘hist’, ‘reg’}\n",
    "             #vars=,\n",
    "             x_vars=iris_num_cols, # restrict variables on xaxis\n",
    "             y_vars=iris_num_cols, # restrict variables on yaxis\n",
    "             hue=hue,\n",
    "             diag_kind=diag_kind,                    # plot-kind on diagonal cells : \"auto\", \"hist\", \"kde\", None\n",
    "             height=1.5,                               # height of cell\n",
    "             aspect=1,                               # width wrt heigth\n",
    "             palette=\"Set2\",\n",
    "             corner=corner,    # low-left-triangle plots only : True/false\n",
    "            )\n"
   ]
  },
  {
   "cell_type": "markdown",
   "metadata": {},
   "source": [
    "## sns.regplot"
   ]
  },
  {
   "cell_type": "code",
   "execution_count": null,
   "metadata": {},
   "outputs": [],
   "source": [
    "\n",
    "\n",
    "import numpy as np\n",
    "\n",
    "\n",
    "@ipywidgets.interact\n",
    "def plot(x=iris_num_cols, y=iris_num_cols, fit_reg=True, scatter=True, x_estimator=[None, np.mean]):\n",
    "    plt.figure()\n",
    "    sns.regplot(data=iris_df, \n",
    "            x=x, y=y,\n",
    "            order=1,      # change the order of regression, exclusive with order/logistic/robust/logx\n",
    "            scatter=scatter, # plot scatter \n",
    "            fit_reg=fit_reg,  # plot regression line\n",
    "            ci=100,        # confidence interval : None to hide\n",
    "            x_bins=None,     # number of x bins for plotting, int or None\n",
    "            #robust=True,   # exclude outliers from regression\n",
    "            #x_jitter=.1   # jitter when x is discrete\n",
    "            x_estimator=x_estimator, # add mean estimator : None or callable(vector)->scalar\n",
    "            #logx=True,     # use log regression, exclusive with order/logistic/robust/logx\n",
    "            #logistic=False, # use logistic regression (for binary data), exclusive use with order/logistic/robust/logx\n",
    "           )"
   ]
  },
  {
   "cell_type": "code",
   "execution_count": null,
   "metadata": {},
   "outputs": [],
   "source": []
  },
  {
   "cell_type": "markdown",
   "metadata": {},
   "source": [
    "# JointGrid"
   ]
  },
  {
   "cell_type": "markdown",
   "metadata": {},
   "source": [
    "Grid for drawing a bivariate plot with marginal univariate plots.\n",
    "Many plots can be drawn by using the figure-level interface jointplot(). Use this class directly when you need more flexibility.\n",
    "```python\n",
    "seaborn.JointGrid(*,\n",
    "    x=None,\n",
    "    y=None,\n",
    "    data=None,\n",
    "    height=6, \n",
    "    ratio=5, \n",
    "    space=0.2, \n",
    "    dropna=False,\n",
    "    xlim=None, \n",
    "    ylim=None, \n",
    "    size=None,\n",
    "    marginal_ticks=False, \n",
    "    hue=None, \n",
    "    palette=None, \n",
    "    hue_order=None,\n",
    "    hue_norm=None)\n",
    "```\n",
    "\n",
    "JointGrid methods: \n",
    " - plot(self, joint_func, marginal_func, **kwargs) :Draw the plot by passing functions for joint and marginal axes.\n",
    " - plot_joint(self, func, **kwargs) : Draw a bivariate plot on the joint axes of the grid. \n",
    " - plot_marginals(self, func, **kwargs) : Draw univariate plots on each marginal axes.\n",
    " - savefig(self, *args, **kwargs) : Save the figure using a “tight” bounding box by default.\n",
    " - set_axis_labels(self[, xlabel, ylabel]) : Set axis labels on the bivariate axes.\n",
    "\n",
    "Initialize the grid : \n",
    "sns.JointGrid(data=penguins, x=\"bill_length_mm\", y=\"bill_depth_mm\")\n",
    "The simplest plotting method, JointGrid.plot() accepts a pair of functions (one for the joint axes and one for both marginal axes):\n",
    "g.plot(sns.scatterplot, sns.histplot)\n",
    "g.plot(sns.scatterplot, sns.histplot, alpha=.7, edgecolor=\".2\", linewidth=.5)\n",
    "g.plot_joint(sns.scatterplot, s=100, alpha=.5)\n",
    "g.plot_marginals(sns.histplot, kde=True)\n",
    "g = sns.JointGrid()\n",
    "\n",
    "You can then plot by accessing the ax_joint, ax_marg_x, and ax_marg_y attributes, which are matplotlib.axes.Axes objects:\n",
    "\n",
    "g = sns.JointGrid()\n",
    "x, y = penguins[\"bill_length_mm\"], penguins[\"bill_depth_mm\"]\n",
    "sns.scatterplot(x=x, y=y, ec=\"b\", fc=\"none\", s=100, linewidth=1.5, ax=g.ax_joint)\n",
    "sns.histplot(x=x, fill=False, linewidth=2, ax=g.ax_marg_x)\n",
    "sns.kdeplot(y=y, linewidth=2, ax=g.ax_marg_y)\n",
    "\n",
    "g.plot(sns.regplot, sns.boxplot)\n",
    "g = sns.JointGrid(data=penguins, x=\"bill_length_mm\", y=\"bill_depth_mm\", hue=\"species\")\n",
    "g.plot(sns.scatterplot, sns.histplot)\n",
    "\n",
    "The figure will always be square (unless you resize it at the matplotlib layer), but its overall size and layout are configurable. The size is controlled by the height parameter. The relative ratio between the joint and marginal axes is controlled by ratio, and the amount of space between the plots is controlled by space:\n",
    "\n",
    "sns.JointGrid(height=4, ratio=2, space=.05)\n",
    "\n",
    "sns.JointGrid(marginal_ticks=True)\n",
    "sns.JointGrid(xlim=(-2, 5), ylim=(0, 10))"
   ]
  },
  {
   "cell_type": "markdown",
   "metadata": {},
   "source": []
  },
  {
   "cell_type": "code",
   "execution_count": null,
   "metadata": {},
   "outputs": [],
   "source": []
  },
  {
   "cell_type": "code",
   "execution_count": null,
   "metadata": {},
   "outputs": [],
   "source": []
  },
  {
   "cell_type": "code",
   "execution_count": null,
   "metadata": {},
   "outputs": [],
   "source": []
  },
  {
   "cell_type": "markdown",
   "metadata": {},
   "source": [
    "# PairGrid"
   ]
  },
  {
   "cell_type": "markdown",
   "metadata": {},
   "source": [
    "Pair grid : use when pairplot is not enough\n",
    "\n",
    "PairGrid methods :\n",
    " - Map,\n",
    " - map_diag :\n",
    " - map_lower\n",
    " - map_offdiag\n",
    " - map_upper\n",
    " - savefig\n",
    " - set\n",
    " - tight_layout\n",
    " - add_legend()\n",
    " \n",
    "Possible plot functions : \n",
    " - plt.hist\n",
    " - plt.scatter\n",
    " - sns.histplot\n",
    " - sns.kdeplot\n",
    " \n",
    "Signature : \n",
    " ```python\n",
    "seaborn.PairGrid(\n",
    "    data, *,\n",
    "    hue=None,\n",
    "    hue_order=None,\n",
    "    palette=None,\n",
    "    hue_kws=None,\n",
    "    vars=None,       # subset of vars\n",
    "    x_vars=None,     # list of vars to plot on xaxis\n",
    "    y_vars=None,     # list of vars to plot on yaxis\n",
    "    corner=False,    # bool : If True, don’t add axes to the upper (off-diagonal) triangle of the grid, making this a “corner” plot.\n",
    "    diag_sharey=True,\n",
    "    height=2.5,\n",
    "    aspect=1,\n",
    "    layout_pad=0.5,\n",
    "    despine=True,\n",
    "    dropna=False,\n",
    "    size=None\n",
    ")\n",
    "```\n"
   ]
  },
  {
   "cell_type": "code",
   "execution_count": null,
   "metadata": {},
   "outputs": [],
   "source": [
    "# creation of PairGrid\n",
    "iris_pg = sns.PairGrid(iris, hue=”species”, vars=list_of_cols)\n",
    "\n",
    "# map function to plots\n",
    "iris_pg.map(plt.scatter)\n",
    "# map function to diagonal plots\n",
    "iris_pg.map_diag(plt.hist)\n",
    "iris_pg.map_diag(sns.histplot, hue=None, color=\".3\") # don’t use the hue on the diagonal\n",
    "iris_pg.map_diag(sns.kdeplot, lw = 3, legend = False);\n",
    "# map function to off-diagonal plots\n",
    "iris_pg.map_offdiag(plt.scatter)\n",
    "iris_pg.map_offdiag(sns.scatterplot, size=iris[\"sepal_length\"])\n",
    "# map function to upper triangle plots\n",
    "iris_pg.map_upper(plt.scatter)\n",
    "iris_pg.map_upper(\n",
    "    plt.scatter,\n",
    "    x_vars=[“petal_length”, “petal_width”],\n",
    "    y_vars=[“sepal_length”, “sepal_width”],\n",
    ")\n",
    "# map function to lower triangle plots\n",
    "iris_pg.map_lower(sns.kdeplot)\n",
    "\n",
    "# add legend\n",
    "iris_pg.add_legend()\n",
    "iris_pg.add_legend(title=\"\", adjust_subtitles=True)\n",
    "\n",
    "# set \n",
    "iris_pg.set(ylim=(-1, 11), yticks=[0, 5, 10])"
   ]
  },
  {
   "cell_type": "markdown",
   "metadata": {},
   "source": [
    "Add corr-coefs to plots"
   ]
  },
  {
   "cell_type": "code",
   "execution_count": null,
   "metadata": {},
   "outputs": [],
   "source": [
    "from scipy import stats\n",
    " \n",
    "mean = np.zeros(3)\n",
    "cov = np.random.uniform(.2, .4, (3, 3))\n",
    "cov += cov.T\n",
    "cov[np.diag_indices(3)] = 1\n",
    "data = np.random.multivariate_normal(mean, cov, 100)\n",
    "df = pd.DataFrame(data, columns=[\"X\", \"Y\", \"Z\"])\n",
    " \n",
    "def corrfunc(x, y, **kws):\n",
    "    r, _ = stats.pearsonr(x, y)\n",
    "    ax = plt.gca()\n",
    "    ax.annotate(\"r = {:.2f}\".format(r),\n",
    "                xy=(.1, .9), xycoords=ax.transAxes)\n",
    "\n",
    "g = sns.PairGrid(df, palette=[\"red\"])\n",
    "g.map_upper(plt.scatter, s=10)\n",
    "g.map_diag(sns.distplot, kde=False)\n",
    "g.map_lower(sns.kdeplot, cmap=\"Blues_d\")\n",
    "g.map_lower(corrfunc)"
   ]
  },
  {
   "cell_type": "markdown",
   "metadata": {},
   "source": [
    "# Figure-level plots vs axes-level plots\n",
    "\n",
    "The following are figure level, that defaults to specific \n",
    "- displot :default to scatterplot\n",
    "- relplot : default to histplot\n",
    "- catplot : default to stripplot\n",
    "The figure-level functions return a FacetGrid instance\n",
    "They accept a “col” to facet and a “kind” arg\n",
    " \n",
    "The axes-level functions are written to act like drop-in replacements for matplotlib functions. While they add axis labels and legends automatically, they don’t modify anything beyond the axes that they are drawn into.\n",
    "The axes-level functions call matplotlib.pyplot.gca() internally, which hooks into the matplotlib state-machine interface so that they draw their plots on the “currently-active” axes. But they additionally accept an ax= argument, which integrates with the object-oriented interface and lets you specify exactly where each plot should go.\n",
    "\n",
    "In contrast, figure-level functions cannot (easily) be composed with other plots. By design, they “own” their own figure, including its initialization, so there’s no notion of using a figure-level function to draw a plot onto an existing axes. This constraint allows the figure-level functions to implement features such as putting the legend outside of the plot.\n"
   ]
  },
  {
   "cell_type": "markdown",
   "metadata": {},
   "source": [
    "# Other figure-level plots : PairGrid vs FacetGrid \n",
    "2 other functions : jointplot and pairplot\n",
    "Two important plotting functions in seaborn don’t fit cleanly into the classification scheme discussed above. These functions, jointplot() and pairplot(), employ multiple kinds of plots from different modules to represent mulitple aspects of a dataset in a single figure. Both plots are figure-level functions and create figures with multiple subplots by default. But they use different objects to manage the figure: JointGrid and PairGrid, respectively.\n",
    " \n",
    "It’s important to understand the differences between a FacetGrid and a PairGrid. In the former, each facet shows the same relationship conditioned on different levels of other variables. In the latter, each plot shows a different relationship\n",
    " \n",
    " "
   ]
  }
 ],
 "metadata": {
  "kernelspec": {
   "display_name": "Python 3",
   "language": "python",
   "name": "python3"
  },
  "language_info": {
   "codemirror_mode": {
    "name": "ipython",
    "version": 3
   },
   "file_extension": ".py",
   "mimetype": "text/x-python",
   "name": "python",
   "nbconvert_exporter": "python",
   "pygments_lexer": "ipython3",
   "version": "3.7.4"
  },
  "toc-autonumbering": true,
  "toc-showcode": false,
  "toc-showmarkdowntxt": false,
  "toc-showtags": false
 },
 "nbformat": 4,
 "nbformat_minor": 4
}
