{
 "cells": [
  {
   "cell_type": "code",
   "execution_count": 1,
   "metadata": {},
   "outputs": [
    {
     "data": {
      "application/vnd.jupyter.widget-view+json": {
       "model_id": "d07acf2e6ba948e6912c3e89190a98dc",
       "version_major": 2,
       "version_minor": 0
      },
      "text/plain": [
       "VBox(children=(interactive(children=(FloatSlider(value=3.0, description='Randomness:', max=50.0, step=3.0), Ou…"
      ]
     },
     "metadata": {},
     "output_type": "display_data"
    }
   ],
   "source": [
    "import bqplot as bq\n",
    "import numpy as np\n",
    "import ipywidgets as widgets\n",
    "\n",
    "\n",
    "def calcSlope(num_points, slope):\n",
    "    a = np.linspace(0, 9, num_points)\n",
    "    b = a * slope\n",
    "\n",
    "    line1.x = a\n",
    "    line1.y = b\n",
    "\n",
    "\n",
    "def calcXY(num_points, randNum):\n",
    "    x = np.linspace(3, 9, num_points)\n",
    "    y = x\n",
    "\n",
    "    #add randomness to scatter\n",
    "    x = np.random.uniform(low=1-randNum/100, high=1+ randNum/100, size=(len(x))) * x\n",
    "    y = np.random.uniform(low=1-randNum/100, high=1+ randNum/100, size=(len(y))) * y\n",
    "\n",
    "    #format & plot the figure\n",
    "    x_sc.min = x.min()\n",
    "    x_sc.max = x.max() + 1\n",
    "\n",
    "    scat.x = x\n",
    "    scat.y = y        \n",
    "\n",
    "\n",
    "\n",
    "def rand_int(rand):\n",
    "    calcXY(num_i.children[0].value, rand)\n",
    "\n",
    "def num_points_int(num_points):\n",
    "    calcXY(num_points, rand_i.children[0].value)\n",
    "    calcSlope(num_points, slope_i.children[0].value)\n",
    "\n",
    "def slope_int(slope):\n",
    "    calcSlope(num_i.children[0].value, slope)\n",
    "\n",
    "\n",
    "\n",
    "rand_i = widgets.interactive(rand_int, \n",
    "                 rand = widgets.FloatSlider(\n",
    "                                value=3,\n",
    "                                min=0,\n",
    "                                max=50,\n",
    "                                step=3,\n",
    "                                description='Randomness:', num_points=(10, 50, 5)\n",
    "                                )\n",
    "                              )\n",
    "\n",
    "\n",
    "num_i = widgets.interactive(num_points_int, \n",
    "                 num_points = widgets.IntSlider(\n",
    "                                value=20,\n",
    "                                min=10,\n",
    "                                max=50,\n",
    "                                step=5,\n",
    "                                description='Number of points:'\n",
    "                                )\n",
    "                              )\n",
    "\n",
    "\n",
    "slope_i = widgets.interactive(slope_int, \n",
    "                 slope=widgets.FloatSlider(\n",
    "                                value=1,\n",
    "                                min=-1,\n",
    "                                max=5,\n",
    "                                step=0.1,\n",
    "                                description='Slope'\n",
    "                                )\n",
    "                              )\n",
    "\n",
    "\n",
    "# Create the initial bqplot figure\n",
    "x_sc = bq.LinearScale()\n",
    "ax_x = bq.Axis(label='X', scale=x_sc, grid_lines='solid', tick_format='0f')\n",
    "ax_y = bq.Axis(label='Y', scale=x_sc, orientation='vertical', tick_format='0.2f')\n",
    "\n",
    "line1 = bq.Lines( scales={'x': x_sc, 'y': x_sc} , colors=['blue'],display_legend = False, labels=['y1'],stroke_width = 1.0)\n",
    "scat = bq.Scatter(scales={'x': x_sc, 'y': x_sc} , colors=['red'],display_legend = False, labels=['y1'],stroke_width = 1.0)\n",
    "\n",
    "\n",
    "calcSlope(num_i.children[0].value, slope_i.children[0].value)\n",
    "calcXY(num_i.children[0].value, rand_i.children[0].value)\n",
    "\n",
    "m_fig = dict(left=100, top=50, bottom=50, right=100)\n",
    "fig = bq.Figure(axes=[ax_x, ax_y], marks=[line1,scat], fig_margin=m_fig, animation_duration = 1000)\n",
    "\n",
    "widgets.VBox([rand_i,num_i,slope_i,fig])"
   ]
  },
  {
   "cell_type": "code",
   "execution_count": null,
   "metadata": {},
   "outputs": [],
   "source": []
  }
 ],
 "metadata": {
  "kernelspec": {
   "display_name": "Python 3",
   "language": "python",
   "name": "python3"
  },
  "language_info": {
   "codemirror_mode": {
    "name": "ipython",
    "version": 3
   },
   "file_extension": ".py",
   "mimetype": "text/x-python",
   "name": "python",
   "nbconvert_exporter": "python",
   "pygments_lexer": "ipython3",
   "version": "3.7.4"
  }
 },
 "nbformat": 4,
 "nbformat_minor": 4
}
